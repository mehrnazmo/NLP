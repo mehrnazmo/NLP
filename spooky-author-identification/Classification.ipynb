{
 "cells": [
  {
   "cell_type": "code",
   "execution_count": 32,
   "metadata": {},
   "outputs": [],
   "source": [
    "import pandas as pd\n",
    "import numpy as np\n",
    "import nltk\n",
    "import sklearn\n",
    "from sklearn import preprocessing, model_selection\n",
    "from sklearn.feature_extraction.text import TfidfVectorizer, CountVectorizer\n",
    "from sklearn.linear_model import LogisticRegression\n",
    "from sklearn.svm import SVC\n",
    "from sklearn.naive_bayes import MultinomialNB\n",
    "from sklearn import decomposition\n",
    "from sklearn.linear_model import perceptron\n",
    "from sklearn.neural_network import MLPClassifier\n",
    "import gensim\n",
    "import torch\n",
    "import torch.autograd as ag\n",
    "# from gensim.models.tfidfmodel import TfidfModel\n",
    "eps = 1e-15"
   ]
  },
  {
   "cell_type": "markdown",
   "metadata": {},
   "source": [
    "# Loading Data"
   ]
  },
  {
   "cell_type": "code",
   "execution_count": 2,
   "metadata": {},
   "outputs": [],
   "source": [
    "train = pd.read_csv(\"train.csv\")\n",
    "test = pd.read_csv(\"test.csv\")\n",
    "sample = pd.read_csv(\"sample_submission.csv\")"
   ]
  },
  {
   "cell_type": "code",
   "execution_count": 3,
   "metadata": {},
   "outputs": [
    {
     "data": {
      "text/html": [
       "<div>\n",
       "<style scoped>\n",
       "    .dataframe tbody tr th:only-of-type {\n",
       "        vertical-align: middle;\n",
       "    }\n",
       "\n",
       "    .dataframe tbody tr th {\n",
       "        vertical-align: top;\n",
       "    }\n",
       "\n",
       "    .dataframe thead th {\n",
       "        text-align: right;\n",
       "    }\n",
       "</style>\n",
       "<table border=\"1\" class=\"dataframe\">\n",
       "  <thead>\n",
       "    <tr style=\"text-align: right;\">\n",
       "      <th></th>\n",
       "      <th>id</th>\n",
       "      <th>text</th>\n",
       "      <th>author</th>\n",
       "    </tr>\n",
       "  </thead>\n",
       "  <tbody>\n",
       "    <tr>\n",
       "      <th>0</th>\n",
       "      <td>id26305</td>\n",
       "      <td>This process, however, afforded me no means of...</td>\n",
       "      <td>EAP</td>\n",
       "    </tr>\n",
       "    <tr>\n",
       "      <th>1</th>\n",
       "      <td>id17569</td>\n",
       "      <td>It never once occurred to me that the fumbling...</td>\n",
       "      <td>HPL</td>\n",
       "    </tr>\n",
       "    <tr>\n",
       "      <th>2</th>\n",
       "      <td>id11008</td>\n",
       "      <td>In his left hand was a gold snuff box, from wh...</td>\n",
       "      <td>EAP</td>\n",
       "    </tr>\n",
       "    <tr>\n",
       "      <th>3</th>\n",
       "      <td>id27763</td>\n",
       "      <td>How lovely is spring As we looked from Windsor...</td>\n",
       "      <td>MWS</td>\n",
       "    </tr>\n",
       "    <tr>\n",
       "      <th>4</th>\n",
       "      <td>id12958</td>\n",
       "      <td>Finding nothing else, not even gold, the Super...</td>\n",
       "      <td>HPL</td>\n",
       "    </tr>\n",
       "  </tbody>\n",
       "</table>\n",
       "</div>"
      ],
      "text/plain": [
       "        id                                               text author\n",
       "0  id26305  This process, however, afforded me no means of...    EAP\n",
       "1  id17569  It never once occurred to me that the fumbling...    HPL\n",
       "2  id11008  In his left hand was a gold snuff box, from wh...    EAP\n",
       "3  id27763  How lovely is spring As we looked from Windsor...    MWS\n",
       "4  id12958  Finding nothing else, not even gold, the Super...    HPL"
      ]
     },
     "execution_count": 3,
     "metadata": {},
     "output_type": "execute_result"
    }
   ],
   "source": [
    "train.head()"
   ]
  },
  {
   "cell_type": "code",
   "execution_count": 4,
   "metadata": {
    "scrolled": true
   },
   "outputs": [
    {
     "data": {
      "text/html": [
       "<div>\n",
       "<style scoped>\n",
       "    .dataframe tbody tr th:only-of-type {\n",
       "        vertical-align: middle;\n",
       "    }\n",
       "\n",
       "    .dataframe tbody tr th {\n",
       "        vertical-align: top;\n",
       "    }\n",
       "\n",
       "    .dataframe thead th {\n",
       "        text-align: right;\n",
       "    }\n",
       "</style>\n",
       "<table border=\"1\" class=\"dataframe\">\n",
       "  <thead>\n",
       "    <tr style=\"text-align: right;\">\n",
       "      <th></th>\n",
       "      <th>id</th>\n",
       "      <th>EAP</th>\n",
       "      <th>HPL</th>\n",
       "      <th>MWS</th>\n",
       "    </tr>\n",
       "  </thead>\n",
       "  <tbody>\n",
       "    <tr>\n",
       "      <th>0</th>\n",
       "      <td>id02310</td>\n",
       "      <td>0.403494</td>\n",
       "      <td>0.287808</td>\n",
       "      <td>0.308698</td>\n",
       "    </tr>\n",
       "    <tr>\n",
       "      <th>1</th>\n",
       "      <td>id24541</td>\n",
       "      <td>0.403494</td>\n",
       "      <td>0.287808</td>\n",
       "      <td>0.308698</td>\n",
       "    </tr>\n",
       "    <tr>\n",
       "      <th>2</th>\n",
       "      <td>id00134</td>\n",
       "      <td>0.403494</td>\n",
       "      <td>0.287808</td>\n",
       "      <td>0.308698</td>\n",
       "    </tr>\n",
       "    <tr>\n",
       "      <th>3</th>\n",
       "      <td>id27757</td>\n",
       "      <td>0.403494</td>\n",
       "      <td>0.287808</td>\n",
       "      <td>0.308698</td>\n",
       "    </tr>\n",
       "    <tr>\n",
       "      <th>4</th>\n",
       "      <td>id04081</td>\n",
       "      <td>0.403494</td>\n",
       "      <td>0.287808</td>\n",
       "      <td>0.308698</td>\n",
       "    </tr>\n",
       "  </tbody>\n",
       "</table>\n",
       "</div>"
      ],
      "text/plain": [
       "        id       EAP       HPL       MWS\n",
       "0  id02310  0.403494  0.287808  0.308698\n",
       "1  id24541  0.403494  0.287808  0.308698\n",
       "2  id00134  0.403494  0.287808  0.308698\n",
       "3  id27757  0.403494  0.287808  0.308698\n",
       "4  id04081  0.403494  0.287808  0.308698"
      ]
     },
     "execution_count": 4,
     "metadata": {},
     "output_type": "execute_result"
    }
   ],
   "source": [
    "sample.head()"
   ]
  },
  {
   "cell_type": "markdown",
   "metadata": {},
   "source": [
    "# Log Loss Function\n"
   ]
  },
  {
   "cell_type": "code",
   "execution_count": 5,
   "metadata": {},
   "outputs": [],
   "source": [
    "def multiclass_logloss(actual, predicted):\n",
    "    '''Calculated multi-class log loss for Kaggle competition\n",
    "    :actual: actual vector of the target classes \n",
    "    :predicted: matrix containing the predicted probability for each class\n",
    "    '''\n",
    "    if len(actual.shape)==1:\n",
    "        actual2 = np.zeros((predicted.shape[0],predicted.shape[1]))\n",
    "        for i, val in enumerate(actual):\n",
    "            actual2[i,val] = 1\n",
    "        actual = actual2\n",
    "        \n",
    "    predicted_clip = np.clip(predicted, eps, 1 - eps)\n",
    "    \n",
    "    return (-1.0 * (np.sum(actual*np.log(predicted_clip))) / actual.shape[0])"
   ]
  },
  {
   "cell_type": "code",
   "execution_count": 6,
   "metadata": {},
   "outputs": [],
   "source": [
    "### using sklearn to transfer authors to 0,1,2\n",
    "label_encoder = preprocessing.LabelEncoder()\n",
    "y = label_encoder.fit_transform(train.author.values)"
   ]
  },
  {
   "cell_type": "markdown",
   "metadata": {},
   "source": [
    "# Train-Validation Split"
   ]
  },
  {
   "cell_type": "code",
   "execution_count": 7,
   "metadata": {},
   "outputs": [],
   "source": [
    "### train/test split\n",
    "# shuffle before splitting, set random state for the same result regardless of iteration, \n",
    "# stratify: data is split in a stratified fashion, using this as the class labels.\n",
    "xtrain, xvalid, ytrain, yvalid = model_selection.train_test_split(train.text.values, y, \n",
    "                                                                  test_size=0.1, stratify=y, \n",
    "                                                                  random_state=42, shuffle=True)"
   ]
  },
  {
   "cell_type": "code",
   "execution_count": 8,
   "metadata": {},
   "outputs": [
    {
     "name": "stdout",
     "output_type": "stream",
     "text": [
      "(17621,) (1958,)\n"
     ]
    }
   ],
   "source": [
    "print(xtrain.shape, xvalid.shape)"
   ]
  },
  {
   "cell_type": "markdown",
   "metadata": {},
   "source": [
    "# Feature: Tf-idf vectorizer \n",
    "# Model: LogisticRegression (sklearn)"
   ]
  },
  {
   "cell_type": "markdown",
   "metadata": {},
   "source": [
    "### We are trying to learn mapping from a matrix (tfidf) to a vector of 3 classes (probabilities) using logistic regression"
   ]
  },
  {
   "cell_type": "code",
   "execution_count": 9,
   "metadata": {},
   "outputs": [],
   "source": [
    "### Parameters based on experience\n",
    "#smooth_idf, use_idf, max_features are set to default\n",
    "# sublinear_tf: add 1 to the result of log, \n",
    "# ngram_range: consider phrases between 1 to 3 words, token_pattern: words\n",
    "tfidf_vectorizer = TfidfVectorizer(min_df=3, max_features=None, strip_accents='unicode', analyzer='word', \n",
    "                                   token_pattern=r'\\w{1,}', ngram_range=(1, 3), use_idf=1,\n",
    "                                   smooth_idf=1,sublinear_tf=1,stop_words = 'english')"
   ]
  },
  {
   "cell_type": "code",
   "execution_count": 10,
   "metadata": {},
   "outputs": [],
   "source": [
    "tfidf_vectorizer.fit(list(xtrain)+list(xvalid))\n",
    "xtrain_tfidf = tfidf_vectorizer.transform(xtrain)\n",
    "xvalid_tfidf = tfidf_vectorizer.transform(xvalid)"
   ]
  },
  {
   "cell_type": "code",
   "execution_count": 11,
   "metadata": {},
   "outputs": [
    {
     "name": "stderr",
     "output_type": "stream",
     "text": [
      "/Library/Frameworks/Python.framework/Versions/3.7/lib/python3.7/site-packages/sklearn/linear_model/logistic.py:433: FutureWarning: Default solver will be changed to 'lbfgs' in 0.22. Specify a solver to silence this warning.\n",
      "  FutureWarning)\n",
      "/Library/Frameworks/Python.framework/Versions/3.7/lib/python3.7/site-packages/sklearn/linear_model/logistic.py:460: FutureWarning: Default multi_class will be changed to 'auto' in 0.22. Specify the multi_class option to silence this warning.\n",
      "  \"this warning.\", FutureWarning)\n"
     ]
    },
    {
     "name": "stdout",
     "output_type": "stream",
     "text": [
      "[0.7279392  0.11053272 0.16152808]\n",
      "0\n",
      "loglos is : 0.626 \n"
     ]
    }
   ],
   "source": [
    "clf = LogisticRegression(C=1.0)\n",
    "clf.fit(xtrain_tfidf, ytrain)\n",
    "predictions = clf.predict_proba(xvalid_tfidf)\n",
    "print(predictions[1])\n",
    "print(yvalid[1])\n",
    "print(\"loglos is : %0.3f \" % multiclass_logloss(yvalid, predictions) )"
   ]
  },
  {
   "cell_type": "code",
   "execution_count": 12,
   "metadata": {},
   "outputs": [
    {
     "data": {
      "text/html": [
       "<div>\n",
       "<style scoped>\n",
       "    .dataframe tbody tr th:only-of-type {\n",
       "        vertical-align: middle;\n",
       "    }\n",
       "\n",
       "    .dataframe tbody tr th {\n",
       "        vertical-align: top;\n",
       "    }\n",
       "\n",
       "    .dataframe thead th {\n",
       "        text-align: right;\n",
       "    }\n",
       "</style>\n",
       "<table border=\"1\" class=\"dataframe\">\n",
       "  <thead>\n",
       "    <tr style=\"text-align: right;\">\n",
       "      <th></th>\n",
       "      <th>EAP</th>\n",
       "      <th>HPL</th>\n",
       "      <th>MWS</th>\n",
       "    </tr>\n",
       "  </thead>\n",
       "  <tbody>\n",
       "    <tr>\n",
       "      <th>0</th>\n",
       "      <td>0.645703</td>\n",
       "      <td>0.071989</td>\n",
       "      <td>0.282308</td>\n",
       "    </tr>\n",
       "    <tr>\n",
       "      <th>1</th>\n",
       "      <td>0.727939</td>\n",
       "      <td>0.110533</td>\n",
       "      <td>0.161528</td>\n",
       "    </tr>\n",
       "    <tr>\n",
       "      <th>2</th>\n",
       "      <td>0.594639</td>\n",
       "      <td>0.160637</td>\n",
       "      <td>0.244724</td>\n",
       "    </tr>\n",
       "    <tr>\n",
       "      <th>3</th>\n",
       "      <td>0.690826</td>\n",
       "      <td>0.147396</td>\n",
       "      <td>0.161778</td>\n",
       "    </tr>\n",
       "    <tr>\n",
       "      <th>4</th>\n",
       "      <td>0.616144</td>\n",
       "      <td>0.129763</td>\n",
       "      <td>0.254093</td>\n",
       "    </tr>\n",
       "  </tbody>\n",
       "</table>\n",
       "</div>"
      ],
      "text/plain": [
       "        EAP       HPL       MWS\n",
       "0  0.645703  0.071989  0.282308\n",
       "1  0.727939  0.110533  0.161528\n",
       "2  0.594639  0.160637  0.244724\n",
       "3  0.690826  0.147396  0.161778\n",
       "4  0.616144  0.129763  0.254093"
      ]
     },
     "execution_count": 12,
     "metadata": {},
     "output_type": "execute_result"
    }
   ],
   "source": [
    "results = pd.DataFrame(predictions)\n",
    "results.columns = [\"EAP\", \"HPL\", \"MWS\"]\n",
    "results.head()"
   ]
  },
  {
   "cell_type": "code",
   "execution_count": 13,
   "metadata": {},
   "outputs": [],
   "source": [
    "xtest_tfidf = tfidf_vectorizer.transform(test.text.values)\n",
    "out = pd.DataFrame(clf.predict_proba(xtest_tfidf))\n",
    "out.columns = [\"EAP\", \"HPL\", \"MWS\"]\n",
    "idvalues = pd.DataFrame(test.id)\n",
    "out.head()\n",
    "final_results = idvalues.join(out)\n",
    "final_results.head()\n",
    "final_results.set_index(\"id\", inplace = True)\n",
    "final_results.to_csv(\"final_results\")"
   ]
  },
  {
   "cell_type": "markdown",
   "metadata": {},
   "source": [
    "# Feature: CountVectorizer "
   ]
  },
  {
   "cell_type": "code",
   "execution_count": 14,
   "metadata": {},
   "outputs": [],
   "source": [
    "count_vectorizer = CountVectorizer(analyzer=\"word\", token_pattern=r\"\\w{1,}\", \n",
    "                                  ngram_range=(1,3), stop_words=\"english\")\n",
    "count_vectorizer.fit(list(xtrain)+list(xvalid))\n",
    "xtrain_count_vectorizer = count_vectorizer.transform(xtrain)\n",
    "xvalid_count_vectorizer = count_vectorizer.transform(xvalid)"
   ]
  },
  {
   "cell_type": "code",
   "execution_count": 15,
   "metadata": {},
   "outputs": [
    {
     "name": "stdout",
     "output_type": "stream",
     "text": [
      "[0.85869362 0.04464736 0.09665902]\n",
      "0\n",
      "loglos is : 0.528 \n"
     ]
    }
   ],
   "source": [
    "clf = LogisticRegression(C=1.0)\n",
    "clf.fit(xtrain_count_vectorizer, ytrain)\n",
    "predictions = clf.predict_proba(xvalid_count_vectorizer)\n",
    "print(predictions[1])\n",
    "print(yvalid[1])\n",
    "print(\"loglos is : %0.3f \" % multiclass_logloss(yvalid, predictions) )"
   ]
  },
  {
   "cell_type": "code",
   "execution_count": 16,
   "metadata": {},
   "outputs": [],
   "source": [
    "xtest_count_vectorizer = count_vectorizer.transform(test.text.values)\n",
    "out = pd.DataFrame(clf.predict_proba(xtest_count_vectorizer))\n",
    "out.columns = [\"EAP\", \"HPL\", \"MWS\"]\n",
    "idvalues = pd.DataFrame(test.id)\n",
    "out.head()\n",
    "final_results = idvalues.join(out)\n",
    "final_results.head()\n",
    "final_results.set_index(\"id\", inplace = True)\n",
    "final_results.to_csv(\"results_count_vectorizer\")"
   ]
  },
  {
   "cell_type": "markdown",
   "metadata": {},
   "source": [
    "# Model: Naive Bayes"
   ]
  },
  {
   "cell_type": "code",
   "execution_count": 17,
   "metadata": {},
   "outputs": [
    {
     "name": "stdout",
     "output_type": "stream",
     "text": [
      "[0.63027919 0.13074833 0.23897248]\n",
      "0\n",
      "loglos is : 0.578 \n"
     ]
    }
   ],
   "source": [
    "clf = MultinomialNB()\n",
    "clf.fit(xtrain_tfidf, ytrain)\n",
    "predictions = clf.predict_proba(xvalid_tfidf)\n",
    "print(predictions[1])\n",
    "print(yvalid[1])\n",
    "print(\"loglos is : %0.3f \" % multiclass_logloss(yvalid, predictions) )"
   ]
  },
  {
   "cell_type": "code",
   "execution_count": 18,
   "metadata": {},
   "outputs": [
    {
     "name": "stdout",
     "output_type": "stream",
     "text": [
      "[0.86376799 0.01769372 0.11853828]\n",
      "0\n",
      "loglos is : 0.485 \n"
     ]
    }
   ],
   "source": [
    "clf = MultinomialNB()\n",
    "clf.fit(xtrain_count_vectorizer, ytrain)\n",
    "predictions = clf.predict_proba(xvalid_count_vectorizer)\n",
    "print(predictions[1])\n",
    "print(yvalid[1])\n",
    "print(\"loglos is : %0.3f \" % multiclass_logloss(yvalid, predictions) )"
   ]
  },
  {
   "cell_type": "code",
   "execution_count": 19,
   "metadata": {},
   "outputs": [],
   "source": [
    "xtest_count_vectorizer = count_vectorizer.transform(test.text.values)\n",
    "out = pd.DataFrame(clf.predict_proba(xtest_count_vectorizer))\n",
    "out.columns = [\"EAP\", \"HPL\", \"MWS\"]\n",
    "idvalues = pd.DataFrame(test.id)\n",
    "out.head()\n",
    "final_results = idvalues.join(out)\n",
    "final_results.head()\n",
    "final_results.set_index(\"id\", inplace = True)\n",
    "final_results.to_csv(\"results_count_vectorizer_bayes\")"
   ]
  },
  {
   "cell_type": "markdown",
   "metadata": {},
   "source": [
    "# Feature: SVD\n",
    "# Model: SVM"
   ]
  },
  {
   "cell_type": "code",
   "execution_count": 20,
   "metadata": {},
   "outputs": [],
   "source": [
    "# Sigular value decomposition\n",
    "# 120-200 components are good enough for SVM model\n",
    "svd = decomposition.TruncatedSVD(n_components=120)\n",
    "svd.fit(xtrain_tfidf)\n",
    "xtrain_svd = svd.transform(xtrain_tfidf)\n",
    "xvalid_svd = svd.transform(xvalid_tfidf)"
   ]
  },
  {
   "cell_type": "code",
   "execution_count": 21,
   "metadata": {},
   "outputs": [],
   "source": [
    "# Standardize data before svm\n",
    "scalar = preprocessing.StandardScaler()\n",
    "scalar.fit(xtrain_svd)\n",
    "xtrain_svd_normal = scalar.transform(xtrain_svd)\n",
    "xvalid_svd_normal = scalar.transform(xvalid_svd)"
   ]
  },
  {
   "cell_type": "code",
   "execution_count": 22,
   "metadata": {},
   "outputs": [
    {
     "name": "stdout",
     "output_type": "stream",
     "text": [
      "[0.76075407 0.10952052 0.12972541]\n",
      "0\n",
      "loglos is : 0.738 \n"
     ]
    }
   ],
   "source": [
    "clf = SVC(C=1.0, probability=True)\n",
    "clf.fit(xtrain_svd_normal, ytrain)\n",
    "predictions = clf.predict_proba(xvalid_svd_normal)\n",
    "print(predictions[1])\n",
    "print(yvalid[1])\n",
    "print(\"loglos is : %0.3f \" % multiclass_logloss(yvalid, predictions) )"
   ]
  },
  {
   "cell_type": "markdown",
   "metadata": {},
   "source": [
    "# Model: Neural Network"
   ]
  },
  {
   "cell_type": "code",
   "execution_count": 27,
   "metadata": {},
   "outputs": [
    {
     "data": {
      "text/plain": [
       "120"
      ]
     },
     "execution_count": 27,
     "metadata": {},
     "output_type": "execute_result"
    }
   ],
   "source": [
    "# scalar = preprocessing.StandardScaler()\n",
    "# scalar.fit(xtrain_count_vectorizer)\n",
    "# xtrain_normal = scalar.transform(xtrain_count_vectorizer)\n",
    "# xvalid_normal = scalar.transform(xvalid_count_vectorizer)\n",
    "\n",
    "# torch.tensor(targets_df['targets'].values)\n",
    "\n",
    "# xtrain_normal\n",
    "# xtrain_torch = ag.Variable(torch.from_numpy(xtrain_count_vectorizer))\n",
    "xtrain_count_vectorizer\n",
    "len(xvalid_svd_normal[0])"
   ]
  },
  {
   "cell_type": "code",
   "execution_count": 37,
   "metadata": {},
   "outputs": [
    {
     "name": "stdout",
     "output_type": "stream",
     "text": [
      "[9.93283348e-01 9.17819674e-04 5.79883183e-03]\n",
      "0\n",
      "loglos is : 1.475 \n"
     ]
    },
    {
     "name": "stderr",
     "output_type": "stream",
     "text": [
      "/Library/Frameworks/Python.framework/Versions/3.7/lib/python3.7/site-packages/sklearn/neural_network/multilayer_perceptron.py:562: ConvergenceWarning: Stochastic Optimizer: Maximum iterations (200) reached and the optimization hasn't converged yet.\n",
      "  % self.max_iter, ConvergenceWarning)\n"
     ]
    }
   ],
   "source": [
    "clf = MLPClassifier(hidden_layer_sizes=(120,120,3,), activation='logistic')\n",
    "clf.fit(xtrain_svd_normal, ytrain)\n",
    "predictions = clf.predict_proba(xvalid_svd_normal)\n",
    "print(predictions[1])\n",
    "print(yvalid[1])\n",
    "print(\"loglos is : %0.3f \" % multiclass_logloss(yvalid, predictions) )"
   ]
  },
  {
   "cell_type": "code",
   "execution_count": null,
   "metadata": {},
   "outputs": [],
   "source": []
  }
 ],
 "metadata": {
  "kernelspec": {
   "display_name": "Python 3",
   "language": "python",
   "name": "python3"
  },
  "language_info": {
   "codemirror_mode": {
    "name": "ipython",
    "version": 3
   },
   "file_extension": ".py",
   "mimetype": "text/x-python",
   "name": "python",
   "nbconvert_exporter": "python",
   "pygments_lexer": "ipython3",
   "version": "3.7.3"
  }
 },
 "nbformat": 4,
 "nbformat_minor": 2
}
