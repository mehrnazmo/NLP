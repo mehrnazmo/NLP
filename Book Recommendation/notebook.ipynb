{
 "cells": [
  {
   "cell_type": "markdown",
   "metadata": {
    "dc": {
     "key": "3"
    },
    "deletable": false,
    "editable": false,
    "run_control": {
     "frozen": true
    },
    "tags": [
     "context"
    ]
   },
   "source": [
    "## 1. Darwin's bibliography\n",
    "<p><img src=\"https://assets.datacamp.com/production/project_607/img/CharlesDarwin.jpg\" alt=\"Charles Darwin\" width=\"300px\"></p>\n",
    "<p>Charles Darwin is one of the few universal figures of science. His most renowned work is without a doubt his \"<em>On the Origin of Species</em>\" published in 1859 which introduced the concept of natural selection. But Darwin wrote many other books on a wide range of topics, including geology, plants or his personal life. In this notebook, we will automatically detect how closely related his books are to each other.</p>\n",
    "<p>To this purpose, we will develop the bases of <strong>a content-based book recommendation system</strong>, which will determine which books are close to each other based on how similar the discussed topics are. The methods we will use are commonly used in text- or documents-heavy industries such as legal, tech or customer support to perform some common task such as text classification or handling search engine queries.</p>\n",
    "<p>Let's take a look at the books we'll use in our recommendation system.</p>"
   ]
  },
  {
   "cell_type": "code",
   "execution_count": 1,
   "metadata": {
    "dc": {
     "key": "3"
    },
    "tags": [
     "sample_code"
    ]
   },
   "outputs": [],
   "source": [
    "# Import library\n",
    "import glob\n",
    "\n",
    "# The books files are contained in this folder\n",
    "folder = \"datasets/\"\n",
    "\n",
    "# List all the .txt files and sort them alphabetically\n",
    "files = glob.glob(folder+\"*.txt\")\n",
    "# ... YOUR CODE FOR TASK 1 ...\n",
    "files.sort()"
   ]
  },
  {
   "cell_type": "code",
   "execution_count": 2,
   "metadata": {
    "dc": {
     "key": "3"
    }
   },
   "outputs": [
    {
     "name": "stdout",
     "output_type": "stream",
     "text": [
      "['datasets/Autobiography.txt', 'datasets/CoralReefs.txt', 'datasets/DescentofMan.txt', 'datasets/DifferentFormsofFlowers.txt', 'datasets/EffectsCrossSelfFertilization.txt', 'datasets/ExpressionofEmotionManAnimals.txt', 'datasets/FormationVegetableMould.txt', 'datasets/FoundationsOriginofSpecies.txt', 'datasets/GeologicalObservationsSouthAmerica.txt', 'datasets/InsectivorousPlants.txt', 'datasets/LifeandLettersVol1.txt', 'datasets/LifeandLettersVol2.txt', 'datasets/MonographCirripedia.txt', 'datasets/MonographCirripediaVol2.txt', 'datasets/MovementClimbingPlants.txt', 'datasets/OriginofSpecies.txt', 'datasets/PowerMovementPlants.txt', 'datasets/VariationPlantsAnimalsDomestication.txt', 'datasets/VolcanicIslands.txt', 'datasets/VoyageBeagle.txt']\n"
     ]
    }
   ],
   "source": [
    "print(files)"
   ]
  },
  {
   "cell_type": "markdown",
   "metadata": {
    "dc": {
     "key": "10"
    },
    "deletable": false,
    "editable": false,
    "run_control": {
     "frozen": true
    },
    "tags": [
     "context"
    ]
   },
   "source": [
    "## 2. Load the contents of each book into Python\n",
    "<p>As a first step, we need to load the content of these books into Python and do some basic pre-processing to facilitate the downstream analyses. We call such a collection of texts <strong>a corpus</strong>. We will also store the titles for these books for future reference and print their respective length to get a gauge for their contents.</p>"
   ]
  },
  {
   "cell_type": "code",
   "execution_count": 46,
   "metadata": {
    "dc": {
     "key": "10"
    },
    "tags": [
     "sample_code"
    ]
   },
   "outputs": [
    {
     "data": {
      "text/plain": [
       "[126535,\n",
       " 515199,\n",
       " 1853959,\n",
       " 637442,\n",
       " 953361,\n",
       " 646127,\n",
       " 352125,\n",
       " 557591,\n",
       " 825187,\n",
       " 933920,\n",
       " 1082757,\n",
       " 1054634,\n",
       " 815756,\n",
       " 1815025,\n",
       " 314447,\n",
       " 945712,\n",
       " 1133642,\n",
       " 1139290,\n",
       " 352425,\n",
       " 1188353]"
      ]
     },
     "execution_count": 46,
     "metadata": {},
     "output_type": "execute_result"
    }
   ],
   "source": [
    "# Import libraries\n",
    "import re, os\n",
    "\n",
    "# Initialize the object that will contain the texts and titles\n",
    "txts = []\n",
    "titles = []\n",
    "\n",
    "for n in files:\n",
    "    # Open each file\n",
    "    f = open(n, encoding='utf-8-sig')\n",
    "    t = f.read()\n",
    "    # Remove all non-alpha-numeric characters\n",
    "\n",
    "    re.sub('[\\W_]+', '', t)\n",
    "    # Store the texts and titles of the books in two separate lists\n",
    "    txts.append(t)\n",
    "    titles.append(os.path.basename(n).replace('.txt',''))\n",
    "    f.close()\n",
    "\n",
    "# Print the length, in characters, of each book\n",
    "[len(t) for t in txts]"
   ]
  },
  {
   "cell_type": "markdown",
   "metadata": {
    "dc": {
     "key": "17"
    },
    "deletable": false,
    "editable": false,
    "run_control": {
     "frozen": true
    },
    "tags": [
     "context"
    ]
   },
   "source": [
    "## 3. Find \"On the Origin of Species\"\n",
    "<p>For the next parts of this analysis, we will often check the results returned by our method for a given book. For consistency, we will refer to Darwin's most famous book: \"<em>On the Origin of Species</em>.\" Let's find to which index this book is associated.</p>"
   ]
  },
  {
   "cell_type": "code",
   "execution_count": 4,
   "metadata": {
    "dc": {
     "key": "17"
    },
    "tags": [
     "sample_code"
    ]
   },
   "outputs": [
    {
     "name": "stdout",
     "output_type": "stream",
     "text": [
      "15\n"
     ]
    }
   ],
   "source": [
    "# Browse the list containing all the titles\n",
    "for i in range(len(titles)):\n",
    "    # Store the index if the title is \"OriginofSpecies\"\n",
    "    if titles[i]== \"OriginofSpecies\":\n",
    "        ori = i\n",
    "\n",
    "# Print the stored index\n",
    "print(ori)"
   ]
  },
  {
   "cell_type": "markdown",
   "metadata": {
    "dc": {
     "key": "24"
    },
    "deletable": false,
    "editable": false,
    "run_control": {
     "frozen": true
    },
    "tags": [
     "context"
    ]
   },
   "source": [
    "## 4. Tokenize the corpus\n",
    "<p>As a next step, we need to transform the corpus into a format that is easier to deal with for the downstream analyses. We will tokenize our corpus, i.e., transform each text into a list of the individual words (called tokens) it is made of. To check the output of our process, we will print the first 20 tokens of \"<em>On the Origin of Species</em>\".</p>"
   ]
  },
  {
   "cell_type": "code",
   "execution_count": 5,
   "metadata": {
    "dc": {
     "key": "24"
    },
    "tags": [
     "sample_code"
    ]
   },
   "outputs": [
    {
     "name": "stdout",
     "output_type": "stream",
     "text": [
      "['on', 'origin', 'species.', '*', '*', '*', '*', '*', '\"but', 'with', 'regard', 'material', 'world,', 'can', 'least', 'go', 'so', 'far', 'this--we', 'can']\n"
     ]
    }
   ],
   "source": [
    "# Define a list of stop words\n",
    "stoplist = set('for a of the and to in to be which some is at that we i who whom show via may my our might as well'.split())\n",
    "\n",
    "# Convert the text to lower case \n",
    "txts_lower_case = [content.lower() for content in txts]\n",
    "\n",
    "# Transform the text into tokens \n",
    "txts_split = [item.split() for item in txts_lower_case]\n",
    "\n",
    "# Remove tokens which are part of the list of stop words\n",
    "texts = [[word for word in item if word not in stoplist] for item in txts_split]\n",
    "\n",
    "# Print the first 20 tokens for the \"On the Origin of Species\" book\n",
    "print(texts[15][:20])"
   ]
  },
  {
   "cell_type": "markdown",
   "metadata": {
    "dc": {
     "key": "31"
    },
    "deletable": false,
    "editable": false,
    "run_control": {
     "frozen": true
    },
    "tags": [
     "context"
    ]
   },
   "source": [
    "## 5. Stemming of the tokenized corpus\n",
    "<p>If you have read <em>On the Origin of Species</em>, you will have noticed that Charles Darwin can use different words to refer to a similar concept. For example, the concept of selection can be described by words such as <em>selection</em>, <em>selective</em>, <em>select</em> or <em>selects</em>. This will dilute the weight given to this concept in the book and potentially bias the results of the analysis.</p>\n",
    "<p>To solve this issue, it is a common practice to use a <strong>stemming process</strong>, which will group together the inflected forms of a word so they can be analysed as a single item: <strong>the stem</strong>. In our <em>On the Origin of Species</em> example, the words related to the concept of selection would be gathered under the <em>select</em> stem.</p>\n",
    "<p>As we are analysing 20 full books, the stemming algorithm can take several minutes to run and, in order to make the process faster, we will directly load the final results from a pickle file and review the method used to generate it.</p>"
   ]
  },
  {
   "cell_type": "code",
   "execution_count": 6,
   "metadata": {},
   "outputs": [
    {
     "name": "stdout",
     "output_type": "stream",
     "text": [
      "Requirement already satisfied: pickle-mixin in /Library/Frameworks/Python.framework/Versions/3.7/lib/python3.7/site-packages (1.0.2)\r\n"
     ]
    }
   ],
   "source": [
    "import sys\n",
    "!{sys.executable} -m pip install pickle-mixin"
   ]
  },
  {
   "cell_type": "code",
   "execution_count": 35,
   "metadata": {},
   "outputs": [
    {
     "data": {
      "text/plain": [
       "['on',\n",
       " 'origin',\n",
       " 'with',\n",
       " 'regard',\n",
       " 'materi',\n",
       " 'can',\n",
       " 'least',\n",
       " 'go',\n",
       " 'so',\n",
       " 'far',\n",
       " 'can',\n",
       " 'perceiv',\n",
       " 'event',\n",
       " 'are',\n",
       " 'brought',\n",
       " 'about',\n",
       " 'not',\n",
       " 'by',\n",
       " 'insul',\n",
       " 'interposit']"
      ]
     },
     "execution_count": 35,
     "metadata": {},
     "output_type": "execute_result"
    }
   ],
   "source": [
    "# Import the SnowballStemmer to perform stemming\n",
    "from nltk.stem.snowball import SnowballStemmer\n",
    "\n",
    "# Create an English language SnowballStemmer object\n",
    "stemmer = SnowballStemmer(\"english\")\n",
    "\n",
    "# Stem the words from filtered and store in stemmed_words\n",
    "stemmed_words = [[stemmer.stem(word) for word in item if word not in stoplist and word.isalpha()] for item in txts_split]\n",
    "stemmed_words[15][:20]\n",
    "# Print the stemmed_words to observe words after stemming\n",
    "# print(\"After stemming:   \", stemmed_words)"
   ]
  },
  {
   "cell_type": "code",
   "execution_count": 36,
   "metadata": {
    "dc": {
     "key": "31"
    },
    "tags": [
     "sample_code"
    ]
   },
   "outputs": [],
   "source": [
    "# # import pickle\n",
    "  \n",
    "# # with open(\"datasets/texts_stem.p\",\"rb\") as f:\n",
    "# #     texts_stem = pickle.load(f,encoding='latin1')\n",
    "# # unpickler = pickle_module.Unpickler(f,encoding='latin1')\n",
    "# # # Load the stemmed tokens list from the pregenerated pickle file\n",
    "# # texts_stem = pickle.load(open(\"datasets/texts_stem.p\", 'rb'))\n",
    "\n",
    "# # # Print the 20 first stemmed tokens from the \"On the Origin of Species\" book\n",
    "# print(texts[15][:40])\n",
    "\n",
    "# # import sys\n",
    "# # os.path = \"datasets/texts_stem.p\"\n",
    "\n",
    "# # f= open(\"datasets/texts_stem.p\",\"r\")\n",
    "# # texts_stem = f.read()\n",
    "# # f.close()\n",
    "\n",
    "texts_stem = stemmed_words"
   ]
  },
  {
   "cell_type": "markdown",
   "metadata": {
    "dc": {
     "key": "38"
    },
    "deletable": false,
    "editable": false,
    "run_control": {
     "frozen": true
    },
    "tags": [
     "context"
    ]
   },
   "source": [
    "## 6. Building a bag-of-words model\n",
    "<p>Now that we have transformed the texts into stemmed tokens, we need to build models that will be useable by downstream algorithms.</p>\n",
    "<p>First, we need to will create a universe of all words contained in our corpus of Charles Darwin's books, which we call <em>a dictionary</em>. Then, using the stemmed tokens and the dictionary, we will create <strong>bag-of-words models</strong> (BoW) of each of our texts. The BoW models will represent our books as a list of all uniques tokens they contain associated with their respective number of occurrences. </p>\n",
    "<p>To better understand the structure of such a model, we will print the five first elements of one of the \"<em>On the Origin of Species</em>\" BoW model.</p>"
   ]
  },
  {
   "cell_type": "code",
   "execution_count": 37,
   "metadata": {
    "dc": {
     "key": "38"
    },
    "tags": [
     "sample_code"
    ]
   },
   "outputs": [
    {
     "name": "stdout",
     "output_type": "stream",
     "text": [
      "[(1, 1), (2, 34), (3, 37), (4, 36), (6, 19)]\n"
     ]
    }
   ],
   "source": [
    "# Load the functions allowing to create and use dictionaries\n",
    "from gensim import corpora\n",
    "\n",
    "# Create a dictionary from the stemmed tokens\n",
    "dictionary = corpora.Dictionary(texts_stem)\n",
    "\n",
    "# Create a bag-of-words model for each book, using the previously generated dictionary\n",
    "bows = [dictionary.doc2bow(item) for item in texts_stem]\n",
    "\n",
    "# Print the first five elements of the On the Origin of species' BoW model\n",
    "print(bows[15][:5])"
   ]
  },
  {
   "cell_type": "code",
   "execution_count": 38,
   "metadata": {
    "dc": {
     "key": "38"
    }
   },
   "outputs": [
    {
     "data": {
      "text/plain": [
       "20"
      ]
     },
     "execution_count": 38,
     "metadata": {},
     "output_type": "execute_result"
    }
   ],
   "source": [
    "len(bows)\n",
    "# len(bows[10])"
   ]
  },
  {
   "cell_type": "markdown",
   "metadata": {
    "dc": {
     "key": "45"
    },
    "deletable": false,
    "editable": false,
    "run_control": {
     "frozen": true
    },
    "tags": [
     "context"
    ]
   },
   "source": [
    "## 7. The most common words of a given book\n",
    "<p>The results returned by the bag-of-words model is certainly easy to use for a computer but hard to interpret for a human. It is not straightforward to understand which stemmed tokens are present in a given book from Charles Darwin, and how many occurrences we can find.</p>\n",
    "<p>In order to better understand how the model has been generated and visualize its content, we will transform it into a DataFrame and display the 10 most common stems for the book \"<em>On the Origin of Species</em>\".</p>"
   ]
  },
  {
   "cell_type": "code",
   "execution_count": 39,
   "metadata": {
    "dc": {
     "key": "45"
    },
    "tags": [
     "sample_code"
    ]
   },
   "outputs": [
    {
     "data": {
      "text/html": [
       "<div>\n",
       "<style scoped>\n",
       "    .dataframe tbody tr th:only-of-type {\n",
       "        vertical-align: middle;\n",
       "    }\n",
       "\n",
       "    .dataframe tbody tr th {\n",
       "        vertical-align: top;\n",
       "    }\n",
       "\n",
       "    .dataframe thead th {\n",
       "        text-align: right;\n",
       "    }\n",
       "</style>\n",
       "<table border=\"1\" class=\"dataframe\">\n",
       "  <thead>\n",
       "    <tr style=\"text-align: right;\">\n",
       "      <th></th>\n",
       "      <th>index</th>\n",
       "      <th>occurrences</th>\n",
       "      <th>token</th>\n",
       "    </tr>\n",
       "  </thead>\n",
       "  <tbody>\n",
       "    <tr>\n",
       "      <th>598</th>\n",
       "      <td>867</td>\n",
       "      <td>2000</td>\n",
       "      <td>have</td>\n",
       "    </tr>\n",
       "    <tr>\n",
       "      <th>897</th>\n",
       "      <td>1332</td>\n",
       "      <td>1486</td>\n",
       "      <td>on</td>\n",
       "    </tr>\n",
       "    <tr>\n",
       "      <th>714</th>\n",
       "      <td>1034</td>\n",
       "      <td>1423</td>\n",
       "      <td>it</td>\n",
       "    </tr>\n",
       "    <tr>\n",
       "      <th>178</th>\n",
       "      <td>257</td>\n",
       "      <td>1350</td>\n",
       "      <td>by</td>\n",
       "    </tr>\n",
       "    <tr>\n",
       "      <th>906</th>\n",
       "      <td>1342</td>\n",
       "      <td>1173</td>\n",
       "      <td>or</td>\n",
       "    </tr>\n",
       "    <tr>\n",
       "      <th>535</th>\n",
       "      <td>773</td>\n",
       "      <td>1131</td>\n",
       "      <td>from</td>\n",
       "    </tr>\n",
       "    <tr>\n",
       "      <th>86</th>\n",
       "      <td>122</td>\n",
       "      <td>1114</td>\n",
       "      <td>are</td>\n",
       "    </tr>\n",
       "    <tr>\n",
       "      <th>1438</th>\n",
       "      <td>2111</td>\n",
       "      <td>991</td>\n",
       "      <td>with</td>\n",
       "    </tr>\n",
       "    <tr>\n",
       "      <th>126</th>\n",
       "      <td>184</td>\n",
       "      <td>932</td>\n",
       "      <td>been</td>\n",
       "    </tr>\n",
       "    <tr>\n",
       "      <th>1298</th>\n",
       "      <td>1904</td>\n",
       "      <td>916</td>\n",
       "      <td>this</td>\n",
       "    </tr>\n",
       "  </tbody>\n",
       "</table>\n",
       "</div>"
      ],
      "text/plain": [
       "      index  occurrences token\n",
       "598     867         2000  have\n",
       "897    1332         1486    on\n",
       "714    1034         1423    it\n",
       "178     257         1350    by\n",
       "906    1342         1173    or\n",
       "535     773         1131  from\n",
       "86      122         1114   are\n",
       "1438   2111          991  with\n",
       "126     184          932  been\n",
       "1298   1904          916  this"
      ]
     },
     "execution_count": 39,
     "metadata": {},
     "output_type": "execute_result"
    }
   ],
   "source": [
    "# Import pandas to create and manipulate DataFrames\n",
    "import pandas as pd\n",
    "\n",
    "# Convert the BoW model for \"On the Origin of Species\" into a DataFrame\n",
    "df_bow_origin = pd.DataFrame(bows[15])\n",
    "\n",
    "# Add the column names to the DataFrame\n",
    "df_bow_origin.columns = [\"index\", \"occurrences\"]\n",
    "\n",
    "# Add a column containing the token corresponding to the dictionary index\n",
    "df_bow_origin[\"token\"] = [dictionary[index] for index in df_bow_origin[\"index\"]]\n",
    "\n",
    "# Sort the DataFrame by descending number of occurrences and print the first 10 values\n",
    "df_bow_origin = df_bow_origin.sort_values(by = 'occurrences', ascending=False)\n",
    "df_bow_origin.head(10)"
   ]
  },
  {
   "cell_type": "markdown",
   "metadata": {
    "dc": {
     "key": "52"
    },
    "deletable": false,
    "editable": false,
    "run_control": {
     "frozen": true
    },
    "tags": [
     "context"
    ]
   },
   "source": [
    "## 8. Build a tf-idf model\n",
    "<p>If it wasn't for the presence of the stem \"<em>speci</em>\", we would have a hard time to guess this BoW model comes from the <em>On the Origin of Species</em> book. The most recurring words are, apart from few exceptions, very common and unlikely to carry any information peculiar to the given book. We need to use an additional step in order to determine which tokens are the most specific to a book.</p>\n",
    "<p>To do so, we will use a <strong>tf-idf model</strong> (term frequency–inverse document frequency). This model defines the importance of each word depending on how frequent it is in this text and how infrequent it is in all the other documents. As a result, a high tf-idf score for a word will indicate that this word is specific to this text.</p>\n",
    "<p>After computing those scores, we will print the 10 words most specific to the \"<em>On the Origin of Species</em>\" book (i.e., the 10 words with the highest tf-idf score).</p>"
   ]
  },
  {
   "cell_type": "code",
   "execution_count": 40,
   "metadata": {
    "dc": {
     "key": "52"
    },
    "tags": [
     "sample_code"
    ]
   },
   "outputs": [
    {
     "name": "stdout",
     "output_type": "stream",
     "text": [
      "[(1, 0.0037594250378538622), (6, 0.002642896567607044), (7, 0.004590294038475393), (8, 0.0017629090900595612), (11, 0.000605132270154072), (12, 0.000605132270154072), (13, 0.0035046584464126242), (14, 0.0031429432943070883), (18, 0.04175412664063097), (19, 0.0004172994580432175), (20, 0.002420529080616288), (22, 0.0019344992697440959), (24, 0.004155850360117926), (25, 0.005424892954561828), (27, 0.0057144423532856144), (30, 0.0012518983741296524), (39, 0.024848447890810033), (41, 0.010710686089775916), (42, 0.006529991944599147), (43, 0.0019344992697440959), (51, 0.017393913523567023), (52, 0.005563992773909566), (53, 0.0061701818152084635), (54, 0.0013909981934773915), (55, 0.0012518983741296524), (57, 0.004863736271812836), (65, 0.015718279586294525), (74, 0.01210264540308144), (76, 0.0006954990967386958), (81, 0.02117962945539252), (82, 0.010000274118249827), (85, 0.004590294038475393), (87, 0.004680907099311418), (95, 0.011962584463905569), (100, 0.008540886461396937), (102, 0.0028572211766428072), (104, 0.004836248174360239), (105, 0.001621245423937612), (111, 0.00692641726686321), (114, 0.00302566135077036), (118, 0.001808297651520609), (119, 0.02418468667977566), (123, 0.0026443636350893416), (124, 0.00371438752963565), (125, 0.002846962153798979), (127, 0.011082267626981135), (129, 0.002642896567607044), (132, 0.005841097410687707), (133, 0.002846962153798979), (137, 0.009361814198622836), (138, 0.0038689985394881918), (139, 0.0017143327059856847), (142, 0.004847999997663793), (143, 0.008661738546364848), (145, 0.005729454542693573), (146, 0.004729393857823131), (147, 0.0022255971095638265), (149, 0.0025714990589785266), (151, 0.013059983889198294), (160, 0.001808297651520609), (167, 0.0004407272725148903), (169, 0.0005714442353285615), (171, 0.0007801511832185696), (178, 0.004836248174360239), (183, 0.02057449718523845), (185, 0.025985215639094544), (187, 0.002285776941314246), (188, 0.0006954990967386958), (189, 0.004836248174360239), (190, 0.005693924307597958), (195, 0.0002781996386954783), (196, 0.0020864972902160874), (204, 0.004969689578162006), (205, 0.06172349155571535), (207, 0.001808297651520609), (210, 0.02431868135906418), (212, 0.0007801511832185696), (213, 0.0032649959722995735), (215, 0.002770566906745284), (217, 0.004729393857823131), (218, 0.0015603023664371393), (220, 0.0005714442353285615), (221, 0.0008814545450297806), (226, 0.0014286105883214036), (228, 0.011278275113561588), (229, 0.0030850909076042318), (232, 0.001385283453372642), (234, 0.0037594250378538622), (236, 0.18978383311205194), (237, 0.03975751662529605), (238, 0.0006954990967386958), (239, 0.0032649959722995735), (240, 0.0020864972902160874), (241, 0.0023646969289115656), (242, 0.002642896567607044), (243, 0.0074287750592713), (244, 0.003242490847875224), (246, 0.0008571663529928423), (247, 0.002420529080616288), (253, 0.001385283453372642), (254, 0.005803497809232287), (255, 0.0007801511832185696), (263, 0.002846962153798979), (268, 0.017458229232031736), (271, 0.0048572760002927725), (279, 0.0037594250378538622), (283, 0.012992607819547272), (284, 0.001210264540308144), (286, 0.01385283453372642), (287, 0.0028572211766428072), (288, 0.005541133813490568), (293, 0.020676837708196245), (297, 0.0037594250378538622), (299, 0.017714771295185405), (300, 0.028237263327591054), (303, 0.0012518983741296524), (304, 0.004155850360117926), (305, 0.012781090902931818), (306, 0.002846962153798979), (311, 0.024848447890810033), (314, 0.002770566906745284), (316, 0.002846962153798979), (324, 0.03727267183621505), (329, 0.008540886461396937), (330, 0.004863736271812836), (332, 0.0009672496348720479), (334, 0.019454945087251343), (335, 0.004836248174360239), (338, 0.008705246713848432), (339, 0.003630793620924432), (340, 0.001815396810462216), (346, 0.0031429432943070883), (351, 0.0020000548236499653), (355, 0.002846962153798979), (357, 0.0077379970789763835), (358, 0.0037594250378538622), (360, 0.007650490064125653), (361, 0.020578833964906017), (364, 0.0011127985547819132), (367, 0.0023364389642750827), (369, 0.009398562594634657), (370, 0.004285831764964211), (374, 0.006529991944599147), (375, 0.0037594250378538622), (380, 0.0032649959722995735), (381, 0.00013909981934773916), (384, 0.004590294038475393), (385, 0.0074287750592713), (386, 0.0019344992697440959), (387, 0.004330869273182424), (388, 0.002165434636591212), (394, 0.011682194821375414), (396, 0.0005714442353285615), (398, 0.0038689985394881918), (399, 0.004172994580432175), (401, 0.0023364389642750827), (403, 0.0013909981934773915), (408, 0.001142888470657123), (409, 0.0037594250378538622), (410, 0.010432486451080436), (412, 0.002846962153798979), (414, 0.0032649959722995735), (416, 0.0032649959722995735), (417, 0.001385283453372642), (418, 0.047099637414669826), (426, 0.0014286105883214036), (432, 0.003966545452634013), (434, 0.0015603023664371393), (436, 0.006770747444104336), (437, 0.002770566906745284), (440, 0.008661738546364848), (445, 0.0037594250378538622), (447, 0.004235925891078504), (450, 0.0007801511832185696), (451, 0.002165434636591212), (452, 0.002285776941314246), (454, 0.004155850360117926), (455, 0.01210264540308144), (457, 0.007021360648967127), (459, 0.002484844789081003), (460, 0.001621245423937612), (462, 0.001385283453372642), (463, 0.014591208815438508), (464, 0.006770747444104336), (466, 0.010285996235914106), (469, 0.0022255971095638265), (470, 0.04800131576759916), (471, 0.048362481743602394), (473, 0.002340453549655709), (475, 0.0009736987354341742), (477, 0.0008814545450297806), (483, 0.004312094399779914), (487, 0.0031206047328742785), (490, 0.0005714442353285615), (494, 0.004155850360117926), (499, 0.001621245423937612), (505, 0.0066564549716947915), (509, 0.012467551080353778), (510, 0.005142998117957053), (511, 0.0032649959722995735), (512, 0.00692641726686321), (513, 0.011606995618464575), (514, 0.0023364389642750827), (522, 0.007233190606082436), (523, 0.00371438752963565), (525, 0.008067789522168871), (526, 0.011458909085387147), (529, 0.030075400302830898), (531, 0.05827108808673487), (533, 0.1915879950705568), (534, 0.08445195082705727), (539, 0.004847999997663793), (548, 0.0023364389642750827), (549, 0.0022036363625744515), (550, 0.000834598916086435), (553, 0.0004407272725148903), (557, 0.013157987632488518), (558, 0.002846962153798979), (559, 0.0018797125189269311), (560, 0.009458787715646262), (561, 0.0037556951223889573), (562, 0.004235925891078504), (565, 0.017163326030808532), (567, 0.000834598916086435), (569, 0.005288727270178683), (570, 0.03728864475056508), (572, 0.000605132270154072), (575, 0.009696984173608493), (577, 0.004863736271812836), (578, 0.031986198511961356), (581, 0.001621245423937612), (582, 0.009398562594634657), (585, 0.008857385647592702), (586, 0.0029017489046161437), (587, 0.0017143327059856847), (588, 0.002484844789081003), (590, 0.0031206047328742785), (591, 0.0066564549716947915), (592, 0.06809230780537971), (595, 0.0004407272725148903), (600, 0.0015300980128251308), (601, 0.004407272725148903), (602, 0.026315975264977035), (603, 0.012781090902931818), (604, 0.002770566906745284), (608, 0.0030850909076042318), (609, 0.004285831764964211), (611, 0.0018797125189269311), (614, 0.0013909981934773915), (616, 0.010827173182956059), (617, 0.0015603023664371393), (619, 0.0032649959722995735), (625, 0.0011682194821375413), (627, 0.008540886461396937), (628, 0.006241209465748557), (629, 0.0020864972902160874), (632, 0.001815396810462216), (637, 0.02496483786299423), (639, 0.0019344992697440959), (642, 0.002770566906745284), (643, 0.010287248592619225), (645, 0.001385283453372642), (648, 0.0032649959722995735), (650, 0.0035258181801191223), (654, 0.0008814545450297806), (655, 0.0032649959722995735), (656, 0.001142888470657123), (657, 0.0030601960256502617), (659, 0.008311700720235852), (660, 0.0015603023664371393), (665, 0.001621245423937612), (667, 0.004155850360117926), (671, 0.002642896567607044), (672, 0.0075188500757077245), (677, 0.13784989889222987), (679, 0.0023364389642750827), (681, 0.0012518983741296524), (684, 0.004451194219127653), (689, 0.0022255971095638265), (691, 0.001808297651520609), (694, 0.004590294038475393), (695, 0.001210264540308144), (696, 0.006484981695750448), (700, 0.017323477092729696), (701, 0.00692641726686321), (703, 0.009696984173608493), (704, 0.0017143327059856847), (705, 0.001385283453372642), (708, 0.001621245423937612), (711, 0.11682194821375413), (712, 0.04215238102237791), (715, 0.002420529080616288), (717, 0.0006954990967386958), (718, 0.001142888470657123), (719, 0.0025037967482593048), (723, 0.011348717967563282), (724, 0.0018797125189269311), (727, 0.04571435396129719), (729, 0.005285793135214088), (732, 0.00166919783217287), (733, 0.008661738546364848), (734, 0.03878793669443397), (735, 0.0026443636350893416), (736, 0.06085179229104844), (737, 0.014909068734486018), (738, 0.00028572211766428074), (741, 0.002165434636591212), (743, 0.0014286105883214036), (744, 0.009696984173608493), (746, 0.0061701818152084635), (748, 0.021076190511188954), (749, 0.0037594250378538622), (752, 0.01321448283803522), (754, 0.00028572211766428074), (755, 0.0014286105883214036), (757, 0.0038689985394881918), (758, 0.002340453549655709), (759, 0.06190397663181107), (761, 0.0019344992697440959), (764, 0.005639137556780794), (765, 0.004863736271812836), (768, 0.0011682194821375413), (770, 0.0007801511832185696), (774, 0.014822872481152823), (777, 0.004155850360117926), (779, 0.002165434636591212), (782, 0.009361814198622836), (787, 0.0030601960256502617), (788, 0.021027950678475744), (790, 0.009939379156324013), (798, 0.0018797125189269311), (799, 0.002165434636591212), (801, 0.008763288618907569), (802, 0.002484844789081003), (803, 0.08659678133726124), (804, 0.016917412670342382), (805, 0.03264995972299573), (806, 0.0019344992697440959), (807, 0.0018797125189269311), (808, 0.013221818175446707), (811, 0.15942988061274282), (812, 0.012424223945405016), (813, 0.001621245423937612), (818, 0.004330869273182424), (821, 0.002484844789081003), (822, 0.0030850909076042318), (823, 0.002846962153798979), (824, 0.006610909087723354), (826, 0.002420529080616288), (829, 0.004847999997663793), (830, 0.012969963391500895), (832, 0.016917412670342382), (833, 0.0026443636350893416), (839, 0.000605132270154072), (842, 0.004330869273182424), (843, 0.002846962153798979), (847, 0.0004172994580432175), (848, 0.006285886588614177), (850, 0.0006954990967386958), (859, 0.002846962153798979), (866, 0.005639137556780794), (870, 0.001621245423937612), (871, 0.006610909087723354), (872, 0.0013221818175446708), (873, 0.001385283453372642), (874, 0.0032649959722995735), (876, 0.007454534367243009), (877, 0.001142888470657123), (879, 0.002484844789081003), (881, 0.001808297651520609), (883, 0.0019344992697440959), (888, 0.008857385647592702), (889, 0.004863736271812836), (893, 0.001815396810462216), (899, 0.0013909981934773915), (900, 0.003630793620924432), (903, 0.005541133813490568), (905, 0.0032649959722995735), (910, 0.00166919783217287), (912, 0.020283930763682814), (913, 0.0075188500757077245), (916, 0.008581663015404266), (917, 0.005729454542693573), (918, 0.00371438752963565), (920, 0.011348717967563282), (923, 0.03324680288094341), (926, 0.0035258181801191223), (927, 0.0008814545450297806), (929, 0.004312094399779914), (930, 0.005841097410687707), (932, 0.003900755916092849), (933, 0.0018797125189269311), (934, 0.001385283453372642), (936, 0.012992607819547272), (939, 0.10156121166156504), (941, 0.00692641726686321), (942, 0.016324979861497866), (943, 0.0020864972902160874), (944, 0.0075188500757077245), (946, 0.007143052941607019), (947, 0.005541133813490568), (949, 0.007454534367243009), (951, 0.001385283453372642), (952, 0.0020864972902160874), (956, 0.00166919783217287), (959, 0.007801511832185698), (960, 0.002165434636591212), (961, 0.004841058161232576), (962, 0.0017143327059856847), (966, 0.005541133813490568), (968, 0.0002781996386954783), (969, 0.01385283453372642), (970, 0.002484844789081003), (972, 0.002165434636591212), (973, 0.00166919783217287), (975, 0.0035258181801191223), (976, 0.0075188500757077245), (979, 0.0018797125189269311), (981, 0.009076984052311079), (984, 0.007143052941607019), (987, 0.027541764230852354), (988, 0.10639745983592527), (990, 0.0074287750592713), (992, 0.015238117987099061), (993, 0.003616595303041218), (995, 0.0023364389642750827), (996, 0.03872846528986061), (997, 0.0004407272725148903), (998, 0.0002781996386954783), (999, 0.0061701818152084635), (1001, 0.0030850909076042318), (1004, 0.10059396202669299), (1005, 0.001621245423937612), (1006, 0.002165434636591212), (1007, 0.003630793620924432), (1008, 0.0029017489046161437), (1010, 0.002770566906745284), (1012, 0.05263195052995407), (1016, 0.013157987632488518), (1017, 0.00302566135077036), (1019, 0.009696984173608493), (1020, 0.0026443636350893416), (1024, 0.0028572211766428072), (1025, 0.002420529080616288), (1028, 0.003242490847875224), (1029, 0.001210264540308144), (1032, 0.04936145452166771), (1033, 0.01410327272047649), (1042, 0.0019344992697440959), (1043, 0.0005714442353285615), (1044, 0.0015603023664371393), (1049, 0.00013909981934773916), (1053, 0.00934575585710033), (1056, 0.001210264540308144), (1058, 0.002165434636591212), (1065, 0.002846962153798979), (1066, 0.010892380862773296), (1069, 0.0019344992697440959), (1072, 0.0019344992697440959), (1074, 0.002165434636591212), (1076, 0.0026443636350893416), (1080, 0.004680907099311418), (1082, 0.004969689578162006), (1084, 0.022477090898259406), (1085, 0.016917412670342382), (1093, 0.005693924307597958), (1096, 0.04186909088891458), (1100, 0.0013221818175446708), (1101, 0.0011682194821375413), (1107, 0.008285941412264141), (1114, 0.0077379970789763835), (1115, 0.0029017489046161437), (1116, 0.0013909981934773915), (1121, 0.017526577237815137), (1126, 0.0023364389642750827), (1128, 0.0011127985547819132), (1130, 0.005693924307597958), (1135, 0.0019344992697440959), (1136, 0.005446190431386648), (1139, 0.0075188500757077245), (1140, 0.002770566906745284), (1144, 0.005639137556780794), (1147, 0.0005563992773909566), (1149, 0.008661738546364848), (1150, 0.003477495483693479), (1153, 0.019393968347216985), (1164, 0.002285776941314246), (1167, 0.022556550227123176), (1168, 0.08318346859899613), (1170, 0.025562181805863636), (1174, 0.0018797125189269311), (1175, 0.0023364389642750827), (1176, 0.0013221818175446708), (1177, 0.03738302342840132), (1182, 0.010922116565059975), (1183, 0.0011127985547819132), (1184, 0.010287248592619225), (1185, 0.003966545452634013), (1187, 0.013059983889198294), (1190, 0.01850027597324931), (1192, 0.018797125189269313), (1195, 0.002165434636591212), (1197, 0.0022255971095638265), (1198, 0.007650490064125653), (1199, 0.0017143327059856847), (1203, 0.004836248174360239), (1205, 0.018797125189269313), (1209, 0.002165434636591212), (1213, 0.00028572211766428074), (1214, 0.0005563992773909566), (1217, 0.013918042213543657), (1221, 0.002165434636591212), (1228, 0.00302566135077036), (1232, 0.0070093168928252484), (1237, 0.006770747444104336), (1238, 0.0002781996386954783), (1242, 0.001385283453372642), (1246, 0.002770566906745284), (1247, 0.0037594250378538622), (1249, 0.0257449890462128), (1253, 0.005639137556780794), (1256, 0.0023364389642750827), (1257, 0.002846962153798979), (1259, 0.008540886461396937), (1260, 0.0031429432943070883), (1261, 0.004672877928550165), (1262, 0.0014286105883214036), (1265, 0.0009736987354341742), (1267, 0.007143052941607019), (1269, 0.020857714589492492), (1273, 0.002285776941314246), (1275, 0.0037556951223889573), (1276, 0.0020864972902160874), (1277, 0.0008814545450297806), (1278, 0.003242490847875224), (1281, 0.006571608706278457), (1286, 0.0020864972902160874), (1290, 0.0075188500757077245), (1291, 0.011278275113561588), (1297, 0.000834598916086435), (1300, 0.0029017489046161437), (1301, 0.015238117987099061), (1309, 0.001142888470657123), (1311, 0.0015300980128251308), (1312, 0.003616595303041218), (1313, 0.0002781996386954783), (1317, 0.0019473974708683485), (1321, 0.0037594250378538622), (1325, 0.0023364389642750827), (1326, 0.09241098916444387), (1338, 0.0020000548236499653), (1339, 0.0013221818175446708), (1347, 0.034820986855393726), (1353, 0.009398562594634657), (1355, 0.004285831764964211), (1356, 0.0013221818175446708), (1357, 0.0075188500757077245), (1360, 0.0013221818175446708), (1361, 0.00979498791689872), (1364, 0.013093671924023803), (1365, 0.004836248174360239), (1366, 0.004969689578162006), (1367, 0.001142888470657123), (1368, 0.004672877928550165), (1369, 0.005803497809232287), (1379, 0.01869151171420066), (1380, 0.0411489943704769), (1381, 0.005693924307597958), (1386, 0.004868493677170871), (1391, 0.000605132270154072), (1392, 0.0018797125189269311), (1395, 0.001621245423937612), (1399, 0.00979498791689872), (1404, 0.002420529080616288), (1405, 0.002420529080616288), (1406, 0.0009672496348720479), (1410, 0.0015603023664371393), (1414, 0.010827173182956059), (1415, 0.007021360648967127), (1416, 0.009398562594634657), (1417, 0.004407272725148903), (1418, 0.004330869273182424), (1419, 0.015238117987099061), (1421, 0.021076190511188954), (1424, 0.0035258181801191223), (1425, 0.035609553753021224), (1428, 0.006484981695750448), (1430, 0.001385283453372642), (1438, 0.09241098916444387), (1441, 0.022556550227123176), (1444, 0.006484981695750448), (1445, 0.006610909087723354), (1453, 0.007866719512002936), (1454, 0.004330869273182424), (1459, 0.006496303909773636), (1460, 0.00692641726686321), (1461, 0.0005563992773909566), (1462, 0.0035046584464126242), (1465, 0.0037594250378538622), (1466, 0.001815396810462216), (1469, 0.011387848615195916), (1470, 0.002484844789081003), (1473, 0.0035046584464126242), (1478, 0.00028572211766428074), (1479, 0.0023646969289115656), (1480, 0.00013909981934773916), (1481, 0.012467551080353778), (1483, 0.014188181573469395), (1485, 0.010141965381841407), (1486, 0.0028572211766428072), (1489, 0.0008571663529928423), (1492, 0.006120392051300523), (1494, 0.00810622711968806), (1495, 0.001621245423937612), (1500, 0.0037594250378538622), (1501, 0.00028572211766428074), (1504, 0.007454534367243009), (1505, 0.001385283453372642), (1506, 0.014543999992991379), (1507, 0.008311700720235852), (1510, 0.012850414303512955), (1514, 0.004571553882628492), (1515, 0.00810622711968806), (1516, 0.001385283453372642), (1518, 0.008661738546364848), (1519, 0.07295604407719254), (1522, 0.000605132270154072), (1524, 0.018797125189269313), (1526, 0.001815396810462216), (1529, 0.006770747444104336), (1530, 0.000834598916086435), (1531, 0.0019473974708683485), (1535, 0.0022255971095638265), (1538, 0.004571553882628492), (1540, 0.01895127271814028), (1541, 0.001210264540308144), (1542, 0.0011127985547819132), (1547, 0.0022255971095638265), (1548, 0.0023364389642750827), (1549, 0.0011682194821375413), (1553, 0.0009672496348720479), (1555, 0.002846962153798979), (1560, 0.0007801511832185696), (1561, 0.01630690908305094), (1565, 0.004863736271812836), (1566, 0.0014286105883214036), (1569, 0.00692641726686321), (1572, 0.0007801511832185696), (1573, 0.0023646969289115656), (1582, 0.0019473974708683485), (1583, 0.012850414303512955), (1584, 0.0032649959722995735), (1585, 0.001385283453372642), (1588, 0.001385283453372642), (1589, 0.004235925891078504), (1594, 0.001621245423937612), (1595, 0.001210264540308144), (1596, 0.0019344992697440959), (1598, 0.005693924307597958), (1599, 0.0035258181801191223), (1600, 0.000605132270154072), (1601, 0.0014286105883214036), (1602, 0.001142888470657123), (1606, 0.000605132270154072), (1609, 0.016000438589199723), (1612, 0.0037594250378538622), (1615, 0.005693924307597958), (1617, 0.0011127985547819132), (1622, 0.0037594250378538622), (1623, 0.005639137556780794), (1624, 0.024436262746050104), (1625, 0.005729454542693573), (1633, 0.0032649959722995735), (1634, 0.010827173182956059), (1638, 0.00028572211766428074), (1639, 0.002770566906745284), (1640, 0.004847999997663793), (1642, 0.008661738546364848), (1647, 0.0013909981934773915), (1653, 0.04887252549210021), (1655, 0.0873769325204798), (1656, 0.02216453525396227), (1659, 0.018723628397245673), (1660, 0.22343466565544307), (1664, 0.0017143327059856847), (1665, 0.0017629090900595612), (1667, 0.0018797125189269311), (1671, 0.014018633785650497), (1674, 0.0034286654119713694), (1677, 0.003900755916092849), (1680, 0.02321399123692915), (1681, 0.05490631566046445), (1682, 0.0002781996386954783), (1688, 0.018723628397245673), (1689, 0.021064081946901382), (1691, 0.002165434636591212), (1695, 0.019344992697440958), (1697, 0.001385283453372642), (1699, 0.015158042456138485), (1707, 0.000834598916086435), (1710, 0.002484844789081003), (1713, 0.0029210962063025226), (1714, 0.004330869273182424), (1716, 0.007454534367243009), (1719, 0.003199295844998001), (1720, 0.005693924307597958), (1721, 0.005693924307597958), (1723, 0.0008814545450297806), (1724, 0.00028572211766428074), (1725, 0.0017629090900595612), (1726, 0.013157987632488518), (1727, 0.004155850360117926), (1728, 0.043308692731824236), (1732, 0.000605132270154072), (1733, 0.0031206047328742785), (1734, 0.017714771295185405), (1737, 0.005541133813490568), (1744, 0.006285886588614177), (1748, 0.002484844789081003), (1749, 0.005693924307597958), (1750, 0.0037556951223889573), (1753, 0.0009672496348720479), (1755, 0.0032649959722995735), (1756, 0.008471851782157008), (1757, 0.001815396810462216), (1759, 0.011348717967563282), (1763, 0.008485088980212089), (1764, 0.007094090786734697), (1766, 0.004672877928550165), (1768, 0.002165434636591212), (1770, 0.0008814545450297806), (1773, 0.006770747444104336), (1775, 0.002484844789081003), (1776, 0.0013909981934773915), (1780, 0.014591208815438508), (1783, 0.007801511832185698), (1785, 0.0019344992697440959), (1787, 0.0019473974708683485), (1789, 0.0038689985394881918), (1790, 0.003630793620924432), (1793, 0.1750945057852621), (1796, 0.001385283453372642), (1798, 0.0478969987676392), (1800, 0.004841058161232576), (1802, 0.015238117987099061), (1803, 0.002165434636591212), (1804, 0.0002781996386954783), (1805, 0.008285941412264141), (1806, 0.030075400302830898), (1808, 0.0014286105883214036), (1810, 0.00302566135077036), (1813, 0.006398591689996002), (1816, 0.001815396810462216), (1817, 0.0013221818175446708), (1820, 0.08898696640822841), (1821, 0.002165434636591212), (1823, 0.0030601960256502617), (1825, 0.0007801511832185696), (1828, 0.017833699663313732), (1829, 0.0029017489046161437), (1830, 0.002165434636591212), (1834, 0.006537691509343741), (1835, 0.003477495483693479), (1836, 0.009361814198622836), (1839, 0.001385283453372642), (1840, 0.002285776941314246), (1841, 0.001210264540308144), (1843, 0.0009672496348720479), (1845, 0.0004407272725148903), (1847, 0.005803497809232287), (1849, 0.0008814545450297806), (1850, 0.0023646969289115656), (1853, 0.0075188500757077245), (1856, 0.007261587241848864), (1858, 0.001385283453372642), (1862, 0.009428829882921265), (1863, 0.02593992678300179), (1869, 0.0037594250378538622), (1871, 0.0009672496348720479), (1872, 0.010892380862773296), (1873, 0.019364232644930306), (1874, 0.0026443636350893416), (1880, 0.0037556951223889573), (1881, 0.00013909981934773916), (1882, 0.002285776941314246), (1890, 0.0007801511832185696), (1891, 0.026572156942778112), (1894, 0.006496303909773636), (1898, 0.001808297651520609), (1899, 0.003630793620924432), (1902, 0.0008571663529928423), (1903, 0.0020000548236499653), (1906, 0.002285776941314246), (1910, 0.01718836362808072), (1919, 0.002846962153798979), (1920, 0.001621245423937612), (1921, 0.0015603023664371393), (1922, 0.010513975339237872), (1923, 0.0020864972902160874), (1926, 0.0004407272725148903), (1930, 0.0020000548236499653), (1931, 0.004969689578162006), (1933, 0.0009736987354341742), (1934, 0.0004407272725148903), (1935, 0.004235925891078504), (1939, 0.001621245423937612), (1943, 0.005541133813490568), (1945, 0.0009672496348720479), (1946, 0.004364557308007934), (1947, 0.01630690908305094), (1948, 0.0015300980128251308), (1952, 0.025985215639094544), (1953, 0.0029017489046161437), (1954, 0.012857495294892635), (1956, 0.004868493677170871), (1957, 0.015733439024005872), (1960, 0.002846962153798979), (1961, 0.0025037967482593048), (1962, 0.0029017489046161437), (1964, 0.0048572760002927725), (1965, 0.0035258181801191223), (1967, 0.0030601960256502617), (1968, 0.001815396810462216), (1969, 0.0037594250378538622), (1973, 0.002285776941314246), (1976, 0.008814545450297806), (1978, 0.002642896567607044), (1979, 0.0017629090900595612), (1981, 0.039473962897465555), (1985, 0.0015603023664371393), (1988, 0.0020864972902160874), (1989, 0.011278275113561588), (1990, 0.0023364389642750827), (1991, 0.0037594250378538622), (1992, 0.005288727270178683), (1995, 0.0025714990589785266), (1998, 0.009428829882921265), (2000, 0.010892380862773296), (2001, 0.0035258181801191223), (2009, 0.003242490847875224), (2012, 0.0006954990967386958), (2014, 0.0004407272725148903), (2016, 0.009076984052311079), (2017, 0.010015186993037219), (2019, 0.0015300980128251308), (2022, 0.004841058161232576), (2023, 0.005703092593257306), (2025, 0.005841097410687707), (2027, 0.001621245423937612), (2030, 0.024857824236792427), (2031, 0.04892072724915282), (2032, 0.08771669012293419), (2034, 0.003199295844998001), (2039, 0.00810622711968806), (2042, 0.001621245423937612), (2045, 0.0002781996386954783), (2047, 0.010513975339237872), (2049, 0.000605132270154072), (2053, 0.002165434636591212), (2054, 0.01385283453372642), (2055, 0.0011127985547819132), (2060, 0.000605132270154072), (2064, 0.002340453549655709), (2065, 0.009255272722812695), (2066, 0.0018797125189269311), (2069, 0.0028572211766428072), (2071, 0.0075188500757077245), (2073, 0.004836248174360239), (2074, 0.007021360648967127), (2075, 0.003477495483693479), (2076, 0.002340453549655709), (2078, 0.0014286105883214036), (2079, 0.0009672496348720479), (2081, 0.000605132270154072), (2084, 0.0011127985547819132), (2088, 0.0011127985547819132), (2093, 0.0005563992773909566), (2100, 0.0015300980128251308), (2104, 0.05957919358901461), (2106, 0.002846962153798979), (2110, 0.001385283453372642), (2115, 0.001621245423937612), (2117, 0.0008571663529928423), (2119, 0.01958997583379744), (2120, 0.009361814198622836), (2123, 0.020714181808199842), (2124, 0.0011682194821375413), (2126, 0.0070093168928252484), (2128, 0.002846962153798979), (2130, 0.00302566135077036), (2134, 0.001815396810462216), (2135, 0.0019344992697440959), (2136, 0.005461058282529988), (2138, 0.0015603023664371393), (2142, 0.0035046584464126242), (2148, 0.0032649959722995735), (2149, 0.003242490847875224), (2153, 0.001142888470657123), (2154, 0.002846962153798979), (2158, 0.0009736987354341742), (2159, 0.002420529080616288), (2160, 0.0035258181801191223), (2163, 0.029182417630877016), (2166, 0.0035046584464126242), (2168, 0.0035258181801191223), (2170, 0.004155850360117926), (2172, 0.002781996386954783), (2174, 0.008661738546364848), (2175, 0.007928689702821132), (2176, 0.0029017489046161437), (2178, 0.0011682194821375413), (2179, 0.0022255971095638265), (2181, 0.006770747444104336), (2182, 0.0035046584464126242), (2185, 0.004836248174360239), (2186, 0.0018797125189269311), (2187, 0.003242490847875224), (2190, 0.0032649959722995735), (2193, 0.0029017489046161437), (2198, 0.0012518983741296524), (2212, 0.0026443636350893416), (2216, 0.012482418931497114), (2218, 0.0026443636350893416), (2221, 0.007021360648967127), (2223, 0.0037594250378538622), (2224, 0.0037594250378538622), (2228, 0.00028572211766428074), (2230, 0.0017143327059856847), (2232, 0.005693924307597958), (2233, 0.0013221818175446708), (2235, 0.005693924307597958), (2238, 0.006496303909773636), (2239, 0.02216453525396227), (2240, 0.035097671668936174), (2241, 0.002846962153798979), (2243, 0.0031429432943070883), (2244, 0.004235925891078504), (2246, 0.005729454542693573), (2253, 0.0023646969289115656), (2255, 0.003966545452634013), (2256, 0.004033894761084436), (2257, 0.0011682194821375413), (2260, 0.009727472543625671), (2262, 0.0037594250378538622), (2263, 0.0008814545450297806), (2270, 0.006241209465748557), (2271, 0.003966545452634013), (2274, 0.004451194219127653), (2276, 0.0011682194821375413), (2282, 0.01621245423937612), (2290, 0.012482418931497114), (2291, 0.006529991944599147), (2292, 0.007454534367243009), (2295, 0.000834598916086435), (2297, 0.009696984173608493), (2298, 0.015158042456138485), (2299, 0.001815396810462216), (2301, 0.0029210962063025226), (2303, 0.0007801511832185696), (2305, 0.012992607819547272), (2311, 0.003242490847875224), (2312, 0.002165434636591212), (2318, 0.08916849831656866), (2321, 0.001210264540308144), (2322, 0.001210264540308144), (2325, 0.0018797125189269311), (2326, 0.0004407272725148903), (2329, 0.0037594250378538622), (2330, 0.0037594250378538622), (2331, 0.006496303909773636), (2337, 0.015603023664371395), (2338, 0.005144708491226504), (2341, 0.010639745983592528), (2342, 0.011497513132927368), (2345, 0.0035046584464126242), (2347, 0.020312242332313008), (2348, 0.006244269826934866), (2349, 0.0032649959722995735), (2358, 0.0032649959722995735), (2363, 0.0013221818175446708), (2364, 0.0020000548236499653), (2366, 0.005144708491226504), (2368, 0.0037594250378538622), (2369, 0.0006954990967386958), (2371, 0.022363603101729027), (2373, 0.0009736987354341742), (2376, 0.0009672496348720479), (2378, 0.011278275113561588), (2381, 0.022697435935126565), (2382, 0.002770566906745284), (2387, 0.001815396810462216), (2389, 0.0009672496348720479), (2392, 0.002165434636591212), (2393, 0.0007801511832185696), (2398, 0.0018797125189269311), (2402, 0.003242490847875224), (2411, 0.0037594250378538622), (2414, 0.004841058161232576), (2415, 0.002165434636591212), (2419, 0.00667679132869148), (2420, 0.0028572211766428072), (2421, 0.001808297651520609), (2422, 0.0070093168928252484), (2430, 0.00934575585710033), (2434, 0.0013221818175446708), (2435, 0.004672877928550165), (2436, 0.003900755916092849), (2438, 0.002846962153798979), (2447, 0.003242490847875224), (2450, 0.002484844789081003), (2454, 0.0031206047328742785), (2456, 0.0031206047328742785), (2458, 0.008540886461396937), (2459, 0.007454534367243009), (2462, 0.027082989776417345), (2466, 0.04914952454276989), (2468, 0.00371438752963565), (2469, 0.005693924307597958), (2470, 0.017393913523567023), (2472, 0.000605132270154072), (2473, 0.002420529080616288), (2477, 0.0048572760002927725), (2481, 0.03416354584558775), (2483, 0.001621245423937612), (2487, 0.0015603023664371393), (2489, 0.0011682194821375413), (2490, 0.003894794941736697), (2493, 0.0017629090900595612), (2494, 0.0019344992697440959), (2495, 0.00692641726686321), (2496, 0.006241209465748557), (2497, 0.005693924307597958), (2498, 0.000605132270154072), (2499, 0.007801511832185698), (2500, 0.017393913523567023), (2502, 0.007094090786734697), (2503, 0.0006954990967386958), (2505, 0.002420529080616288), (2506, 0.004836248174360239), (2507, 0.0075188500757077245), (2508, 0.0011682194821375413), (2509, 0.0017629090900595612), (2510, 0.002846962153798979), (2513, 0.009727472543625671), (2514, 0.007928689702821132), (2517, 0.005541133813490568), (2519, 0.0478969987676392), (2520, 0.009696984173608493), (2522, 0.0014286105883214036), (2524, 0.0035046584464126242), (2532, 0.005541133813490568), (2535, 0.004330869273182424), (2538, 0.0018797125189269311), (2551, 0.002165434636591212), (2555, 0.0035046584464126242), (2556, 0.010289416982453009), (2558, 0.013157987632488518), (2563, 0.001210264540308144), (2565, 0.0005714442353285615), (2566, 0.0013909981934773915), (2567, 0.005693924307597958), (2568, 0.0029017489046161437), (2570, 0.002484844789081003), (2576, 0.0014286105883214036), (2578, 0.002846962153798979), (2584, 0.0015603023664371393), (2588, 0.006610909087723354), (2590, 0.0019344992697440959), (2591, 0.007454534367243009), (2592, 0.0038689985394881918), (2593, 0.0018797125189269311), (2596, 0.004969689578162006), (2597, 0.009076984052311079), (2600, 0.0017629090900595612), (2601, 0.003242490847875224), (2602, 0.004863736271812836), (2604, 0.0061701818152084635), (2606, 0.0008571663529928423), (2607, 0.001210264540308144), (2609, 0.011278275113561588), (2610, 0.014042721297934255), (2617, 0.016338571294159943), (2618, 0.0019344992697440959), (2623, 0.0066564549716947915), (2627, 0.0057144423532856144), (2628, 0.004330869273182424), (2631, 0.002165434636591212), (2637, 0.005541133813490568), (2639, 0.0028572211766428072), (2640, 0.001808297651520609), (2641, 0.0048572760002927725), (2647, 0.004680907099311418), (2648, 0.0020864972902160874), (2651, 0.0017629090900595612), (2654, 0.017323477092729696), (2663, 0.002484844789081003), (2667, 0.00817753637496279), (2668, 0.004330869273182424), (2670, 0.001808297651520609), (2674, 0.005461058282529988), (2675, 0.0025714990589785266), (2678, 0.0008814545450297806), (2681, 0.006484981695750448), (2682, 0.008581663015404266), (2690, 0.0017143327059856847), (2692, 0.0009672496348720479), (2694, 0.0026443636350893416), (2696, 0.002165434636591212), (2698, 0.014234810768994896), (2702, 0.00013909981934773916), (2703, 0.003894794941736697), (2704, 0.003900755916092849), (2706, 0.001385283453372642), (2708, 0.001621245423937612), (2710, 0.000605132270154072), (2713, 0.015037700151415449), (2715, 0.011278275113561588), (2716, 0.014234810768994896), (2718, 0.005693924307597958), (2722, 0.0025037967482593048), (2724, 0.0035258181801191223), (2729, 0.0029017489046161437), (2730, 0.019454945087251343), (2731, 0.0004172994580432175), (2733, 0.008661738546364848), (2734, 0.0005714442353285615), (2735, 0.000605132270154072), (2737, 0.008705246713848432), (2738, 0.002846962153798979), (2740, 0.004312094399779914), (2742, 0.00028572211766428074), (2743, 0.006496303909773636), (2744, 0.0013221818175446708), (2749, 0.01837774306256891), (2751, 0.0029017489046161437), (2752, 0.001815396810462216), (2753, 0.0020864972902160874), (2754, 0.0032649959722995735), (2758, 0.001385283453372642), (2761, 0.002846962153798979), (2762, 0.01869151171420066), (2763, 0.005285793135214088), (2767, 0.004841058161232576), (2769, 0.0017143327059856847), (2770, 0.0005563992773909566), (2773, 0.0006954990967386958), (2778, 0.0031429432943070883), (2779, 0.0015603023664371393), (2783, 0.01950377958046424), (2784, 0.001621245423937612), (2787, 0.0070093168928252484), (2791, 0.014523174483697728), (2793, 0.0030601960256502617), (2794, 0.004330869273182424), (2801, 0.003966545452634013), (2802, 0.0009736987354341742), (2805, 0.008705246713848432), (2806, 0.002846962153798979), (2807, 0.005693924307597958), (2810, 0.004364557308007934), (2811, 0.004330869273182424), (2812, 0.011458909085387147), (2813, 0.002781996386954783), (2816, 0.001621245423937612), (2817, 0.0005563992773909566), (2818, 0.0023364389642750827), (2820, 0.0006954990967386958), (2823, 0.005541133813490568), (2826, 0.0037594250378538622), (2834, 0.0008571663529928423), (2835, 0.06372303885514154), (2839, 0.004847999997663793), (2841, 0.006770747444104336), (2842, 0.003242490847875224), (2850, 0.00771449717693558), (2851, 0.002420529080616288), (2854, 0.002846962153798979), (2855, 0.004680907099311418), (2857, 0.002484844789081003), (2858, 0.0026443636350893416), (2862, 0.00166919783217287), (2863, 0.004155850360117926), (2874, 0.0032649959722995735), (2875, 0.0018797125189269311), (2876, 0.002484844789081003), (2878, 0.004969689578162006), (2883, 0.0023364389642750827), (2886, 0.00302566135077036), (2891, 0.004836248174360239), (2892, 0.010015186993037219), (2897, 0.002770566906745284), (2898, 0.00979498791689872), (2901, 0.0017143327059856847), (2903, 0.0025037967482593048), (2904, 0.0009672496348720479), (2912, 0.0037594250378538622), (2913, 0.004407272725148903), (2914, 0.018008684893844346), (2915, 0.0018797125189269311), (2918, 0.0037594250378538622), (2927, 0.008571663529928423), (2931, 0.006000164470949895), (2934, 0.0022255971095638265), (2936, 0.00817753637496279), (2940, 0.011428884706571229), (2941, 0.00371438752963565), (2942, 0.0009736987354341742), (2946, 0.005142998117957053), (2948, 0.0032649959722995735), (2953, 0.001385283453372642), (2955, 0.002484844789081003), (2956, 0.004672877928550165), (2957, 0.0061701818152084635), (2958, 0.0004407272725148903), (2960, 0.007021360648967127), (2961, 0.004969689578162006), (2962, 0.05428720235621334), (2964, 0.004285831764964211), (2968, 0.0015603023664371393), (2969, 0.007454534367243009), (2970, 0.0030850909076042318), (2971, 0.005461058282529988), (2972, 0.0023364389642750827), (2973, 0.002165434636591212), (2974, 0.0007801511832185696), (2975, 0.0011682194821375413), (2976, 0.003242490847875224), (2978, 0.0007801511832185696), (2981, 0.021977771456942786), (2983, 0.0020000548236499653), (2985, 0.015238117987099061), (2987, 0.002846962153798979), (2989, 0.041157667929812035), (2991, 0.0018797125189269311), (2992, 0.00810622711968806), (2993, 0.003242490847875224), (2994, 0.004364557308007934), (2996, 0.00333839566434574), (2998, 0.005693924307597958), (3000, 0.0017143327059856847), (3002, 0.007454534367243009), (3004, 0.00979498791689872), (3009, 0.004969689578162006), (3011, 0.002165434636591212), (3015, 0.001210264540308144), (3029, 0.002165434636591212), (3031, 0.0019344992697440959), (3040, 0.001808297651520609), (3042, 0.004969689578162006), (3046, 0.004841058161232576), (3047, 0.0035046584464126242), (3051, 0.010577454540357367), (3052, 0.0017629090900595612), (3054, 0.0037594250378538622), (3055, 0.00810622711968806), (3060, 0.0025714990589785266), (3062, 0.0007801511832185696), (3063, 0.002846962153798979), (3068, 0.021154909080714733), (3069, 0.016286160706864002), (3072, 0.004000109647299931), (3073, 0.019364232644930306), (3077, 0.002642896567607044), (3081, 0.002484844789081003), (3082, 0.0037556951223889573), (3083, 0.004364557308007934), (3085, 0.001621245423937612), (3088, 0.0037594250378538622), (3090, 0.011348717967563282), (3091, 0.0017629090900595612), (3096, 0.0008571663529928423), (3099, 0.003199295844998001), (3100, 0.004000109647299931), (3105, 0.0018797125189269311), (3118, 0.0011682194821375413), (3122, 0.004729393857823131), (3123, 0.002846962153798979), (3134, 0.0009736987354341742), (3145, 0.003242490847875224), (3147, 0.0018797125189269311), (3157, 0.0023646969289115656), (3158, 0.0004172994580432175), (3167, 0.004235925891078504), (3171, 0.0030850909076042318), (3176, 0.004364557308007934), (3178, 0.0015603023664371393), (3184, 0.001385283453372642), (3185, 0.012850414303512955), (3186, 0.1334804496123426), (3188, 0.0037594250378538622), (3198, 0.001621245423937612), (3199, 0.0009672496348720479), (3200, 0.002165434636591212), (3202, 0.004847999997663793), (3204, 0.009398562594634657), (3206, 0.008373818177782915), (3207, 0.0032649959722995735), (3208, 0.001385283453372642), (3210, 0.015733439024005872), (3221, 0.010136727267842477), (3222, 0.00302566135077036), (3223, 0.0075188500757077245), (3224, 0.0026443636350893416), (3225, 0.001621245423937612), (3227, 0.027082989776417345), (3228, 0.0032649959722995735), (3229, 0.003242490847875224), (3231, 0.0037594250378538622), (3233, 0.000605132270154072), (3235, 0.0020000548236499653), (3236, 0.001385283453372642), (3238, 0.00302566135077036), (3239, 0.010000274118249827), (3241, 0.011387848615195916), (3243, 0.0028572211766428072), (3244, 0.0075188500757077245), (3245, 0.008311700720235852), (3248, 0.0029017489046161437), (3250, 0.0031206047328742785), (3253, 0.003630793620924432), (3254, 0.057242754624739524), (3261, 0.002340453549655709), (3264, 0.03248151954886818), (3271, 0.00013909981934773916), (3274, 0.0018797125189269311), (3279, 0.0037594250378538622), (3280, 0.016623401440471704), (3293, 0.0009736987354341742), (3294, 0.0015603023664371393), (3297, 0.011702267748278546), (3299, 0.002165434636591212), (3300, 0.005693924307597958), (3302, 0.004330869273182424), (3304, 0.001621245423937612), (3305, 0.007789589883473394), (3312, 0.00979498791689872), (3314, 0.00692641726686321), (3316, 0.002846962153798979), (3317, 0.009076984052311079), (3318, 0.011082267626981135), (3319, 0.004235925891078504), (3322, 0.0009672496348720479), (3323, 0.004863736271812836), (3335, 0.05841097410687707), (3339, 0.008729114616015868), (3340, 0.007454534367243009), (3342, 0.0032649959722995735), (3348, 0.0075188500757077245), (3349, 0.003242490847875224), (3350, 0.006770747444104336), (3365, 0.013059983889198294), (3366, 0.0020864972902160874), (3368, 0.0023364389642750827), (3374, 0.005288727270178683), (3376, 0.0017143327059856847), (3378, 0.0035046584464126242), (3380, 0.006529991944599147), (3381, 0.008485088980212089), (3384, 0.0028572211766428072), (3385, 0.006529991944599147), (3386, 0.004841058161232576), (3387, 0.002770566906745284), (3388, 0.003477495483693479), (3389, 0.019859731196338205), (3390, 0.003242490847875224), (3391, 0.0029017489046161437), (3392, 0.001621245423937612), (3394, 0.0023364389642750827), (3397, 0.009180588076950786), (3398, 0.0075188500757077245), (3400, 0.00028572211766428074), (3401, 0.001815396810462216), (3405, 0.001621245423937612), (3406, 0.006484981695750448), (3407, 0.0009672496348720479), (3415, 0.0022036363625744515), (3416, 0.0025037967482593048), (3422, 0.0014286105883214036), (3426, 0.0013221818175446708), (3428, 0.0007801511832185696), (3430, 0.026884363623408306), (3431, 0.03922472725382523), (3432, 0.00333839566434574), (3433, 0.005842192412605045), (3434, 0.012969963391500895), (3435, 0.002642896567607044), (3436, 0.0018797125189269311), (3441, 0.0019473974708683485), (3443, 0.012992607819547272), (3449, 0.023358545443289185), (3450, 0.0358869544280542), (3452, 0.005639137556780794), (3454, 0.016383174847589964), (3455, 0.005841097410687707), (3457, 0.001815396810462216), (3458, 0.0022255971095638265), (3459, 0.0023364389642750827), (3465, 0.010432486451080436), (3467, 0.003900755916092849), (3469, 0.003630793620924432), (3470, 0.004969689578162006), (3473, 0.01385283453372642), (3475, 0.004155850360117926), (3477, 0.009727472543625671), (3480, 0.0014286105883214036), (3481, 0.004836248174360239), (3482, 0.0075188500757077245), (3484, 0.0015603023664371393), (3487, 0.001621245423937612), (3491, 0.009727472543625671), (3492, 0.0035046584464126242), (3495, 0.0004407272725148903), (3501, 0.0031206047328742785), (3503, 0.004330869273182424), (3507, 0.0030601960256502617), (3515, 0.0015603023664371393), (3519, 0.0037594250378538622), (3521, 0.009939379156324013), (3524, 0.00810622711968806), (3525, 0.002846962153798979), (3531, 0.0008814545450297806), (3536, 0.03772273576000987), (3539, 0.003966545452634013), (3540, 0.0028572211766428072), (3541, 0.00302566135077036), (3542, 0.012424223945405016), (3543, 0.006484981695750448), (3544, 0.001385283453372642), (3546, 0.002642896567607044), (3555, 0.0008814545450297806), (3556, 0.0009672496348720479), (3558, 0.003242490847875224), (3559, 0.010141965381841407), (3568, 0.0037594250378538622), (3571, 0.0009736987354341742), (3572, 0.001385283453372642), (3575, 0.0004172994580432175), (3580, 0.0038689985394881918), (3581, 0.0019344992697440959), (3582, 0.006529991944599147), (3583, 0.003900755916092849), (3585, 0.0030850909076042318), (3586, 0.0029210962063025226), (3587, 0.003630793620924432), (3588, 0.006537691509343741), (3589, 0.012574245253336624), (3597, 0.000605132270154072), (3598, 0.023600158536008806), (3599, 0.003477495483693479), (3600, 0.00028572211766428074), (3602, 0.0013221818175446708), (3604, 0.0037594250378538622), (3606, 0.001815396810462216), (3607, 0.003900755916092849), (3614, 0.0008814545450297806), (3615, 0.0023364389642750827), (3616, 0.004407272725148903), (3617, 0.012571773177228353), (3618, 0.004364557308007934), (3620, 0.009143107765256984), (3621, 0.0037594250378538622), (3623, 0.001142888470657123), (3624, 0.001385283453372642), (3625, 0.0037594250378538622), (3627, 0.002165434636591212), (3628, 0.0017629090900595612), (3632, 0.020714181808199842), (3635, 0.002165434636591212), (3636, 0.011348717967563282), (3637, 0.010827173182956059), (3642, 0.0009672496348720479), (3643, 0.026119967778396588), (3645, 0.0002781996386954783), (3647, 0.002846962153798979), (3649, 0.016324979861497866), (3653, 0.006241209465748557), (3654, 0.0005714442353285615), (3655, 0.002484844789081003), (3657, 0.0023364389642750827), (3658, 0.001385283453372642), (3659, 0.0018797125189269311), (3663, 0.007454534367243009), (3664, 0.008540886461396937), (3666, 0.002770566906745284), (3674, 0.00979498791689872), (3675, 0.0017629090900595612), (3676, 0.020676837708196245), (3677, 0.09193925719599712), (3678, 0.004000109647299931), (3679, 0.003616595303041218), (3681, 0.0011682194821375413), (3682, 0.0007801511832185696), (3683, 0.004836248174360239), (3684, 0.006484981695750448), (3685, 0.0031206047328742785), (3687, 0.009398562594634657), (3689, 0.0011682194821375413), (3692, 0.0009736987354341742), (3695, 0.0031206047328742785), (3696, 0.004969689578162006), (3701, 0.001621245423937612), (3704, 0.0037594250378538622), (3705, 0.0013221818175446708), (3707, 0.000605132270154072), (3711, 0.04088768187481395), (3712, 0.03288648758564963), (3715, 0.005639137556780794), (3718, 0.0035046584464126242), (3719, 0.003900755916092849), (3720, 0.0015603023664371393), (3722, 0.0037594250378538622), (3724, 0.007454534367243009), (3727, 0.005803497809232287), (3728, 0.002846962153798979), (3730, 0.0013221818175446708), (3736, 0.001815396810462216), (3739, 0.0004172994580432175), (3742, 0.011387848615195916), (3747, 0.0002781996386954783), (3748, 0.003242490847875224), (3754, 0.0029017489046161437), (3757, 0.008540886461396937), (3760, 0.0031429432943070883), (3766, 0.010827173182956059), (3768, 0.002484844789081003), (3769, 0.0011682194821375413), (3774, 0.006000164470949895), (3775, 0.013541494888208673), (3777, 0.006529991944599147), (3779, 0.0018797125189269311), (3781, 0.00371438752963565), (3783, 0.004364557308007934), (3785, 0.010289416982453009), (3786, 0.003477495483693479), (3787, 0.019454945087251343), (3794, 0.002165434636591212), (3798, 0.0030601960256502617), (3799, 0.011387848615195916), (3801, 0.004836248174360239), (3802, 0.00810622711968806), (3806, 0.003966545452634013), (3807, 0.009727472543625671), (3808, 0.01410327272047649), (3809, 0.00810622711968806), (3812, 0.01674763635556583), (3816, 0.004680907099311418), (3819, 0.006529991944599147), (3821, 0.0008571663529928423), (3826, 0.013541494888208673), (3827, 0.010289416982453009), (3828, 0.002484844789081003), (3830, 0.0032649959722995735), (3831, 0.0008814545450297806), (3832, 0.009696984173608493), (3833, 0.005144708491226504), (3839, 0.0032649959722995735), (3842, 0.002340453549655709), (3843, 0.01958997583379744), (3845, 0.005803497809232287), (3847, 0.002484844789081003), (3848, 0.00692641726686321), (3849, 0.001815396810462216), (3850, 0.00166919783217287), (3855, 0.00371438752963565), (3856, 0.005693924307597958), (3857, 0.001210264540308144), (3858, 0.006484981695750448), (3859, 0.0028572211766428072), (3860, 0.004033894761084436), (3861, 0.012574245253336624), (3864, 0.006241209465748557), (3865, 0.005841097410687707), (3867, 0.001385283453372642), (3869, 0.0017629090900595612), (3870, 0.005144708491226504), (3872, 0.009672496348720479), (3874, 0.005144708491226504), (3876, 0.007454534367243009), (3879, 0.006241209465748557), (3880, 0.003966545452634013), (3884, 0.00817753637496279), (3886, 0.0070093168928252484), (3891, 0.006496303909773636), (3894, 0.033834825340684764), (3897, 0.005144708491226504), (3899, 0.0037594250378538622), (3901, 0.007454534367243009), (3902, 0.014018633785650497), (3904, 0.020283930763682814), (3905, 0.00817753637496279), (3908, 0.0007801511832185696), (3910, 0.004330869273182424), (3919, 0.0075188500757077245), (3922, 0.04364557308007934), (3953, 0.0436884662602399), (3957, 0.0035046584464126242), (3965, 0.004969689578162006), (3974, 0.002846962153798979), (3987, 0.008661738546364848), (3989, 0.013157987632488518), (3990, 0.002846962153798979), (3992, 0.007454534367243009), (3993, 0.005144708491226504), (3996, 0.04323338793531942), (4010, 0.0035046584464126242), (4024, 0.014909068734486018), (4025, 0.016324979861497866), (4032, 0.0037594250378538622), (4037, 0.0037594250378538622), (4043, 0.010827173182956059), (4048, 0.0683270916911755), (4049, 0.011348717967563282), (4050, 0.0032649959722995735), (4053, 0.0032649959722995735), (4062, 0.006244269826934866), (4066, 0.006244269826934866), (4074, 0.043709888788544066), (4083, 0.0018797125189269311), (4086, 0.002846962153798979), (4095, 0.004364557308007934), (4096, 0.02593992678300179), (4108, 0.00979498791689872), (4121, 0.0018797125189269311), (4123, 0.017323477092729696), (4129, 0.011278275113561588), (4131, 0.004863736271812836), (4132, 0.0037594250378538622), (4135, 0.005461058282529988), (4140, 0.0032649959722995735), (4141, 0.0037594250378538622), (4145, 0.033834825340684764), (4153, 0.005144708491226504), (4157, 0.006244269826934866), (4159, 0.005639137556780794), (4166, 0.0075188500757077245), (4172, 0.005693924307597958), (4180, 0.005693924307597958), (4191, 0.006529991944599147), (4192, 0.004863736271812836), (4210, 0.015434125473679514), (4211, 0.005144708491226504), (4212, 0.006529991944599147), (4214, 0.005144708491226504), (4217, 0.0037594250378538622), (4221, 0.001385283453372642), (4230, 0.026119967778396588), (4234, 0.017833699663313732), (4239, 0.027561172206939405), (4240, 0.002484844789081003), (4242, 0.02277569723039183), (4243, 0.027333292679891034), (4244, 0.005144708491226504), (4250, 0.001385283453372642), (4252, 0.0023364389642750827), (4263, 0.0035046584464126242), (4264, 0.01385283453372642), (4292, 0.002846962153798979), (4297, 0.00810622711968806), (4298, 0.005144708491226504), (4316, 0.002165434636591212), (4322, 0.03416354584558775), (4334, 0.0075188500757077245), (4340, 0.005693924307597958), (4343, 0.0075188500757077245), (4346, 0.006529991944599147), (4365, 0.0075188500757077245), (4368, 0.0032649959722995735), (4370, 0.004836248174360239), (4378, 0.0037594250378538622), (4380, 0.010289416982453009), (4387, 0.008729114616015868), (4398, 0.002846962153798979), (4399, 0.009696984173608493), (4400, 0.026315975264977035), (4403, 0.0075188500757077245), (4409, 0.002165434636591212), (4431, 0.0032649959722995735), (4441, 0.0032649959722995735), (4444, 0.012467551080353778), (4450, 0.005693924307597958), (4459, 0.004155850360117926), (4470, 0.006496303909773636), (4475, 0.005639137556780794), (4484, 0.0075188500757077245), (4508, 0.028150650275685755), (4511, 0.006529991944599147), (4514, 0.017410493427696863), (4524, 0.002846962153798979), (4525, 0.005639137556780794), (4537, 0.002484844789081003), (4545, 0.013157987632488518), (4551, 0.022854971806097014), (4564, 0.004364557308007934), (4565, 0.001621245423937612), (4567, 0.012992607819547272), (4570, 0.005446190431386648), (4571, 0.0037594250378538622), (4572, 0.014234810768994896), (4577, 0.04135367541639249), (4579, 0.006529991944599147), (4582, 0.05263195052995407), (4588, 0.004364557308007934), (4614, 0.006244269826934866), (4626, 0.024239999988318963), (4645, 0.000605132270154072), (4652, 0.004364557308007934), (4659, 0.011278275113561588), (4672, 0.0075188500757077245), (4675, 0.011278275113561588), (4695, 0.002484844789081003), (4696, 0.005693924307597958), (4697, 0.02277569723039183), (4704, 0.014909068734486018), (4708, 0.002484844789081003), (4716, 0.009939379156324013), (4720, 0.004836248174360239), (4721, 0.0007801511832185696), (4723, 0.002846962153798979), (4728, 0.002165434636591212), (4735, 0.005693924307597958), (4737, 0.008540886461396937), (4745, 0.005639137556780794), (4746, 0.010289416982453009), (4747, 0.004364557308007934), (4750, 0.020578833964906017), (4752, 0.0018797125189269311), (4758, 0.014234810768994896), (4759, 0.030868250947359028), (4764, 0.0075188500757077245), (4765, 0.010289416982453009), (4776, 0.05715143014886307), (4779, 0.03242490847875224), (4780, 0.09141988722438806), (4792, 0.002484844789081003), (4797, 0.008540886461396937), (4803, 0.0023364389642750827), (4809, 0.019878758312648025), (4814, 0.010289416982453009), (4818, 0.0008814545450297806), (4822, 0.000605132270154072), (4824, 0.011278275113561588), (4825, 0.03264995972299573), (4830, 0.002770566906745284), (4832, 0.0037594250378538622), (4834, 0.0037594250378538622), (4836, 0.0013221818175446708), (4845, 0.002165434636591212), (4847, 0.004672877928550165), (4853, 0.017393913523567023), (4856, 0.062337755401768884), (4868, 0.0075188500757077245), (4869, 0.012424223945405016), (4870, 0.002165434636591212), (4872, 0.005693924307597958), (4877, 0.012424223945405016), (4883, 0.012424223945405016), (4893, 0.0030850909076042318), (4895, 0.03727267183621505), (4896, 0.018797125189269313), (4897, 0.005541133813490568), (4898, 0.001621245423937612), (4912, 0.004863736271812836), (4915, 0.004364557308007934), (4916, 0.016623401440471704), (4921, 0.004364557308007934), (4927, 0.007454534367243009), (4928, 0.019878758312648025), (4932, 0.026119967778396588), (4938, 0.017410493427696863), (4939, 0.002846962153798979), (4951, 0.002846962153798979), (4953, 0.012424223945405016), (4988, 0.0029017489046161437), (4991, 0.001385283453372642), (4999, 0.0009672496348720479), (5002, 0.0032649959722995735), (5003, 0.0037594250378538622), (5009, 0.0032649959722995735), (5013, 0.002165434636591212), (5018, 0.0032649959722995735), (5025, 0.014909068734486018), (5027, 0.002165434636591212), (5028, 0.014018633785650497), (5032, 0.005144708491226504), (5039, 0.002484844789081003), (5040, 0.006529991944599147), (5063, 0.0075188500757077245), (5070, 0.0032649959722995735), (5079, 0.034632086334316046), (5081, 0.006529991944599147), (5082, 0.00817753637496279), (5086, 0.005144708491226504), (5087, 0.008729114616015868), (5099, 0.019393968347216985), (5101, 0.0032649959722995735), (5102, 0.0037594250378538622), (5106, 0.005144708491226504), (5108, 0.014909068734486018), (5118, 0.013059983889198294), (5128, 0.0037594250378538622), (5135, 0.005639137556780794), (5136, 0.005144708491226504), (5139, 0.004364557308007934), (5146, 0.006244269826934866), (5148, 0.006496303909773636), (5151, 0.00979498791689872), (5152, 0.015238117987099061), (5156, 0.05124531876838163), (5161, 0.02117962945539252), (5165, 0.00979498791689872), (5172, 0.005144708491226504), (5176, 0.002770566906745284), (5179, 0.002165434636591212), (5191, 0.006529991944599147), (5194, 0.0018797125189269311), (5196, 0.002846962153798979), (5197, 0.012488539653869733), (5200, 0.010289416982453009), (5202, 0.0075188500757077245), (5212, 0.022363603101729027), (5215, 0.004364557308007934), (5219, 0.03055190115605554), (5224, 0.022697435935126565), (5229, 0.0019344992697440959), (5232, 0.004863736271812836), (5247, 0.005693924307597958), (5262, 0.001621245423937612), (5273, 0.001385283453372642), (5276, 0.010827173182956059), (5277, 0.002846962153798979), (5279, 0.009939379156324013), (5282, 0.0037594250378538622), (5283, 0.0018797125189269311), (5287, 0.013541494888208673), (5290, 0.005144708491226504), (5297, 0.00810622711968806), (5299, 0.028150650275685755), (5300, 0.049804996641597876), (5306, 0.0009672496348720479), (5317, 0.006529991944599147), (5319, 0.011278275113561588), (5320, 0.0032649959722995735), (5333, 0.026119967778396588), (5335, 0.0037594250378538622), (5336, 0.0037594250378538622), (5341, 0.0011682194821375413), (5342, 0.008729114616015868), (5346, 0.014909068734486018), (5351, 0.010289416982453009), (5369, 0.0019344992697440959), (5380, 0.004364557308007934), (5381, 0.005693924307597958), (5382, 0.008729114616015868), (5385, 0.0037594250378538622), (5402, 0.02808544259586851), (5412, 0.0037594250378538622), (5415, 0.0032649959722995735), (5419, 0.004969689578162006), (5425, 0.0075188500757077245), (5431, 0.005144708491226504), (5432, 0.08945441240691611), (5439, 0.0037594250378538622), (5440, 0.006244269826934866), (5441, 0.0037594250378538622), (5444, 0.004155850360117926), (5453, 0.011387848615195916), (5454, 0.005541133813490568), (5455, 0.001210264540308144), (5457, 0.00810622711968806), (5458, 0.006529991944599147), (5459, 0.018797125189269313), (5460, 0.0032649959722995735), (5471, 0.043308692731824236), (5478, 0.02593992678300179), (5479, 0.010827173182956059), (5480, 0.002340453549655709), (5481, 0.015434125473679514), (5482, 0.0023364389642750827), (5485, 0.05125548777478775), (5508, 0.004330869273182424), (5510, 0.0037594250378538622), (5514, 0.018797125189269313), (5517, 0.004155850360117926), (5523, 0.0037594250378538622), (5524, 0.002484844789081003), (5525, 0.002846962153798979), (5529, 0.0075188500757077245), (5530, 0.002165434636591212), (5531, 0.0075188500757077245), (5532, 0.005541133813490568), (5534, 0.027333292679891034), (5538, 0.004364557308007934), (5539, 0.016324979861497866), (5546, 0.004364557308007934), (5548, 0.0031206047328742785), (5555, 0.004836248174360239), (5562, 0.0037594250378538622), (5564, 0.0009672496348720479), (5567, 0.0374656189616092), (5576, 0.004364557308007934), (5579, 0.004969689578162006), (5586, 0.002846962153798979), (5591, 0.002770566906745284), (5592, 0.011278275113561588), (5602, 0.016324979861497866), (5618, 0.006529991944599147), (5620, 0.011497513132927368), (5622, 0.009727472543625671), (5625, 0.0037594250378538622), (5636, 0.004364557308007934), (5639, 0.006529991944599147), (5652, 0.010289416982453009), (5656, 0.00934575585710033), (5666, 0.005144708491226504), (5670, 0.019928735076592853), (5678, 0.03591495569529531), (5679, 0.03900755916092848), (5681, 0.026315975264977035), (5685, 0.002484844789081003), (5688, 0.03491645846406347), (5696, 0.0077379970789763835), (5708, 0.002165434636591212), (5709, 0.004364557308007934), (5711, 0.012488539653869733), (5718, 0.004672877928550165), (5719, 0.0009672496348720479), (5722, 0.017081772922793875), (5734, 0.008540886461396937), (5744, 0.011387848615195916), (5747, 0.0032649959722995735), (5751, 0.011387848615195916), (5753, 0.021279491967185055), (5757, 0.019969364915084376), (5758, 0.028150650275685755), (5759, 0.09468488319668762), (5764, 0.002484844789081003), (5765, 0.0032649959722995735), (5766, 0.002484844789081003), (5767, 0.0032649959722995735), (5775, 0.0032649959722995735), (5783, 0.012424223945405016), (5793, 0.005144708491226504), (5812, 0.002846962153798979), (5824, 0.011497513132927368), (5829, 0.007866719512002936), (5830, 0.0011682194821375413), (5832, 0.0037594250378538622), (5837, 0.004364557308007934), (5838, 0.0032649959722995735), (5847, 0.0011682194821375413), (5850, 0.007454534367243009), (5854, 0.0037594250378538622), (5858, 0.002484844789081003), (5863, 0.014909068734486018), (5867, 0.006529991944599147), (5868, 0.01958997583379744), (5870, 0.002165434636591212), (5873, 0.012488539653869733), (5882, 0.004330869273182424), (5885, 0.004364557308007934), (5893, 0.009939379156324013), (5897, 0.0032649959722995735), (5898, 0.014909068734486018), (5900, 0.026315975264977035), (5905, 0.030868250947359028), (5907, 0.0032649959722995735), (5914, 0.003630793620924432), (5915, 0.004330869273182424), (5917, 0.013059983889198294), (5919, 0.007454534367243009), (5927, 0.002165434636591212), (5936, 0.009939379156324013), (5945, 0.008729114616015868), (5951, 0.012424223945405016), (5952, 0.004330869273182424), (5953, 0.001815396810462216), (5954, 0.0037594250378538622), (5955, 0.006529991944599147), (5957, 0.0037594250378538622), (5959, 0.004364557308007934), (5963, 0.05144708491226504), (5970, 0.004364557308007934), (5975, 0.010289416982453009), (5986, 0.00979498791689872), (5993, 0.0037594250378538622), (5999, 0.002484844789081003), (6006, 0.004364557308007934), (6019, 0.002846962153798979), (6020, 0.015037700151415449), (6021, 0.006244269826934866), (6025, 0.010289416982453009), (6026, 0.04721205099253906), (6031, 0.015037700151415449), (6033, 0.002165434636591212), (6034, 0.002165434636591212), (6038, 0.002484844789081003), (6042, 0.002165434636591212), (6045, 0.12782045128703132), (6049, 0.0032649959722995735), (6053, 0.004672877928550165), (6056, 0.018008684893844346), (6058, 0.014822872481152823), (6063, 0.0077379970789763835), (6066, 0.0075188500757077245), (6069, 0.0037594250378538622), (6071, 0.002846962153798979), (6073, 0.012488539653869733), (6074, 0.004364557308007934), (6081, 0.012424223945405016), (6086, 0.0037594250378538622), (6090, 0.019859731196338205), (6092, 0.011387848615195916), (6093, 0.004969689578162006), (6099, 0.00979498791689872), (6104, 0.0075188500757077245), (6106, 0.0032649959722995735), (6110, 0.004330869273182424), (6111, 0.005144708491226504), (6115, 0.004863736271812836), (6116, 0.020578833964906017), (6122, 0.014234810768994896), (6124, 0.008729114616015868), (6126, 0.017081772922793875), (6128, 0.006610909087723354), (6129, 0.0019344992697440959), (6131, 0.002846962153798979), (6133, 0.008661738546364848), (6136, 0.017081772922793875), (6143, 0.018797125189269313), (6144, 0.0037594250378538622), (6150, 0.010289416982453009), (6154, 0.006244269826934866), (6157, 0.007454534367243009), (6162, 0.0037594250378538622), (6165, 0.008661738546364848), (6179, 0.004364557308007934), (6183, 0.004969689578162006), (6192, 0.002484844789081003), (6197, 0.03759425037853863), (6213, 0.002165434636591212), (6235, 0.002484844789081003), (6237, 0.005144708491226504), (6238, 0.008729114616015868), (6239, 0.0037594250378538622), (6264, 0.0037594250378538622), (6290, 0.00817753637496279), (6291, 0.006529991944599147), (6313, 0.002770566906745284), (6315, 0.0032649959722995735), (6324, 0.002846962153798979), (6326, 0.005144708491226504), (6333, 0.005693924307597958), (6334, 0.004364557308007934), (6356, 0.0037594250378538622), (6363, 0.0011682194821375413), (6367, 0.023549818707334913), (6373, 0.044493483204114205), (6382, 0.005144708491226504), (6389, 0.002165434636591212), (6393, 0.006529991944599147), (6394, 0.005144708491226504), (6400, 0.0007801511832185696), (6411, 0.0009672496348720479), (6416, 0.012424223945405016), (6417, 0.004863736271812836), (6420, 0.0075188500757077245), (6428, 0.004364557308007934), (6433, 0.008729114616015868), (6434, 0.011387848615195916), (6462, 0.021654346365912118), (6469, 0.004364557308007934), (6487, 0.0032649959722995735), (6490, 0.06391022564351566), (6491, 0.0032649959722995735), (6492, 0.008729114616015868), (6493, 0.004364557308007934), (6496, 0.002165434636591212), (6499, 0.008729114616015868), (6511, 0.009939379156324013), (6513, 0.002484844789081003), (6515, 0.006529991944599147), (6521, 0.022854971806097014), (6532, 0.005693924307597958), (6533, 0.0075188500757077245), (6535, 0.015475994157952767), (6540, 0.011387848615195916), (6545, 0.0037594250378538622), (6551, 0.00979498791689872), (6566, 0.006244269826934866), (6568, 0.006496303909773636), (6569, 0.006484981695750448), (6581, 0.005144708491226504), (6584, 0.006496303909773636), (6588, 0.005288727270178683), (6591, 0.006529991944599147), (6594, 0.016324979861497866), (6596, 0.1466058425557792), (6597, 0.0037594250378538622), (6601, 0.004969689578162006), (6603, 0.026315975264977035), (6605, 0.013059983889198294), (6622, 0.0007801511832185696), (6628, 0.0037594250378538622), (6629, 0.001385283453372642), (6638, 0.0075188500757077245), (6642, 0.002165434636591212), (6646, 0.004364557308007934), (6650, 0.08825582676776836), (6653, 0.0032649959722995735), (6660, 0.00979498791689872), (6666, 0.004969689578162006), (6672, 0.0008814545450297806), (6676, 0.002846962153798979), (6679, 0.0032649959722995735), (6687, 0.004969689578162006), (6689, 0.001621245423937612), (6691, 0.001385283453372642), (6692, 0.006529991944599147), (6699, 0.011387848615195916), (6706, 0.005144708491226504), (6707, 0.024848447890810033), (6708, 0.011278275113561588), (6710, 0.0032649959722995735), (6711, 0.0032649959722995735), (6728, 0.0037594250378538622), (6734, 0.0032649959722995735), (6740, 0.006529991944599147), (6744, 0.009939379156324013), (6750, 0.022556550227123176), (6754, 0.0037594250378538622), (6760, 0.002165434636591212), (6761, 0.005639137556780794), (6772, 0.012467551080353778), (6775, 0.020578833964906017), (6778, 0.012488539653869733), (6784, 0.006244269826934866), (6790, 0.005144708491226504), (6801, 0.004364557308007934), (6806, 0.001621245423937612), (6813, 0.001621245423937612), (6824, 0.0037594250378538622), (6825, 0.0032649959722995735), (6826, 0.0037594250378538622), (6831, 0.012969963391500895), (6842, 0.004863736271812836), (6845, 0.005144708491226504), (6849, 0.003242490847875224), (6853, 0.0018797125189269311), (6854, 0.0032649959722995735), (6860, 0.008729114616015868), (6877, 0.012467551080353778), (6881, 0.0037594250378538622), (6887, 0.0011682194821375413), (6890, 0.0032649959722995735), (6892, 0.016324979861497866), (6904, 0.001385283453372642), (6905, 0.0075188500757077245), (6907, 0.02182278654003967), (6923, 0.017081772922793875), (6936, 0.0075188500757077245), (6944, 0.004364557308007934), (6945, 0.017393913523567023), (6947, 0.0032649959722995735), (6948, 0.002846962153798979), (6949, 0.0037594250378538622), (6952, 0.004364557308007934), (6953, 0.004364557308007934), (6960, 0.00605132270154072), (6967, 0.005693924307597958), (6987, 0.008729114616015868), (6989, 0.002484844789081003), (6990, 0.009939379156324013), (7003, 0.004672877928550165), (7010, 0.010289416982453009), (7011, 0.005144708491226504), (7020, 0.017081772922793875), (7029, 0.0032649959722995735), (7031, 0.007454534367243009), (7032, 0.0032649959722995735), (7039, 0.011278275113561588), (7041, 0.013059983889198294), (7051, 0.02572354245613252), (7058, 0.004680907099311418), (7067, 0.0018797125189269311), (7071, 0.004364557308007934), (7072, 0.0032649959722995735), (7080, 0.0032649959722995735), (7101, 0.006244269826934866), (7115, 0.011497513132927368), (7124, 0.11672544830575815), (7142, 0.002165434636591212), (7150, 0.004836248174360239), (7153, 0.009361814198622836), (7154, 0.008729114616015868), (7167, 0.005841097410687707), (7172, 0.019928735076592853), (7173, 0.008540886461396937), (7180, 0.026315975264977035), (7181, 0.009727472543625671), (7182, 0.022556550227123176), (7183, 0.0009672496348720479), (7187, 0.005144708491226504), (7190, 0.002484844789081003), (7198, 0.0037594250378538622), (7214, 0.0023364389642750827), (7217, 0.006484981695750448), (7221, 0.00979498791689872), (7222, 0.015037700151415449), (7231, 0.008540886461396937), (7234, 0.0032649959722995735), (7239, 0.005693924307597958), (7241, 0.002846962153798979), (7244, 0.0009672496348720479), (7247, 0.019878758312648025), (7250, 0.00302566135077036), (7251, 0.001210264540308144), (7252, 0.019393968347216985), (7254, 0.002846962153798979), (7260, 0.0070093168928252484), (7264, 0.0032649959722995735), (7266, 0.0018797125189269311), (7268, 0.015434125473679514), (7271, 0.006244269826934866), (7273, 0.02496483786299423), (7277, 0.001621245423937612), (7278, 0.015037700151415449), (7279, 0.044392340321226575), (7282, 0.0032649959722995735), (7283, 0.0009672496348720479), (7287, 0.011702267748278546), (7289, 0.005693924307597958), (7294, 0.004680907099311418), (7295, 0.004364557308007934), (7300, 0.006244269826934866), (7310, 0.005144708491226504), (7317, 0.0035046584464126242), (7330, 0.0075188500757077245), (7335, 0.0023364389642750827), (7337, 0.010892380862773296), (7339, 0.0017629090900595612), (7340, 0.0037594250378538622), (7352, 0.009398562594634657), (7364, 0.005693924307597958), (7387, 0.004364557308007934), (7392, 0.008729114616015868), (7400, 0.0037594250378538622), (7401, 0.022556550227123176), (7402, 0.005803497809232287), (7405, 0.007454534367243009), (7406, 0.002846962153798979), (7407, 0.0032649959722995735), (7408, 0.005144708491226504), (7411, 0.004364557308007934), (7413, 0.03248151954886818), (7414, 0.012969963391500895), (7417, 0.0031206047328742785), (7418, 0.019878758312648025), (7420, 0.0037594250378538622), (7421, 0.06856491541829104), (7424, 0.0037594250378538622), (7427, 0.0032649959722995735), (7432, 0.001621245423937612), (7460, 0.002484844789081003), (7468, 0.004364557308007934), (7469, 0.010289416982453009), (7476, 0.005541133813490568), (7477, 0.07133479865325493), (7479, 0.00979498791689872), (7492, 0.0032649959722995735), (7494, 0.004364557308007934), (7495, 0.002484844789081003), (7498, 0.004364557308007934), (7502, 0.006285886588614177), (7504, 0.03230298225805304), (7506, 0.0075188500757077245), (7510, 0.0032649959722995735), (7512, 0.0037594250378538622), (7518, 0.0037594250378538622), (7519, 0.0037594250378538622), (7525, 0.006496303909773636), (7532, 0.004364557308007934), (7539, 0.014234810768994896), (7543, 0.002165434636591212), (7547, 0.0075188500757077245), (7562, 0.01869151171420066), (7564, 0.06383847590155517), (7566, 0.006244269826934866), (7574, 0.013059983889198294), (7579, 0.0075188500757077245), (7590, 0.0032649959722995735), (7591, 0.004364557308007934), (7594, 0.006529991944599147), (7595, 0.0037594250378538622), (7608, 0.006244269826934866), (7622, 0.008729114616015868), (7632, 0.006244269826934866), (7637, 0.00810622711968806), (7641, 0.0032649959722995735), (7642, 0.0075188500757077245), (7645, 0.006244269826934866), (7658, 0.004969689578162006), (7660, 0.0037594250378538622), (7671, 0.0037594250378538622), (7674, 0.002165434636591212), (7677, 0.009672496348720479), (7681, 0.004364557308007934), (7682, 0.06372303885514154), (7705, 0.004680907099311418), (7713, 0.002846962153798979), (7717, 0.004364557308007934), (7722, 0.013059983889198294), (7725, 0.0009672496348720479), (7736, 0.028195687783903967), (7742, 0.005693924307597958), (7746, 0.001385283453372642), (7752, 0.001385283453372642), (7758, 0.005693924307597958), (7761, 0.002770566906745284), (7766, 0.008729114616015868), (7779, 0.04539487187025313), (7787, 0.001621245423937612), (7790, 0.0018797125189269311), (7792, 0.019878758312648025), (7797, 0.013093671924023803), (7800, 0.002484844789081003), (7802, 0.004235925891078504), (7806, 0.006496303909773636), (7808, 0.008729114616015868), (7816, 0.007454534367243009), (7824, 0.0037594250378538622), (7826, 0.009398562594634657), (7833, 0.0011682194821375413), (7835, 0.011387848615195916), (7836, 0.0037594250378538622), (7843, 0.002846962153798979), (7850, 0.007454534367243009), (7851, 0.002484844789081003), (7853, 0.004364557308007934), (7861, 0.010289416982453009), (7863, 0.012424223945405016), (7866, 0.002484844789081003), (7875, 0.002484844789081003), (7881, 0.007454534367243009), (7884, 0.004863736271812836), (7889, 0.004969689578162006), (7908, 0.018797125189269313), (7910, 0.012488539653869733), (7916, 0.012992607819547272), (7923, 0.004969689578162006), (7926, 0.008729114616015868), (7932, 0.005461058282529988), (7942, 0.00810622711968806), (7943, 0.00817753637496279), (7947, 0.0037594250378538622), (7948, 0.0037594250378538622), (7949, 0.002846962153798979), (7956, 0.0075188500757077245), (7965, 0.05125548777478775), (7966, 0.017081772922793875), (7973, 0.0037594250378538622), (7986, 0.03154192601771362), (7992, 0.0032649959722995735), (7995, 0.004672877928550165), (7999, 0.002484844789081003), (8001, 0.002846962153798979), (8009, 0.0037594250378538622), (8017, 0.0032649959722995735), (8023, 0.002846962153798979), (8036, 0.002846962153798979), (8039, 0.014909068734486018), (8041, 0.006529991944599147), (8048, 0.0075188500757077245), (8050, 0.005144708491226504), (8051, 0.012488539653869733), (8052, 0.00810622711968806), (8069, 0.007454534367243009), (8072, 0.010289416982453009), (8077, 0.034046153902689856), (8083, 0.017323477092729696), (8094, 0.0018797125189269311), (8098, 0.03055190115605554), (8110, 0.002484844789081003), (8111, 0.010141965381841407), (8112, 0.0037594250378538622), (8115, 0.010289416982453009), (8118, 0.001385283453372642), (8119, 0.006496303909773636), (8122, 0.004330869273182424), (8165, 0.0037594250378538622), (8168, 0.0018797125189269311), (8174, 0.0038689985394881918), (8176, 0.02182278654003967), (8188, 0.0032649959722995735), (8195, 0.0037594250378538622), (8196, 0.002846962153798979), (8198, 0.017393913523567023), (8203, 0.004969689578162006), (8205, 0.006529991944599147), (8206, 0.003242490847875224), (8224, 0.0037594250378538622), (8229, 0.001621245423937612), (8231, 0.0335465008783985), (8235, 0.026115740141545295), (8236, 0.0038689985394881918), (8242, 0.0037594250378538622), (8262, 0.004364557308007934), (8268, 0.001621245423937612), (8278, 0.0032649959722995735), (8280, 0.010289416982453009), (8282, 0.0037594250378538622), (8289, 0.006484981695750448), (8300, 0.002484844789081003), (8302, 0.005144708491226504), (8311, 0.0037594250378538622), (8321, 0.015434125473679514), (8325, 0.002770566906745284), (8334, 0.0037594250378538622), (8337, 0.005144708491226504), (8342, 0.0018797125189269311), (8350, 0.014909068734486018), (8353, 0.030075400302830898), (8355, 0.01895127271814028), (8360, 0.015037700151415449), (8361, 0.015037700151415449), (8363, 0.008705246713848432), (8366, 0.02182278654003967), (8372, 0.0032649959722995735), (8378, 0.002846962153798979), (8399, 0.022556550227123176), (8400, 0.005144708491226504), (8404, 0.005693924307597958), (8412, 0.0032649959722995735), (8428, 0.020578833964906017), (8429, 0.006244269826934866), (8433, 0.015158042456138485), (8435, 0.013093671924023803), (8444, 0.002484844789081003), (8449, 0.005144708491226504), (8450, 0.029384963750696158), (8456, 0.0018797125189269311), (8474, 0.004364557308007934), (8483, 0.002846962153798979), (8485, 0.002484844789081003), (8489, 0.006529991944599147), (8498, 0.005144708491226504), (8511, 0.019488911729320907), (8514, 0.009939379156324013), (8517, 0.006244269826934866), (8519, 0.011606995618464575), (8520, 0.005639137556780794), (8522, 0.011278275113561588), (8524, 0.017458229232031736), (8525, 0.002846962153798979), (8526, 0.003242490847875224), (8530, 0.0032649959722995735), (8534, 0.04887252549210021), (8535, 0.002165434636591212), (8540, 0.013093671924023803), (8542, 0.01958997583379744), (8546, 0.017458229232031736), (8553, 0.002846962153798979), (8561, 0.005693924307597958), (8562, 0.017393913523567023), (8566, 0.0032649959722995735), (8574, 0.0619156325532897), (8575, 0.016324979861497866), (8576, 0.002770566906745284), (8583, 0.001385283453372642), (8585, 0.003242490847875224), (8589, 0.03055190115605554), (8592, 0.01958997583379744), (8593, 0.006529991944599147), (8595, 0.008729114616015868), (8597, 0.0037594250378538622), (8601, 0.002484844789081003), (8603, 0.006496303909773636), (8611, 0.0011682194821375413), (8629, 0.008729114616015868), (8631, 0.004364557308007934), (8637, 0.004364557308007934), (8659, 0.004969689578162006), (8667, 0.005693924307597958), (8676, 0.022854971806097014), (8678, 0.003242490847875224), (8684, 0.006244269826934866), (8691, 0.006244269826934866), (8696, 0.005144708491226504), (8704, 0.004330869273182424), (8705, 0.0032649959722995735), (8719, 0.016623401440471704), (8737, 0.004364557308007934), (8741, 0.004863736271812836), (8752, 0.0037594250378538622), (8765, 0.0037594250378538622), (8776, 0.015037700151415449), (8788, 0.004364557308007934), (8790, 0.0023364389642750827), (8795, 0.0032649959722995735), (8807, 0.0032649959722995735), (8814, 0.0037594250378538622), (8816, 0.0023364389642750827), (8824, 0.05409228092218061), (8838, 0.015434125473679514), (8839, 0.022854971806097014), (8841, 0.017081772922793875), (8856, 0.014234810768994896), (8868, 0.005144708491226504), (8881, 0.014909068734486018), (8883, 0.0032649959722995735), (8897, 0.011387848615195916), (8909, 0.015037700151415449), (8916, 0.006496303909773636), (8920, 0.0032649959722995735), (8932, 0.005693924307597958), (8934, 0.008729114616015868), (8942, 0.00979498791689872), (8951, 0.0187328094808046), (8989, 0.006244269826934866), (8993, 0.0032649959722995735), (9006, 0.016917412670342382), (9013, 0.0037594250378538622), (9015, 0.002846962153798979), (9034, 0.11654217617346974), (9036, 0.04511310045424635), (9037, 0.006529991944599147), (9042, 0.06766965068136953), (9050, 0.04570994361219403), (9055, 0.006529991944599147), (9057, 0.006244269826934866), (9061, 0.010289416982453009), (9062, 0.0037594250378538622), (9072, 0.008540886461396937), (9081, 0.002846962153798979), (9086, 0.007454534367243009), (9095, 0.007454534367243009), (9122, 0.0018797125189269311), (9131, 0.012424223945405016), (9135, 0.0032649959722995735), (9161, 0.024848447890810033), (9164, 0.004969689578162006), (9166, 0.006496303909773636), (9180, 0.014909068734486018), (9185, 0.04555139446078366), (9186, 0.011278275113561588), (9188, 0.006529991944599147), (9194, 0.04270443230698468), (9195, 0.013093671924023803), (9198, 0.008540886461396937), (9206, 0.004364557308007934), (9218, 0.0037594250378538622), (9232, 0.0037594250378538622), (9237, 0.012488539653869733), (9241, 0.0037594250378538622), (9244, 0.004364557308007934), (9247, 0.013093671924023803), (9249, 0.006244269826934866), (9255, 0.008729114616015868), (9261, 0.004364557308007934), (9262, 0.001621245423937612), (9264, 0.002846962153798979), (9267, 0.018797125189269313), (9271, 0.005693924307597958), (9277, 0.08646677587063883), (9310, 0.0032649959722995735), (9311, 0.006244269826934866), (9331, 0.010289416982453009), (9361, 0.006244269826934866), (9370, 0.004969689578162006), (9391, 0.022556550227123176), (9395, 0.008729114616015868), (9399, 0.027561172206939405), (9409, 0.010289416982453009), (9414, 0.005144708491226504), (9456, 0.042444947639894454), (9460, 0.0037594250378538622), (9463, 0.026187343848047606), (9468, 0.006244269826934866), (9516, 0.020578833964906017), (9527, 0.006529991944599147), (9530, 0.013059983889198294), (9539, 0.004364557308007934), (9543, 0.005144708491226504), (9551, 0.005693924307597958), (9560, 0.002484844789081003), (9576, 0.02182278654003967), (9592, 0.0037594250378538622), (9615, 0.002846962153798979), (9637, 0.0075188500757077245), (9662, 0.006244269826934866), (9667, 0.005144708491226504), (9670, 0.008729114616015868), (9674, 0.0037594250378538622), (9675, 0.002846962153798979), (9676, 0.004969689578162006), (9727, 0.0032649959722995735), (9751, 0.006244269826934866), (9772, 0.012488539653869733), (9784, 0.005144708491226504), (9785, 0.008729114616015868), (9786, 0.0037594250378538622), (9794, 0.006496303909773636), (9796, 0.020578833964906017), (9803, 0.006244269826934866), (9815, 0.04135367541639249), (9816, 0.008540886461396937), (9824, 0.005693924307597958), (9828, 0.006244269826934866), (9829, 0.008729114616015868), (9841, 0.004364557308007934), (9853, 0.008540886461396937), (9863, 0.013093671924023803), (9871, 0.006244269826934866), (9872, 0.005144708491226504), (9884, 0.002846962153798979), (9916, 0.0032649959722995735), (9979, 0.002846962153798979), (10001, 0.006244269826934866), (10011, 0.004364557308007934), (10019, 0.012488539653869733), (10073, 0.006244269826934866), (10080, 0.0037594250378538622), (10108, 0.0037594250378538622), (10110, 0.004364557308007934), (10117, 0.002484844789081003), (10155, 0.002484844789081003), (10156, 0.004364557308007934), (10158, 0.005144708491226504), (10178, 0.008729114616015868), (10179, 0.005144708491226504), (10194, 0.006529991944599147), (10200, 0.005144708491226504), (10203, 0.006244269826934866), (10207, 0.0032649959722995735), (10236, 0.006244269826934866), (10255, 0.0032649959722995735), (10287, 0.010289416982453009), (10342, 0.018797125189269313), (10348, 0.004364557308007934), (10375, 0.0075188500757077245), (10380, 0.005144708491226504), (10388, 0.0037594250378538622), (10400, 0.0187328094808046), (10404, 0.004364557308007934), (10473, 0.0032649959722995735), (10481, 0.01958997583379744), (10485, 0.008729114616015868), (10520, 0.0032649959722995735), (10532, 0.006244269826934866), (10602, 0.004364557308007934), (10609, 0.0037594250378538622), (10651, 0.004364557308007934), (10677, 0.005144708491226504), (10691, 0.002484844789081003), (10708, 0.005144708491226504), (10722, 0.0037594250378538622), (10743, 0.008729114616015868), (10775, 0.0037594250378538622), (10789, 0.005144708491226504), (10791, 0.0032649959722995735), (10798, 0.008729114616015868), (10803, 0.0023364389642750827), (10808, 0.0032649959722995735), (10811, 0.012488539653869733), (10814, 0.010289416982453009), (10823, 0.015434125473679514), (10826, 0.004969689578162006), (10836, 0.005144708491226504), (10843, 0.004364557308007934), (10851, 0.0037594250378538622), (10857, 0.005693924307597958), (10862, 0.004364557308007934), (10876, 0.0032649959722995735), (10880, 0.005693924307597958), (10881, 0.002846962153798979), (10890, 0.004969689578162006), (10893, 0.005144708491226504), (10896, 0.005144708491226504), (10905, 0.00979498791689872), (10913, 0.004364557308007934), (10916, 0.005693924307597958), (10934, 0.002846962153798979), (10948, 0.002846962153798979), (10952, 0.012488539653869733), (10971, 0.010289416982453009), (10972, 0.005144708491226504), (10986, 0.008729114616015868), (10987, 0.006244269826934866), (10992, 0.0037594250378538622), (10995, 0.017323477092729696), (11009, 0.004364557308007934), (11014, 0.0037594250378538622), (11015, 0.00979498791689872), (11022, 0.005693924307597958), (11026, 0.011278275113561588), (11034, 0.0037594250378538622), (11046, 0.043709888788544066), (11088, 0.002484844789081003), (11098, 0.004364557308007934), (11104, 0.0075188500757077245), (11126, 0.008729114616015868), (11154, 0.006244269826934866), (11159, 0.005144708491226504), (11162, 0.006244269826934866), (11170, 0.012488539653869733), (11174, 0.005144708491226504), (11177, 0.02182278654003967), (11180, 0.015434125473679514), (11181, 0.03928101577207141), (11191, 0.008729114616015868), (11193, 0.008540886461396937), (11194, 0.005144708491226504), (11210, 0.015434125473679514), (11221, 0.008729114616015868), (11225, 0.0037594250378538622), (11232, 0.002165434636591212), (11233, 0.004364557308007934), (11234, 0.0037594250378538622), (11236, 0.006244269826934866), (11243, 0.02572354245613252), (11245, 0.004364557308007934), (11250, 0.017458229232031736), (11251, 0.03264995972299573), (11261, 0.0032649959722995735), (11263, 0.004364557308007934), (11265, 0.013093671924023803), (11266, 0.005144708491226504), (11271, 0.08162489930748934), (11272, 0.013093671924023803), (11274, 0.004364557308007934), (11276, 0.06529991944599146), (11277, 0.005144708491226504), (11286, 0.0037594250378538622), (11288, 0.02572354245613252), (11292, 0.10803887831575659), (11294, 0.0032649959722995735), (11298, 0.0032649959722995735), (11300, 0.006244269826934866), (11303, 0.03917995166759488), (11315, 0.03264995972299573), (11318, 0.0037594250378538622), (11320, 0.010289416982453009), (11322, 0.006244269826934866), (11323, 0.005144708491226504), (11326, 0.020578833964906017), (11335, 0.005144708491226504), (11339, 0.005144708491226504), (11340, 0.0075188500757077245), (11343, 0.041157667929812035), (11346, 0.06983291692812695), (11347, 0.004364557308007934), (11352, 0.026187343848047606), (11353, 0.0037594250378538622), (11354, 0.0075188500757077245), (11360, 0.012488539653869733), (11362, 0.008729114616015868), (11363, 0.010289416982453009), (11366, 0.0075188500757077245), (11368, 0.005693924307597958), (11371, 0.006244269826934866), (11374, 0.006529991944599147), (11376, 0.011278275113561588), (11381, 0.008729114616015868), (11388, 0.006244269826934866), (11397, 0.004364557308007934), (11403, 0.06244269826934866), (11405, 0.093664047404023), (11409, 0.0037594250378538622), (11413, 0.018797125189269313), (11414, 0.012488539653869733), (11417, 0.004364557308007934), (11419, 0.015037700151415449), (11425, 0.005144708491226504), (11430, 0.006244269826934866), (11433, 0.004364557308007934), (11434, 0.0075188500757077245), (11439, 0.006244269826934866), (11448, 0.024977079307739465), (11450, 0.002846962153798979), (11455, 0.015037700151415449), (11459, 0.006244269826934866), (11467, 0.004364557308007934), (11471, 0.09679671322916529), (11472, 0.0037594250378538622), (11475, 0.008540886461396937), (11477, 0.005144708491226504), (11483, 0.0032649959722995735), (11485, 0.006244269826934866), (11486, 0.0037594250378538622), (11487, 0.004364557308007934), (11488, 0.004364557308007934), (11489, 0.004364557308007934), (11492, 0.0075188500757077245), (11497, 0.0037594250378538622), (11499, 0.022556550227123176), (11501, 0.005144708491226504), (11503, 0.005144708491226504), (11512, 0.005144708491226504), (11525, 0.0037594250378538622), (11533, 0.006244269826934866), (11539, 0.020578833964906017), (11545, 0.10289416982453008), (11548, 0.006244269826934866), (11549, 0.006244269826934866), (11550, 0.008729114616015868), (11552, 0.005144708491226504), (11581, 0.012488539653869733), (11610, 0.005144708491226504), (11625, 0.0037594250378538622), (11679, 0.005144708491226504), (11701, 0.006244269826934866), (11711, 0.010289416982453009), (11758, 0.004364557308007934), (11769, 0.006244269826934866), (11773, 0.004364557308007934), (11792, 0.004364557308007934), (11824, 0.002484844789081003), (11862, 0.004364557308007934), (11909, 0.004364557308007934), (11922, 0.0037594250378538622), (11973, 0.005144708491226504), (11985, 0.005144708491226504), (11994, 0.020578833964906017), (11998, 0.004364557308007934), (12006, 0.0037594250378538622), (12015, 0.02182278654003967), (12085, 0.0037594250378538622), (12134, 0.010289416982453009), (12138, 0.02572354245613252), (12179, 0.00979498791689872), (12186, 0.0037594250378538622), (12198, 0.017458229232031736), (12208, 0.006244269826934866), (12277, 0.005144708491226504), (12297, 0.004364557308007934), (12333, 0.005144708491226504), (12359, 0.005144708491226504), (12391, 0.006244269826934866), (12395, 0.015434125473679514), (12419, 0.005144708491226504), (12456, 0.02182278654003967), (12498, 0.006244269826934866), (12511, 0.004364557308007934), (12556, 0.004364557308007934), (12561, 0.011278275113561588), (12565, 0.0037594250378538622), (12604, 0.006529991944599147), (12634, 0.005144708491226504), (12645, 0.0037594250378538622), (12646, 0.005144708491226504), (12684, 0.004364557308007934), (12699, 0.006244269826934866), (12701, 0.004364557308007934), (12730, 0.004364557308007934), (12826, 0.026187343848047606), (12846, 0.0032649959722995735), (12859, 0.006244269826934866), (12887, 0.004364557308007934), (12911, 0.004364557308007934), (12915, 0.005144708491226504), (12936, 0.004364557308007934), (12983, 0.004364557308007934), (12985, 0.005144708491226504), (13004, 0.013093671924023803), (13012, 0.010289416982453009), (13036, 0.008729114616015868), (13053, 0.006244269826934866), (13061, 0.006244269826934866), (13068, 0.024977079307739465), (13096, 0.020578833964906017), (13117, 0.006244269826934866), (13136, 0.0037594250378538622), (13162, 0.004364557308007934), (13179, 0.006244269826934866), (13200, 0.005144708491226504), (13218, 0.004364557308007934), (13219, 0.015434125473679514), (13247, 0.0037594250378538622), (13251, 0.005144708491226504), (13270, 0.006244269826934866), (13275, 0.03928101577207141), (13276, 0.004364557308007934), (13281, 0.002846962153798979), (13287, 0.006529991944599147), (13293, 0.010289416982453009), (13304, 0.005144708491226504), (13305, 0.005144708491226504), (13322, 0.005144708491226504), (13339, 0.005144708491226504), (13344, 0.015434125473679514), (13373, 0.0187328094808046), (13378, 0.005144708491226504), (13380, 0.006244269826934866), (13381, 0.0037594250378538622), (13391, 0.0187328094808046), (13393, 0.006244269826934866), (13409, 0.005144708491226504), (13426, 0.008729114616015868), (13428, 0.02572354245613252), (13430, 0.012488539653869733), (13455, 0.012488539653869733), (13484, 0.004364557308007934), (13494, 0.004364557308007934), (13518, 0.004364557308007934), (13529, 0.006244269826934866), (13536, 0.012488539653869733), (13548, 0.006244269826934866), (13553, 0.004364557308007934), (13564, 0.004364557308007934), (13565, 0.005144708491226504), (13599, 0.030868250947359028), (13630, 0.008729114616015868), (13634, 0.004364557308007934), (13648, 0.006244269826934866), (13657, 0.005144708491226504), (13696, 0.02572354245613252), (13697, 0.004364557308007934), (13698, 0.0032649959722995735), (13699, 0.04995415861547893), (13700, 0.036012959438585526), (13804, 0.004364557308007934), (13877, 0.0037594250378538622), (13915, 0.006244269826934866), (13962, 0.005144708491226504), (13969, 0.012488539653869733), (13992, 0.030868250947359028), (14005, 0.004364557308007934), (14031, 0.005144708491226504), (14036, 0.005144708491226504), (14119, 0.0187328094808046), (14125, 0.012488539653869733), (14126, 0.015434125473679514), (14127, 0.005144708491226504), (14143, 0.0032649959722995735), (14244, 0.0187328094808046), (14296, 0.006244269826934866), (14332, 0.004364557308007934), (14345, 0.012488539653869733), (14346, 0.010289416982453009), (14355, 0.022556550227123176), (14364, 0.015434125473679514), (14386, 0.005144708491226504), (14435, 0.02572354245613252), (14477, 0.0032649959722995735), (14494, 0.006244269826934866), (14500, 0.004364557308007934), (14599, 0.012488539653869733), (14610, 0.012488539653869733), (14644, 0.012488539653869733), (14669, 0.010289416982453009), (14673, 0.006244269826934866), (14693, 0.005144708491226504), (14703, 0.010289416982453009), (14705, 0.006244269826934866), (14806, 0.012488539653869733), (14828, 0.010289416982453009), (14836, 0.02572354245613252), (14862, 0.004364557308007934), (14877, 0.010289416982453009), (14883, 0.006244269826934866), (14887, 0.006244269826934866), (14888, 0.008729114616015868), (14949, 0.010289416982453009), (14951, 0.006244269826934866), (14995, 0.005144708491226504), (15020, 0.010289416982453009), (15044, 0.005144708491226504), (15083, 0.024977079307739465), (15182, 0.024977079307739465), (15200, 0.015434125473679514), (15216, 0.005144708491226504), (15350, 0.006244269826934866), (15365, 0.004364557308007934), (15487, 0.005144708491226504), (15496, 0.030868250947359028), (15516, 0.02182278654003967), (15542, 0.005144708491226504), (15543, 0.005144708491226504), (15569, 0.004364557308007934), (15571, 0.0032649959722995735), (15677, 0.004364557308007934), (15832, 0.006244269826934866), (15841, 0.006244269826934866), (15859, 0.0374656189616092), (15860, 0.006244269826934866), (15895, 0.005144708491226504), (15900, 0.006244269826934866), (15910, 0.006244269826934866), (16101, 0.005144708491226504), (16152, 0.012488539653869733), (16182, 0.012488539653869733), (16291, 0.006244269826934866), (16363, 0.012488539653869733), (16506, 0.012488539653869733), (16550, 0.006244269826934866), (16559, 0.056198428442413795), (16582, 0.008729114616015868), (16637, 0.006244269826934866), (16654, 0.012488539653869733), (16706, 0.005144708491226504), (16742, 0.005144708491226504), (16776, 0.008729114616015868), (16833, 0.006244269826934866), (16892, 0.005144708491226504), (16990, 0.005144708491226504), (17071, 0.008123982345861798), (17072, 0.006244269826934866), (17073, 0.006244269826934866), (17074, 0.008123982345861798), (17075, 0.016247964691723595), (17076, 0.008123982345861798), (17077, 0.006244269826934866), (17078, 0.008123982345861798), (17079, 0.005144708491226504), (17080, 0.008123982345861798), (17081, 0.008123982345861798), (17082, 0.006244269826934866), (17083, 0.024977079307739465), (17084, 0.006244269826934866), (17085, 0.024371947037585395), (17086, 0.006244269826934866), (17087, 0.008123982345861798), (17088, 0.008123982345861798), (17089, 0.006244269826934866), (17090, 0.006244269826934866), (17091, 0.008123982345861798), (17092, 0.016247964691723595), (17093, 0.006244269826934866), (17094, 0.008123982345861798), (17095, 0.008123982345861798), (17096, 0.016247964691723595), (17097, 0.008123982345861798), (17098, 0.008123982345861798), (17099, 0.016247964691723595), (17100, 0.008123982345861798), (17101, 0.012488539653869733), (17102, 0.010289416982453009), (17103, 0.006244269826934866), (17104, 0.008123982345861798), (17105, 0.008123982345861798), (17106, 0.008123982345861798), (17107, 0.008123982345861798), (17108, 0.024371947037585395), (17109, 0.008123982345861798), (17110, 0.008123982345861798), (17111, 0.008123982345861798), (17112, 0.006244269826934866), (17113, 0.008123982345861798), (17114, 0.012488539653869733), (17115, 0.008123982345861798), (17116, 0.008123982345861798), (17117, 0.008123982345861798), (17118, 0.008123982345861798), (17119, 0.008123982345861798), (17120, 0.008123982345861798), (17121, 0.006244269826934866), (17122, 0.006244269826934866), (17123, 0.024371947037585395), (17124, 0.006244269826934866), (17125, 0.008123982345861798), (17126, 0.008123982345861798), (17127, 0.008123982345861798), (17128, 0.008123982345861798), (17129, 0.008123982345861798), (17130, 0.008123982345861798), (17131, 0.008123982345861798), (17132, 0.008123982345861798), (17133, 0.008123982345861798), (17134, 0.008123982345861798), (17135, 0.008123982345861798), (17136, 0.008123982345861798), (17137, 0.024371947037585395), (17138, 0.006244269826934866), (17139, 0.008123982345861798), (17140, 0.016247964691723595), (17141, 0.010289416982453009), (17142, 0.008123982345861798), (17143, 0.008123982345861798), (17144, 0.016247964691723595), (17145, 0.008123982345861798), (17146, 0.005144708491226504), (17147, 0.008123982345861798), (17148, 0.008123982345861798), (17149, 0.016247964691723595), (17150, 0.008123982345861798), (17151, 0.008123982345861798), (17152, 0.024371947037585395), (17153, 0.024371947037585395), (17154, 0.008123982345861798), (17155, 0.008123982345861798), (17156, 0.006244269826934866), (17157, 0.012488539653869733), (17158, 0.008123982345861798), (17159, 0.008123982345861798), (17160, 0.008123982345861798), (17161, 0.006244269826934866), (17162, 0.008123982345861798), (17163, 0.008123982345861798), (17164, 0.005144708491226504), (17165, 0.008123982345861798), (17166, 0.008123982345861798), (17167, 0.008123982345861798), (17168, 0.024371947037585395), (17169, 0.008123982345861798), (17170, 0.012488539653869733), (17171, 0.016247964691723595), (17172, 0.008123982345861798), (17173, 0.006244269826934866), (17174, 0.008123982345861798), (17175, 0.008123982345861798), (17176, 0.006244269826934866), (17177, 0.006244269826934866), (17178, 0.006244269826934866), (17179, 0.008123982345861798), (17180, 0.024977079307739465), (17181, 0.008123982345861798), (17182, 0.006244269826934866), (17183, 0.008123982345861798), (17184, 0.008123982345861798), (17185, 0.005144708491226504), (17186, 0.006244269826934866), (17187, 0.006244269826934866), (17188, 0.008123982345861798), (17189, 0.008123982345861798), (17190, 0.006244269826934866), (17191, 0.03122134913467433), (17192, 0.008123982345861798), (17193, 0.006244269826934866), (17194, 0.006244269826934866), (17195, 0.024371947037585395), (17196, 0.008123982345861798), (17197, 0.07311584111275618), (17198, 0.008123982345861798), (17199, 0.008123982345861798), (17200, 0.016247964691723595), (17201, 0.006244269826934866), (17202, 0.016247964691723595), (17203, 0.008123982345861798), (17204, 0.024371947037585395), (17205, 0.016247964691723595), (17206, 0.008123982345861798), (17207, 0.006244269826934866), (17208, 0.016247964691723595), (17209, 0.008123982345861798), (17210, 0.008123982345861798), (17211, 0.008123982345861798), (17212, 0.008123982345861798), (17213, 0.024371947037585395), (17214, 0.008123982345861798), (17215, 0.03122134913467433), (17216, 0.008123982345861798), (17217, 0.008123982345861798), (17218, 0.008123982345861798), (17219, 0.008123982345861798), (17220, 0.008123982345861798), (17221, 0.012488539653869733), (17222, 0.008123982345861798), (17223, 0.008123982345861798), (17224, 0.006244269826934866), (17225, 0.008123982345861798), (17226, 0.008123982345861798), (17227, 0.008123982345861798), (17228, 0.008123982345861798), (17229, 0.008123982345861798), (17230, 0.008123982345861798), (17231, 0.008123982345861798), (17232, 0.008123982345861798), (17233, 0.008123982345861798), (17234, 0.016247964691723595), (17235, 0.006244269826934866), (17236, 0.006244269826934866), (17237, 0.016247964691723595), (17238, 0.008123982345861798), (17239, 0.008123982345861798), (17240, 0.024371947037585395), (17241, 0.008123982345861798), (17242, 0.016247964691723595), (17243, 0.04061991172930898), (17244, 0.006244269826934866), (17245, 0.008123982345861798), (17246, 0.024371947037585395), (17247, 0.006244269826934866), (17248, 0.008123982345861798), (17249, 0.006244269826934866), (17250, 0.006244269826934866), (17251, 0.008123982345861798), (17252, 0.008123982345861798), (17253, 0.008123982345861798), (17254, 0.008123982345861798), (17255, 0.008123982345861798), (17256, 0.006244269826934866), (17257, 0.006244269826934866), (17258, 0.008123982345861798), (17259, 0.008123982345861798), (17260, 0.008123982345861798), (17261, 0.008123982345861798), (17262, 0.008123982345861798), (17263, 0.04061991172930898), (17264, 0.016247964691723595), (17265, 0.006244269826934866), (17266, 0.008123982345861798), (17267, 0.006244269826934866), (17268, 0.008123982345861798), (17269, 0.006244269826934866), (17270, 0.016247964691723595), (17271, 0.012488539653869733), (17272, 0.008123982345861798), (17273, 0.008123982345861798), (17274, 0.016247964691723595), (17275, 0.008123982345861798), (17276, 0.008123982345861798), (17277, 0.008123982345861798), (17278, 0.008123982345861798), (17279, 0.012488539653869733), (17280, 0.016247964691723595), (17281, 0.006244269826934866), (17282, 0.006244269826934866), (17283, 0.008123982345861798), (17284, 0.008123982345861798), (17285, 0.008123982345861798), (17286, 0.008123982345861798), (17287, 0.008123982345861798), (17288, 0.008123982345861798), (17289, 0.008123982345861798), (17290, 0.006244269826934866), (17291, 0.008123982345861798), (17292, 0.012488539653869733), (17293, 0.008123982345861798), (17294, 0.008123982345861798), (17295, 0.008123982345861798), (17296, 0.006244269826934866), (17297, 0.008123982345861798), (17298, 0.012488539653869733), (17299, 0.008123982345861798), (17300, 0.008123982345861798)]\n"
     ]
    }
   ],
   "source": [
    "# Load the gensim functions that will allow us to generate tf-idf models\n",
    "from gensim.models import TfidfModel\n",
    "\n",
    "# Generate the tf-idf model\n",
    "model = TfidfModel(bows)\n",
    "\n",
    "# Print the model for \"On the Origin of Species\"\n",
    "print(model[bows[15]])"
   ]
  },
  {
   "cell_type": "markdown",
   "metadata": {
    "dc": {
     "key": "59"
    },
    "deletable": false,
    "editable": false,
    "run_control": {
     "frozen": true
    },
    "tags": [
     "context"
    ]
   },
   "source": [
    "## 9. The results of the tf-idf model\n",
    "<p>Once again, the format of those results is hard to interpret for a human. Therefore, we will transform it into a more readable version and display the 10 most specific words for the \"<em>On the Origin of Species</em>\" book.</p>"
   ]
  },
  {
   "cell_type": "code",
   "execution_count": 41,
   "metadata": {
    "dc": {
     "key": "59"
    },
    "tags": [
     "sample_code"
    ]
   },
   "outputs": [
    {
     "data": {
      "text/html": [
       "<div>\n",
       "<style scoped>\n",
       "    .dataframe tbody tr th:only-of-type {\n",
       "        vertical-align: middle;\n",
       "    }\n",
       "\n",
       "    .dataframe tbody tr th {\n",
       "        vertical-align: top;\n",
       "    }\n",
       "\n",
       "    .dataframe thead th {\n",
       "        text-align: right;\n",
       "    }\n",
       "</style>\n",
       "<table border=\"1\" class=\"dataframe\">\n",
       "  <thead>\n",
       "    <tr style=\"text-align: right;\">\n",
       "      <th></th>\n",
       "      <th>id</th>\n",
       "      <th>score</th>\n",
       "      <th>token</th>\n",
       "    </tr>\n",
       "  </thead>\n",
       "  <tbody>\n",
       "    <tr>\n",
       "      <th>683</th>\n",
       "      <td>1660</td>\n",
       "      <td>0.223435</td>\n",
       "      <td>select</td>\n",
       "    </tr>\n",
       "    <tr>\n",
       "      <th>209</th>\n",
       "      <td>533</td>\n",
       "      <td>0.191588</td>\n",
       "      <td>domest</td>\n",
       "    </tr>\n",
       "    <tr>\n",
       "      <th>88</th>\n",
       "      <td>236</td>\n",
       "      <td>0.189784</td>\n",
       "      <td>breed</td>\n",
       "    </tr>\n",
       "    <tr>\n",
       "      <th>740</th>\n",
       "      <td>1793</td>\n",
       "      <td>0.175095</td>\n",
       "      <td>steril</td>\n",
       "    </tr>\n",
       "    <tr>\n",
       "      <th>340</th>\n",
       "      <td>811</td>\n",
       "      <td>0.159430</td>\n",
       "      <td>glacial</td>\n",
       "    </tr>\n",
       "    <tr>\n",
       "      <th>2096</th>\n",
       "      <td>6596</td>\n",
       "      <td>0.146606</td>\n",
       "      <td>migrat</td>\n",
       "    </tr>\n",
       "    <tr>\n",
       "      <th>274</th>\n",
       "      <td>677</td>\n",
       "      <td>0.137850</td>\n",
       "      <td>extinct</td>\n",
       "    </tr>\n",
       "    <tr>\n",
       "      <th>1288</th>\n",
       "      <td>3186</td>\n",
       "      <td>0.133480</td>\n",
       "      <td>modif</td>\n",
       "    </tr>\n",
       "    <tr>\n",
       "      <th>1997</th>\n",
       "      <td>6045</td>\n",
       "      <td>0.127820</td>\n",
       "      <td>improv</td>\n",
       "    </tr>\n",
       "    <tr>\n",
       "      <th>289</th>\n",
       "      <td>711</td>\n",
       "      <td>0.116822</td>\n",
       "      <td>fertil</td>\n",
       "    </tr>\n",
       "  </tbody>\n",
       "</table>\n",
       "</div>"
      ],
      "text/plain": [
       "        id     score    token\n",
       "683   1660  0.223435   select\n",
       "209    533  0.191588   domest\n",
       "88     236  0.189784    breed\n",
       "740   1793  0.175095   steril\n",
       "340    811  0.159430  glacial\n",
       "2096  6596  0.146606   migrat\n",
       "274    677  0.137850  extinct\n",
       "1288  3186  0.133480    modif\n",
       "1997  6045  0.127820   improv\n",
       "289    711  0.116822   fertil"
      ]
     },
     "execution_count": 41,
     "metadata": {},
     "output_type": "execute_result"
    }
   ],
   "source": [
    "# Convert the tf-idf model for \"On the Origin of Species\" into a DataFrame\n",
    "df_tfidf = pd.DataFrame(model[bows[15]])\n",
    "\n",
    "# Name the columns of the DataFrame id and score\n",
    "df_tfidf.columns = [\"id\",\"score\"]\n",
    "\n",
    "# Add the tokens corresponding to the numerical indices for better readability\n",
    "df_tfidf[\"token\"] = [dictionary[i] for i in df_tfidf[\"id\"]]\n",
    "\n",
    "# Sort the DataFrame by descending tf-idf score and print the first 10 rows.\n",
    "df_tfidf = df_tfidf.sort_values(by=\"score\", ascending = False)\n",
    "df_tfidf.head(10)"
   ]
  },
  {
   "cell_type": "markdown",
   "metadata": {
    "dc": {
     "key": "66"
    },
    "deletable": false,
    "editable": false,
    "run_control": {
     "frozen": true
    },
    "tags": [
     "context"
    ]
   },
   "source": [
    "## 10. Compute distance between texts\n",
    "<p>The results of the tf-idf algorithm now return stemmed tokens which are specific to each book. We can, for example, see that topics such as selection, breeding or domestication are defining \"<em>On the Origin of Species</em>\" (and yes, in this book, Charles Darwin talks quite a lot about pigeons too). Now that we have a model associating tokens to how specific they are to each book, we can measure how related to books are between each other.</p>\n",
    "<p>To this purpose, we will use a measure of similarity called <strong>cosine similarity</strong> and we will visualize the results as a distance matrix, i.e., a matrix showing all pairwise distances between Darwin's books.</p>"
   ]
  },
  {
   "cell_type": "code",
   "execution_count": 42,
   "metadata": {
    "dc": {
     "key": "66"
    },
    "tags": [
     "sample_code"
    ]
   },
   "outputs": [
    {
     "data": {
      "text/html": [
       "<div>\n",
       "<style scoped>\n",
       "    .dataframe tbody tr th:only-of-type {\n",
       "        vertical-align: middle;\n",
       "    }\n",
       "\n",
       "    .dataframe tbody tr th {\n",
       "        vertical-align: top;\n",
       "    }\n",
       "\n",
       "    .dataframe thead th {\n",
       "        text-align: right;\n",
       "    }\n",
       "</style>\n",
       "<table border=\"1\" class=\"dataframe\">\n",
       "  <thead>\n",
       "    <tr style=\"text-align: right;\">\n",
       "      <th></th>\n",
       "      <th>Autobiography</th>\n",
       "      <th>CoralReefs</th>\n",
       "      <th>DescentofMan</th>\n",
       "      <th>DifferentFormsofFlowers</th>\n",
       "      <th>EffectsCrossSelfFertilization</th>\n",
       "      <th>ExpressionofEmotionManAnimals</th>\n",
       "      <th>FormationVegetableMould</th>\n",
       "      <th>FoundationsOriginofSpecies</th>\n",
       "      <th>GeologicalObservationsSouthAmerica</th>\n",
       "      <th>InsectivorousPlants</th>\n",
       "      <th>LifeandLettersVol1</th>\n",
       "      <th>LifeandLettersVol2</th>\n",
       "      <th>MonographCirripedia</th>\n",
       "      <th>MonographCirripediaVol2</th>\n",
       "      <th>MovementClimbingPlants</th>\n",
       "      <th>OriginofSpecies</th>\n",
       "      <th>PowerMovementPlants</th>\n",
       "      <th>VariationPlantsAnimalsDomestication</th>\n",
       "      <th>VolcanicIslands</th>\n",
       "      <th>VoyageBeagle</th>\n",
       "    </tr>\n",
       "  </thead>\n",
       "  <tbody>\n",
       "    <tr>\n",
       "      <th>Autobiography</th>\n",
       "      <td>1.000000</td>\n",
       "      <td>0.021763</td>\n",
       "      <td>0.082102</td>\n",
       "      <td>0.052342</td>\n",
       "      <td>0.034895</td>\n",
       "      <td>0.101894</td>\n",
       "      <td>0.036345</td>\n",
       "      <td>0.111600</td>\n",
       "      <td>0.032091</td>\n",
       "      <td>0.010602</td>\n",
       "      <td>0.365071</td>\n",
       "      <td>0.216410</td>\n",
       "      <td>0.008267</td>\n",
       "      <td>0.010858</td>\n",
       "      <td>0.024708</td>\n",
       "      <td>0.109757</td>\n",
       "      <td>0.007847</td>\n",
       "      <td>0.064358</td>\n",
       "      <td>0.040054</td>\n",
       "      <td>0.188351</td>\n",
       "    </tr>\n",
       "    <tr>\n",
       "      <th>CoralReefs</th>\n",
       "      <td>0.021763</td>\n",
       "      <td>1.000000</td>\n",
       "      <td>0.008183</td>\n",
       "      <td>0.001946</td>\n",
       "      <td>0.002590</td>\n",
       "      <td>0.006725</td>\n",
       "      <td>0.024563</td>\n",
       "      <td>0.032292</td>\n",
       "      <td>0.059536</td>\n",
       "      <td>0.002783</td>\n",
       "      <td>0.030400</td>\n",
       "      <td>0.016743</td>\n",
       "      <td>0.007221</td>\n",
       "      <td>0.009818</td>\n",
       "      <td>0.002176</td>\n",
       "      <td>0.033199</td>\n",
       "      <td>0.001783</td>\n",
       "      <td>0.011000</td>\n",
       "      <td>0.051874</td>\n",
       "      <td>0.199120</td>\n",
       "    </tr>\n",
       "    <tr>\n",
       "      <th>DescentofMan</th>\n",
       "      <td>0.082102</td>\n",
       "      <td>0.008183</td>\n",
       "      <td>1.000000</td>\n",
       "      <td>0.063877</td>\n",
       "      <td>0.031341</td>\n",
       "      <td>0.153037</td>\n",
       "      <td>0.021655</td>\n",
       "      <td>0.205272</td>\n",
       "      <td>0.010239</td>\n",
       "      <td>0.011903</td>\n",
       "      <td>0.055122</td>\n",
       "      <td>0.059323</td>\n",
       "      <td>0.058339</td>\n",
       "      <td>0.035520</td>\n",
       "      <td>0.006226</td>\n",
       "      <td>0.248614</td>\n",
       "      <td>0.005965</td>\n",
       "      <td>0.234201</td>\n",
       "      <td>0.009565</td>\n",
       "      <td>0.119284</td>\n",
       "    </tr>\n",
       "    <tr>\n",
       "      <th>DifferentFormsofFlowers</th>\n",
       "      <td>0.052342</td>\n",
       "      <td>0.001946</td>\n",
       "      <td>0.063877</td>\n",
       "      <td>1.000000</td>\n",
       "      <td>0.325260</td>\n",
       "      <td>0.005722</td>\n",
       "      <td>0.007992</td>\n",
       "      <td>0.065064</td>\n",
       "      <td>0.003249</td>\n",
       "      <td>0.007473</td>\n",
       "      <td>0.011786</td>\n",
       "      <td>0.033858</td>\n",
       "      <td>0.010924</td>\n",
       "      <td>0.006093</td>\n",
       "      <td>0.008107</td>\n",
       "      <td>0.135715</td>\n",
       "      <td>0.013099</td>\n",
       "      <td>0.065080</td>\n",
       "      <td>0.004078</td>\n",
       "      <td>0.014512</td>\n",
       "    </tr>\n",
       "    <tr>\n",
       "      <th>EffectsCrossSelfFertilization</th>\n",
       "      <td>0.034895</td>\n",
       "      <td>0.002590</td>\n",
       "      <td>0.031341</td>\n",
       "      <td>0.325260</td>\n",
       "      <td>1.000000</td>\n",
       "      <td>0.007808</td>\n",
       "      <td>0.050613</td>\n",
       "      <td>0.071902</td>\n",
       "      <td>0.003620</td>\n",
       "      <td>0.011076</td>\n",
       "      <td>0.013852</td>\n",
       "      <td>0.026570</td>\n",
       "      <td>0.005285</td>\n",
       "      <td>0.003854</td>\n",
       "      <td>0.024823</td>\n",
       "      <td>0.148573</td>\n",
       "      <td>0.051774</td>\n",
       "      <td>0.079113</td>\n",
       "      <td>0.003497</td>\n",
       "      <td>0.024467</td>\n",
       "    </tr>\n",
       "    <tr>\n",
       "      <th>ExpressionofEmotionManAnimals</th>\n",
       "      <td>0.101894</td>\n",
       "      <td>0.006725</td>\n",
       "      <td>0.153037</td>\n",
       "      <td>0.005722</td>\n",
       "      <td>0.007808</td>\n",
       "      <td>1.000000</td>\n",
       "      <td>0.022218</td>\n",
       "      <td>0.090094</td>\n",
       "      <td>0.008467</td>\n",
       "      <td>0.016089</td>\n",
       "      <td>0.067533</td>\n",
       "      <td>0.043323</td>\n",
       "      <td>0.015532</td>\n",
       "      <td>0.026105</td>\n",
       "      <td>0.009182</td>\n",
       "      <td>0.068587</td>\n",
       "      <td>0.007632</td>\n",
       "      <td>0.102429</td>\n",
       "      <td>0.008972</td>\n",
       "      <td>0.111096</td>\n",
       "    </tr>\n",
       "    <tr>\n",
       "      <th>FormationVegetableMould</th>\n",
       "      <td>0.036345</td>\n",
       "      <td>0.024563</td>\n",
       "      <td>0.021655</td>\n",
       "      <td>0.007992</td>\n",
       "      <td>0.050613</td>\n",
       "      <td>0.022218</td>\n",
       "      <td>1.000000</td>\n",
       "      <td>0.030197</td>\n",
       "      <td>0.068289</td>\n",
       "      <td>0.038696</td>\n",
       "      <td>0.022083</td>\n",
       "      <td>0.013681</td>\n",
       "      <td>0.021228</td>\n",
       "      <td>0.020259</td>\n",
       "      <td>0.046877</td>\n",
       "      <td>0.051476</td>\n",
       "      <td>0.035015</td>\n",
       "      <td>0.027003</td>\n",
       "      <td>0.070414</td>\n",
       "      <td>0.089779</td>\n",
       "    </tr>\n",
       "    <tr>\n",
       "      <th>FoundationsOriginofSpecies</th>\n",
       "      <td>0.111600</td>\n",
       "      <td>0.032292</td>\n",
       "      <td>0.205272</td>\n",
       "      <td>0.065064</td>\n",
       "      <td>0.071902</td>\n",
       "      <td>0.090094</td>\n",
       "      <td>0.030197</td>\n",
       "      <td>1.000000</td>\n",
       "      <td>0.055621</td>\n",
       "      <td>0.010982</td>\n",
       "      <td>0.102124</td>\n",
       "      <td>0.083169</td>\n",
       "      <td>0.017577</td>\n",
       "      <td>0.018184</td>\n",
       "      <td>0.008005</td>\n",
       "      <td>0.563717</td>\n",
       "      <td>0.010002</td>\n",
       "      <td>0.394778</td>\n",
       "      <td>0.039327</td>\n",
       "      <td>0.162723</td>\n",
       "    </tr>\n",
       "    <tr>\n",
       "      <th>GeologicalObservationsSouthAmerica</th>\n",
       "      <td>0.032091</td>\n",
       "      <td>0.059536</td>\n",
       "      <td>0.010239</td>\n",
       "      <td>0.003249</td>\n",
       "      <td>0.003620</td>\n",
       "      <td>0.008467</td>\n",
       "      <td>0.068289</td>\n",
       "      <td>0.055621</td>\n",
       "      <td>1.000000</td>\n",
       "      <td>0.010286</td>\n",
       "      <td>0.029837</td>\n",
       "      <td>0.014725</td>\n",
       "      <td>0.016649</td>\n",
       "      <td>0.027082</td>\n",
       "      <td>0.003041</td>\n",
       "      <td>0.063496</td>\n",
       "      <td>0.003326</td>\n",
       "      <td>0.017375</td>\n",
       "      <td>0.363119</td>\n",
       "      <td>0.229942</td>\n",
       "    </tr>\n",
       "    <tr>\n",
       "      <th>InsectivorousPlants</th>\n",
       "      <td>0.010602</td>\n",
       "      <td>0.002783</td>\n",
       "      <td>0.011903</td>\n",
       "      <td>0.007473</td>\n",
       "      <td>0.011076</td>\n",
       "      <td>0.016089</td>\n",
       "      <td>0.038696</td>\n",
       "      <td>0.010982</td>\n",
       "      <td>0.010286</td>\n",
       "      <td>1.000000</td>\n",
       "      <td>0.006057</td>\n",
       "      <td>0.016143</td>\n",
       "      <td>0.028573</td>\n",
       "      <td>0.019544</td>\n",
       "      <td>0.018854</td>\n",
       "      <td>0.019700</td>\n",
       "      <td>0.031367</td>\n",
       "      <td>0.009933</td>\n",
       "      <td>0.012788</td>\n",
       "      <td>0.021853</td>\n",
       "    </tr>\n",
       "    <tr>\n",
       "      <th>LifeandLettersVol1</th>\n",
       "      <td>0.365071</td>\n",
       "      <td>0.030400</td>\n",
       "      <td>0.055122</td>\n",
       "      <td>0.011786</td>\n",
       "      <td>0.013852</td>\n",
       "      <td>0.067533</td>\n",
       "      <td>0.022083</td>\n",
       "      <td>0.102124</td>\n",
       "      <td>0.029837</td>\n",
       "      <td>0.006057</td>\n",
       "      <td>1.000000</td>\n",
       "      <td>0.920022</td>\n",
       "      <td>0.005969</td>\n",
       "      <td>0.016138</td>\n",
       "      <td>0.006253</td>\n",
       "      <td>0.092987</td>\n",
       "      <td>0.006769</td>\n",
       "      <td>0.051153</td>\n",
       "      <td>0.030702</td>\n",
       "      <td>0.173153</td>\n",
       "    </tr>\n",
       "    <tr>\n",
       "      <th>LifeandLettersVol2</th>\n",
       "      <td>0.216410</td>\n",
       "      <td>0.016743</td>\n",
       "      <td>0.059323</td>\n",
       "      <td>0.033858</td>\n",
       "      <td>0.026570</td>\n",
       "      <td>0.043323</td>\n",
       "      <td>0.013681</td>\n",
       "      <td>0.083169</td>\n",
       "      <td>0.014725</td>\n",
       "      <td>0.016143</td>\n",
       "      <td>0.920022</td>\n",
       "      <td>1.000000</td>\n",
       "      <td>0.005408</td>\n",
       "      <td>0.013701</td>\n",
       "      <td>0.013636</td>\n",
       "      <td>0.077933</td>\n",
       "      <td>0.006468</td>\n",
       "      <td>0.041807</td>\n",
       "      <td>0.016929</td>\n",
       "      <td>0.094790</td>\n",
       "    </tr>\n",
       "    <tr>\n",
       "      <th>MonographCirripedia</th>\n",
       "      <td>0.008267</td>\n",
       "      <td>0.007221</td>\n",
       "      <td>0.058339</td>\n",
       "      <td>0.010924</td>\n",
       "      <td>0.005285</td>\n",
       "      <td>0.015532</td>\n",
       "      <td>0.021228</td>\n",
       "      <td>0.017577</td>\n",
       "      <td>0.016649</td>\n",
       "      <td>0.028573</td>\n",
       "      <td>0.005969</td>\n",
       "      <td>0.005408</td>\n",
       "      <td>1.000000</td>\n",
       "      <td>0.508492</td>\n",
       "      <td>0.010074</td>\n",
       "      <td>0.037447</td>\n",
       "      <td>0.010743</td>\n",
       "      <td>0.027639</td>\n",
       "      <td>0.023366</td>\n",
       "      <td>0.018486</td>\n",
       "    </tr>\n",
       "    <tr>\n",
       "      <th>MonographCirripediaVol2</th>\n",
       "      <td>0.010858</td>\n",
       "      <td>0.009818</td>\n",
       "      <td>0.035520</td>\n",
       "      <td>0.006093</td>\n",
       "      <td>0.003854</td>\n",
       "      <td>0.026105</td>\n",
       "      <td>0.020259</td>\n",
       "      <td>0.018184</td>\n",
       "      <td>0.027082</td>\n",
       "      <td>0.019544</td>\n",
       "      <td>0.016138</td>\n",
       "      <td>0.013701</td>\n",
       "      <td>0.508492</td>\n",
       "      <td>1.000000</td>\n",
       "      <td>0.008389</td>\n",
       "      <td>0.038732</td>\n",
       "      <td>0.006728</td>\n",
       "      <td>0.031786</td>\n",
       "      <td>0.024003</td>\n",
       "      <td>0.025020</td>\n",
       "    </tr>\n",
       "    <tr>\n",
       "      <th>MovementClimbingPlants</th>\n",
       "      <td>0.024708</td>\n",
       "      <td>0.002176</td>\n",
       "      <td>0.006226</td>\n",
       "      <td>0.008107</td>\n",
       "      <td>0.024823</td>\n",
       "      <td>0.009182</td>\n",
       "      <td>0.046877</td>\n",
       "      <td>0.008005</td>\n",
       "      <td>0.003041</td>\n",
       "      <td>0.018854</td>\n",
       "      <td>0.006253</td>\n",
       "      <td>0.013636</td>\n",
       "      <td>0.010074</td>\n",
       "      <td>0.008389</td>\n",
       "      <td>1.000000</td>\n",
       "      <td>0.012096</td>\n",
       "      <td>0.102101</td>\n",
       "      <td>0.012478</td>\n",
       "      <td>0.004479</td>\n",
       "      <td>0.016808</td>\n",
       "    </tr>\n",
       "    <tr>\n",
       "      <th>OriginofSpecies</th>\n",
       "      <td>0.109757</td>\n",
       "      <td>0.033199</td>\n",
       "      <td>0.248614</td>\n",
       "      <td>0.135715</td>\n",
       "      <td>0.148573</td>\n",
       "      <td>0.068587</td>\n",
       "      <td>0.051476</td>\n",
       "      <td>0.563717</td>\n",
       "      <td>0.063496</td>\n",
       "      <td>0.019700</td>\n",
       "      <td>0.092987</td>\n",
       "      <td>0.077933</td>\n",
       "      <td>0.037447</td>\n",
       "      <td>0.038732</td>\n",
       "      <td>0.012096</td>\n",
       "      <td>1.000000</td>\n",
       "      <td>0.014114</td>\n",
       "      <td>0.407264</td>\n",
       "      <td>0.042201</td>\n",
       "      <td>0.172341</td>\n",
       "    </tr>\n",
       "    <tr>\n",
       "      <th>PowerMovementPlants</th>\n",
       "      <td>0.007847</td>\n",
       "      <td>0.001783</td>\n",
       "      <td>0.005965</td>\n",
       "      <td>0.013099</td>\n",
       "      <td>0.051774</td>\n",
       "      <td>0.007632</td>\n",
       "      <td>0.035015</td>\n",
       "      <td>0.010002</td>\n",
       "      <td>0.003326</td>\n",
       "      <td>0.031367</td>\n",
       "      <td>0.006769</td>\n",
       "      <td>0.006468</td>\n",
       "      <td>0.010743</td>\n",
       "      <td>0.006728</td>\n",
       "      <td>0.102101</td>\n",
       "      <td>0.014114</td>\n",
       "      <td>1.000001</td>\n",
       "      <td>0.015372</td>\n",
       "      <td>0.004146</td>\n",
       "      <td>0.021397</td>\n",
       "    </tr>\n",
       "    <tr>\n",
       "      <th>VariationPlantsAnimalsDomestication</th>\n",
       "      <td>0.064358</td>\n",
       "      <td>0.011000</td>\n",
       "      <td>0.234201</td>\n",
       "      <td>0.065080</td>\n",
       "      <td>0.079113</td>\n",
       "      <td>0.102429</td>\n",
       "      <td>0.027003</td>\n",
       "      <td>0.394778</td>\n",
       "      <td>0.017375</td>\n",
       "      <td>0.009933</td>\n",
       "      <td>0.051153</td>\n",
       "      <td>0.041807</td>\n",
       "      <td>0.027639</td>\n",
       "      <td>0.031786</td>\n",
       "      <td>0.012478</td>\n",
       "      <td>0.407264</td>\n",
       "      <td>0.015372</td>\n",
       "      <td>1.000000</td>\n",
       "      <td>0.016284</td>\n",
       "      <td>0.139812</td>\n",
       "    </tr>\n",
       "    <tr>\n",
       "      <th>VolcanicIslands</th>\n",
       "      <td>0.040054</td>\n",
       "      <td>0.051874</td>\n",
       "      <td>0.009565</td>\n",
       "      <td>0.004078</td>\n",
       "      <td>0.003497</td>\n",
       "      <td>0.008972</td>\n",
       "      <td>0.070414</td>\n",
       "      <td>0.039327</td>\n",
       "      <td>0.363119</td>\n",
       "      <td>0.012788</td>\n",
       "      <td>0.030702</td>\n",
       "      <td>0.016929</td>\n",
       "      <td>0.023366</td>\n",
       "      <td>0.024003</td>\n",
       "      <td>0.004479</td>\n",
       "      <td>0.042201</td>\n",
       "      <td>0.004146</td>\n",
       "      <td>0.016284</td>\n",
       "      <td>1.000000</td>\n",
       "      <td>0.145329</td>\n",
       "    </tr>\n",
       "    <tr>\n",
       "      <th>VoyageBeagle</th>\n",
       "      <td>0.188351</td>\n",
       "      <td>0.199120</td>\n",
       "      <td>0.119284</td>\n",
       "      <td>0.014512</td>\n",
       "      <td>0.024467</td>\n",
       "      <td>0.111096</td>\n",
       "      <td>0.089779</td>\n",
       "      <td>0.162723</td>\n",
       "      <td>0.229942</td>\n",
       "      <td>0.021853</td>\n",
       "      <td>0.173153</td>\n",
       "      <td>0.094790</td>\n",
       "      <td>0.018486</td>\n",
       "      <td>0.025020</td>\n",
       "      <td>0.016808</td>\n",
       "      <td>0.172341</td>\n",
       "      <td>0.021397</td>\n",
       "      <td>0.139812</td>\n",
       "      <td>0.145329</td>\n",
       "      <td>1.000000</td>\n",
       "    </tr>\n",
       "  </tbody>\n",
       "</table>\n",
       "</div>"
      ],
      "text/plain": [
       "                                     Autobiography  CoralReefs  DescentofMan  \\\n",
       "Autobiography                             1.000000    0.021763      0.082102   \n",
       "CoralReefs                                0.021763    1.000000      0.008183   \n",
       "DescentofMan                              0.082102    0.008183      1.000000   \n",
       "DifferentFormsofFlowers                   0.052342    0.001946      0.063877   \n",
       "EffectsCrossSelfFertilization             0.034895    0.002590      0.031341   \n",
       "ExpressionofEmotionManAnimals             0.101894    0.006725      0.153037   \n",
       "FormationVegetableMould                   0.036345    0.024563      0.021655   \n",
       "FoundationsOriginofSpecies                0.111600    0.032292      0.205272   \n",
       "GeologicalObservationsSouthAmerica        0.032091    0.059536      0.010239   \n",
       "InsectivorousPlants                       0.010602    0.002783      0.011903   \n",
       "LifeandLettersVol1                        0.365071    0.030400      0.055122   \n",
       "LifeandLettersVol2                        0.216410    0.016743      0.059323   \n",
       "MonographCirripedia                       0.008267    0.007221      0.058339   \n",
       "MonographCirripediaVol2                   0.010858    0.009818      0.035520   \n",
       "MovementClimbingPlants                    0.024708    0.002176      0.006226   \n",
       "OriginofSpecies                           0.109757    0.033199      0.248614   \n",
       "PowerMovementPlants                       0.007847    0.001783      0.005965   \n",
       "VariationPlantsAnimalsDomestication       0.064358    0.011000      0.234201   \n",
       "VolcanicIslands                           0.040054    0.051874      0.009565   \n",
       "VoyageBeagle                              0.188351    0.199120      0.119284   \n",
       "\n",
       "                                     DifferentFormsofFlowers  \\\n",
       "Autobiography                                       0.052342   \n",
       "CoralReefs                                          0.001946   \n",
       "DescentofMan                                        0.063877   \n",
       "DifferentFormsofFlowers                             1.000000   \n",
       "EffectsCrossSelfFertilization                       0.325260   \n",
       "ExpressionofEmotionManAnimals                       0.005722   \n",
       "FormationVegetableMould                             0.007992   \n",
       "FoundationsOriginofSpecies                          0.065064   \n",
       "GeologicalObservationsSouthAmerica                  0.003249   \n",
       "InsectivorousPlants                                 0.007473   \n",
       "LifeandLettersVol1                                  0.011786   \n",
       "LifeandLettersVol2                                  0.033858   \n",
       "MonographCirripedia                                 0.010924   \n",
       "MonographCirripediaVol2                             0.006093   \n",
       "MovementClimbingPlants                              0.008107   \n",
       "OriginofSpecies                                     0.135715   \n",
       "PowerMovementPlants                                 0.013099   \n",
       "VariationPlantsAnimalsDomestication                 0.065080   \n",
       "VolcanicIslands                                     0.004078   \n",
       "VoyageBeagle                                        0.014512   \n",
       "\n",
       "                                     EffectsCrossSelfFertilization  \\\n",
       "Autobiography                                             0.034895   \n",
       "CoralReefs                                                0.002590   \n",
       "DescentofMan                                              0.031341   \n",
       "DifferentFormsofFlowers                                   0.325260   \n",
       "EffectsCrossSelfFertilization                             1.000000   \n",
       "ExpressionofEmotionManAnimals                             0.007808   \n",
       "FormationVegetableMould                                   0.050613   \n",
       "FoundationsOriginofSpecies                                0.071902   \n",
       "GeologicalObservationsSouthAmerica                        0.003620   \n",
       "InsectivorousPlants                                       0.011076   \n",
       "LifeandLettersVol1                                        0.013852   \n",
       "LifeandLettersVol2                                        0.026570   \n",
       "MonographCirripedia                                       0.005285   \n",
       "MonographCirripediaVol2                                   0.003854   \n",
       "MovementClimbingPlants                                    0.024823   \n",
       "OriginofSpecies                                           0.148573   \n",
       "PowerMovementPlants                                       0.051774   \n",
       "VariationPlantsAnimalsDomestication                       0.079113   \n",
       "VolcanicIslands                                           0.003497   \n",
       "VoyageBeagle                                              0.024467   \n",
       "\n",
       "                                     ExpressionofEmotionManAnimals  \\\n",
       "Autobiography                                             0.101894   \n",
       "CoralReefs                                                0.006725   \n",
       "DescentofMan                                              0.153037   \n",
       "DifferentFormsofFlowers                                   0.005722   \n",
       "EffectsCrossSelfFertilization                             0.007808   \n",
       "ExpressionofEmotionManAnimals                             1.000000   \n",
       "FormationVegetableMould                                   0.022218   \n",
       "FoundationsOriginofSpecies                                0.090094   \n",
       "GeologicalObservationsSouthAmerica                        0.008467   \n",
       "InsectivorousPlants                                       0.016089   \n",
       "LifeandLettersVol1                                        0.067533   \n",
       "LifeandLettersVol2                                        0.043323   \n",
       "MonographCirripedia                                       0.015532   \n",
       "MonographCirripediaVol2                                   0.026105   \n",
       "MovementClimbingPlants                                    0.009182   \n",
       "OriginofSpecies                                           0.068587   \n",
       "PowerMovementPlants                                       0.007632   \n",
       "VariationPlantsAnimalsDomestication                       0.102429   \n",
       "VolcanicIslands                                           0.008972   \n",
       "VoyageBeagle                                              0.111096   \n",
       "\n",
       "                                     FormationVegetableMould  \\\n",
       "Autobiography                                       0.036345   \n",
       "CoralReefs                                          0.024563   \n",
       "DescentofMan                                        0.021655   \n",
       "DifferentFormsofFlowers                             0.007992   \n",
       "EffectsCrossSelfFertilization                       0.050613   \n",
       "ExpressionofEmotionManAnimals                       0.022218   \n",
       "FormationVegetableMould                             1.000000   \n",
       "FoundationsOriginofSpecies                          0.030197   \n",
       "GeologicalObservationsSouthAmerica                  0.068289   \n",
       "InsectivorousPlants                                 0.038696   \n",
       "LifeandLettersVol1                                  0.022083   \n",
       "LifeandLettersVol2                                  0.013681   \n",
       "MonographCirripedia                                 0.021228   \n",
       "MonographCirripediaVol2                             0.020259   \n",
       "MovementClimbingPlants                              0.046877   \n",
       "OriginofSpecies                                     0.051476   \n",
       "PowerMovementPlants                                 0.035015   \n",
       "VariationPlantsAnimalsDomestication                 0.027003   \n",
       "VolcanicIslands                                     0.070414   \n",
       "VoyageBeagle                                        0.089779   \n",
       "\n",
       "                                     FoundationsOriginofSpecies  \\\n",
       "Autobiography                                          0.111600   \n",
       "CoralReefs                                             0.032292   \n",
       "DescentofMan                                           0.205272   \n",
       "DifferentFormsofFlowers                                0.065064   \n",
       "EffectsCrossSelfFertilization                          0.071902   \n",
       "ExpressionofEmotionManAnimals                          0.090094   \n",
       "FormationVegetableMould                                0.030197   \n",
       "FoundationsOriginofSpecies                             1.000000   \n",
       "GeologicalObservationsSouthAmerica                     0.055621   \n",
       "InsectivorousPlants                                    0.010982   \n",
       "LifeandLettersVol1                                     0.102124   \n",
       "LifeandLettersVol2                                     0.083169   \n",
       "MonographCirripedia                                    0.017577   \n",
       "MonographCirripediaVol2                                0.018184   \n",
       "MovementClimbingPlants                                 0.008005   \n",
       "OriginofSpecies                                        0.563717   \n",
       "PowerMovementPlants                                    0.010002   \n",
       "VariationPlantsAnimalsDomestication                    0.394778   \n",
       "VolcanicIslands                                        0.039327   \n",
       "VoyageBeagle                                           0.162723   \n",
       "\n",
       "                                     GeologicalObservationsSouthAmerica  \\\n",
       "Autobiography                                                  0.032091   \n",
       "CoralReefs                                                     0.059536   \n",
       "DescentofMan                                                   0.010239   \n",
       "DifferentFormsofFlowers                                        0.003249   \n",
       "EffectsCrossSelfFertilization                                  0.003620   \n",
       "ExpressionofEmotionManAnimals                                  0.008467   \n",
       "FormationVegetableMould                                        0.068289   \n",
       "FoundationsOriginofSpecies                                     0.055621   \n",
       "GeologicalObservationsSouthAmerica                             1.000000   \n",
       "InsectivorousPlants                                            0.010286   \n",
       "LifeandLettersVol1                                             0.029837   \n",
       "LifeandLettersVol2                                             0.014725   \n",
       "MonographCirripedia                                            0.016649   \n",
       "MonographCirripediaVol2                                        0.027082   \n",
       "MovementClimbingPlants                                         0.003041   \n",
       "OriginofSpecies                                                0.063496   \n",
       "PowerMovementPlants                                            0.003326   \n",
       "VariationPlantsAnimalsDomestication                            0.017375   \n",
       "VolcanicIslands                                                0.363119   \n",
       "VoyageBeagle                                                   0.229942   \n",
       "\n",
       "                                     InsectivorousPlants  LifeandLettersVol1  \\\n",
       "Autobiography                                   0.010602            0.365071   \n",
       "CoralReefs                                      0.002783            0.030400   \n",
       "DescentofMan                                    0.011903            0.055122   \n",
       "DifferentFormsofFlowers                         0.007473            0.011786   \n",
       "EffectsCrossSelfFertilization                   0.011076            0.013852   \n",
       "ExpressionofEmotionManAnimals                   0.016089            0.067533   \n",
       "FormationVegetableMould                         0.038696            0.022083   \n",
       "FoundationsOriginofSpecies                      0.010982            0.102124   \n",
       "GeologicalObservationsSouthAmerica              0.010286            0.029837   \n",
       "InsectivorousPlants                             1.000000            0.006057   \n",
       "LifeandLettersVol1                              0.006057            1.000000   \n",
       "LifeandLettersVol2                              0.016143            0.920022   \n",
       "MonographCirripedia                             0.028573            0.005969   \n",
       "MonographCirripediaVol2                         0.019544            0.016138   \n",
       "MovementClimbingPlants                          0.018854            0.006253   \n",
       "OriginofSpecies                                 0.019700            0.092987   \n",
       "PowerMovementPlants                             0.031367            0.006769   \n",
       "VariationPlantsAnimalsDomestication             0.009933            0.051153   \n",
       "VolcanicIslands                                 0.012788            0.030702   \n",
       "VoyageBeagle                                    0.021853            0.173153   \n",
       "\n",
       "                                     LifeandLettersVol2  MonographCirripedia  \\\n",
       "Autobiography                                  0.216410             0.008267   \n",
       "CoralReefs                                     0.016743             0.007221   \n",
       "DescentofMan                                   0.059323             0.058339   \n",
       "DifferentFormsofFlowers                        0.033858             0.010924   \n",
       "EffectsCrossSelfFertilization                  0.026570             0.005285   \n",
       "ExpressionofEmotionManAnimals                  0.043323             0.015532   \n",
       "FormationVegetableMould                        0.013681             0.021228   \n",
       "FoundationsOriginofSpecies                     0.083169             0.017577   \n",
       "GeologicalObservationsSouthAmerica             0.014725             0.016649   \n",
       "InsectivorousPlants                            0.016143             0.028573   \n",
       "LifeandLettersVol1                             0.920022             0.005969   \n",
       "LifeandLettersVol2                             1.000000             0.005408   \n",
       "MonographCirripedia                            0.005408             1.000000   \n",
       "MonographCirripediaVol2                        0.013701             0.508492   \n",
       "MovementClimbingPlants                         0.013636             0.010074   \n",
       "OriginofSpecies                                0.077933             0.037447   \n",
       "PowerMovementPlants                            0.006468             0.010743   \n",
       "VariationPlantsAnimalsDomestication            0.041807             0.027639   \n",
       "VolcanicIslands                                0.016929             0.023366   \n",
       "VoyageBeagle                                   0.094790             0.018486   \n",
       "\n",
       "                                     MonographCirripediaVol2  \\\n",
       "Autobiography                                       0.010858   \n",
       "CoralReefs                                          0.009818   \n",
       "DescentofMan                                        0.035520   \n",
       "DifferentFormsofFlowers                             0.006093   \n",
       "EffectsCrossSelfFertilization                       0.003854   \n",
       "ExpressionofEmotionManAnimals                       0.026105   \n",
       "FormationVegetableMould                             0.020259   \n",
       "FoundationsOriginofSpecies                          0.018184   \n",
       "GeologicalObservationsSouthAmerica                  0.027082   \n",
       "InsectivorousPlants                                 0.019544   \n",
       "LifeandLettersVol1                                  0.016138   \n",
       "LifeandLettersVol2                                  0.013701   \n",
       "MonographCirripedia                                 0.508492   \n",
       "MonographCirripediaVol2                             1.000000   \n",
       "MovementClimbingPlants                              0.008389   \n",
       "OriginofSpecies                                     0.038732   \n",
       "PowerMovementPlants                                 0.006728   \n",
       "VariationPlantsAnimalsDomestication                 0.031786   \n",
       "VolcanicIslands                                     0.024003   \n",
       "VoyageBeagle                                        0.025020   \n",
       "\n",
       "                                     MovementClimbingPlants  OriginofSpecies  \\\n",
       "Autobiography                                      0.024708         0.109757   \n",
       "CoralReefs                                         0.002176         0.033199   \n",
       "DescentofMan                                       0.006226         0.248614   \n",
       "DifferentFormsofFlowers                            0.008107         0.135715   \n",
       "EffectsCrossSelfFertilization                      0.024823         0.148573   \n",
       "ExpressionofEmotionManAnimals                      0.009182         0.068587   \n",
       "FormationVegetableMould                            0.046877         0.051476   \n",
       "FoundationsOriginofSpecies                         0.008005         0.563717   \n",
       "GeologicalObservationsSouthAmerica                 0.003041         0.063496   \n",
       "InsectivorousPlants                                0.018854         0.019700   \n",
       "LifeandLettersVol1                                 0.006253         0.092987   \n",
       "LifeandLettersVol2                                 0.013636         0.077933   \n",
       "MonographCirripedia                                0.010074         0.037447   \n",
       "MonographCirripediaVol2                            0.008389         0.038732   \n",
       "MovementClimbingPlants                             1.000000         0.012096   \n",
       "OriginofSpecies                                    0.012096         1.000000   \n",
       "PowerMovementPlants                                0.102101         0.014114   \n",
       "VariationPlantsAnimalsDomestication                0.012478         0.407264   \n",
       "VolcanicIslands                                    0.004479         0.042201   \n",
       "VoyageBeagle                                       0.016808         0.172341   \n",
       "\n",
       "                                     PowerMovementPlants  \\\n",
       "Autobiography                                   0.007847   \n",
       "CoralReefs                                      0.001783   \n",
       "DescentofMan                                    0.005965   \n",
       "DifferentFormsofFlowers                         0.013099   \n",
       "EffectsCrossSelfFertilization                   0.051774   \n",
       "ExpressionofEmotionManAnimals                   0.007632   \n",
       "FormationVegetableMould                         0.035015   \n",
       "FoundationsOriginofSpecies                      0.010002   \n",
       "GeologicalObservationsSouthAmerica              0.003326   \n",
       "InsectivorousPlants                             0.031367   \n",
       "LifeandLettersVol1                              0.006769   \n",
       "LifeandLettersVol2                              0.006468   \n",
       "MonographCirripedia                             0.010743   \n",
       "MonographCirripediaVol2                         0.006728   \n",
       "MovementClimbingPlants                          0.102101   \n",
       "OriginofSpecies                                 0.014114   \n",
       "PowerMovementPlants                             1.000001   \n",
       "VariationPlantsAnimalsDomestication             0.015372   \n",
       "VolcanicIslands                                 0.004146   \n",
       "VoyageBeagle                                    0.021397   \n",
       "\n",
       "                                     VariationPlantsAnimalsDomestication  \\\n",
       "Autobiography                                                   0.064358   \n",
       "CoralReefs                                                      0.011000   \n",
       "DescentofMan                                                    0.234201   \n",
       "DifferentFormsofFlowers                                         0.065080   \n",
       "EffectsCrossSelfFertilization                                   0.079113   \n",
       "ExpressionofEmotionManAnimals                                   0.102429   \n",
       "FormationVegetableMould                                         0.027003   \n",
       "FoundationsOriginofSpecies                                      0.394778   \n",
       "GeologicalObservationsSouthAmerica                              0.017375   \n",
       "InsectivorousPlants                                             0.009933   \n",
       "LifeandLettersVol1                                              0.051153   \n",
       "LifeandLettersVol2                                              0.041807   \n",
       "MonographCirripedia                                             0.027639   \n",
       "MonographCirripediaVol2                                         0.031786   \n",
       "MovementClimbingPlants                                          0.012478   \n",
       "OriginofSpecies                                                 0.407264   \n",
       "PowerMovementPlants                                             0.015372   \n",
       "VariationPlantsAnimalsDomestication                             1.000000   \n",
       "VolcanicIslands                                                 0.016284   \n",
       "VoyageBeagle                                                    0.139812   \n",
       "\n",
       "                                     VolcanicIslands  VoyageBeagle  \n",
       "Autobiography                               0.040054      0.188351  \n",
       "CoralReefs                                  0.051874      0.199120  \n",
       "DescentofMan                                0.009565      0.119284  \n",
       "DifferentFormsofFlowers                     0.004078      0.014512  \n",
       "EffectsCrossSelfFertilization               0.003497      0.024467  \n",
       "ExpressionofEmotionManAnimals               0.008972      0.111096  \n",
       "FormationVegetableMould                     0.070414      0.089779  \n",
       "FoundationsOriginofSpecies                  0.039327      0.162723  \n",
       "GeologicalObservationsSouthAmerica          0.363119      0.229942  \n",
       "InsectivorousPlants                         0.012788      0.021853  \n",
       "LifeandLettersVol1                          0.030702      0.173153  \n",
       "LifeandLettersVol2                          0.016929      0.094790  \n",
       "MonographCirripedia                         0.023366      0.018486  \n",
       "MonographCirripediaVol2                     0.024003      0.025020  \n",
       "MovementClimbingPlants                      0.004479      0.016808  \n",
       "OriginofSpecies                             0.042201      0.172341  \n",
       "PowerMovementPlants                         0.004146      0.021397  \n",
       "VariationPlantsAnimalsDomestication         0.016284      0.139812  \n",
       "VolcanicIslands                             1.000000      0.145329  \n",
       "VoyageBeagle                                0.145329      1.000000  "
      ]
     },
     "execution_count": 42,
     "metadata": {},
     "output_type": "execute_result"
    }
   ],
   "source": [
    "# Load the library allowing similarity computations\n",
    "from gensim import similarities\n",
    "\n",
    "# Compute the similarity matrix (pairwise distance between all texts)\n",
    "sims = similarities.MatrixSimilarity(model[bows])\n",
    "\n",
    "# Transform the resulting list into a dataframe\n",
    "sim_df = pd.DataFrame.from_records(list(sims))\n",
    "\n",
    "# Add the titles of the books as columns and index of the dataframe\n",
    "sim_df.columns = titles\n",
    "sim_df.index = titles\n",
    "# Print the resulting matrix\n",
    "sim_df"
   ]
  },
  {
   "cell_type": "markdown",
   "metadata": {
    "dc": {
     "key": "73"
    },
    "deletable": false,
    "editable": false,
    "run_control": {
     "frozen": true
    },
    "tags": [
     "context"
    ]
   },
   "source": [
    "## 11. The book most similar to \"On the Origin of Species\"\n",
    "<p>We now have a matrix containing all the similarity measures between any pair of books from Charles Darwin! We can now use this matrix to quickly extract the information we need, i.e., the distance between one book and one or several others. </p>\n",
    "<p>As a first step, we will display which books are the most similar to \"<em>On the Origin of Species</em>,\" more specifically we will produce a bar chart showing all books ranked by how similar they are to Darwin's landmark work.</p>"
   ]
  },
  {
   "cell_type": "code",
   "execution_count": 43,
   "metadata": {
    "dc": {
     "key": "73"
    },
    "tags": [
     "sample_code"
    ]
   },
   "outputs": [
    {
     "data": {
      "text/plain": [
       "Text(0.5, 1.0, 'Similar Books to Origin of the Species')"
      ]
     },
     "execution_count": 43,
     "metadata": {},
     "output_type": "execute_result"
    },
    {
     "data": {
      "image/png": "[encoded data removed]",
      "text/plain": [
       "<Figure size 432x288 with 1 Axes>"
      ]
     },
     "metadata": {
      "needs_background": "light"
     },
     "output_type": "display_data"
    }
   ],
   "source": [
    "# This is needed to display plots in a notebook\n",
    "%matplotlib inline\n",
    "\n",
    "# Import libraries\n",
    "import matplotlib.pyplot as plt\n",
    "\n",
    "# Select the column corresponding to \"On the Origin of Species\" and \n",
    "v = sim_df[\"OriginofSpecies\"]\n",
    "# Sort by ascending scores\n",
    "# v_sorted = sorted(v, reverse=True)\n",
    "v_sorted = v.sort_values(ascending = False)\n",
    "index = [v_sorted.index[i] for i in range(15)]\n",
    "# lab = [titles[i] for i in index]\n",
    "# print(lab)\n",
    "# v_sorted.rename(lambda x: titles[x])\n",
    "# # Plot this data has a horizontal bar plot\n",
    "# v_sorted = pd.DataFrame(v_sorted, index = lab)\n",
    "v_sorted.plot.barh()\n",
    "# # Modify the axes labels and plot title for a better readability\n",
    "plt.xlabel('Similarity Score')\n",
    "plt.ylabel('Book Index')\n",
    "plt.title('Similar Books to Origin of the Species')"
   ]
  },
  {
   "cell_type": "markdown",
   "metadata": {
    "dc": {
     "key": "80"
    },
    "deletable": false,
    "editable": false,
    "run_control": {
     "frozen": true
    },
    "tags": [
     "context"
    ]
   },
   "source": [
    "## 12. Which books have similar content?\n",
    "<p>This turns out to be extremely useful if we want to determine a given book's most similar work. For example, we have just seen that if you enjoyed \"<em>On the Origin of Species</em>,\" you can read books discussing similar concepts such as \"<em>The Variation of Animals and Plants under Domestication</em>\" or \"<em>The Descent of Man, and Selection in Relation to Sex</em>.\" If you are familiar with Darwin's work, these suggestions will likely seem natural to you. Indeed, <em>On the Origin of Species</em> has a whole chapter about domestication and <em>The Descent of Man, and Selection in Relation to Sex</em> applies the theory of natural selection to human evolution. Hence, the results make sense.</p>\n",
    "<p>However, we now want to have a better understanding of the big picture and see how Darwin's books are generally related to each other (in terms of topics discussed). To this purpose, we will represent the whole similarity matrix as a dendrogram, which is a standard tool to display such data. <strong>This last approach will display all the information about book similarities at once.</strong> For example, we can find a book's closest relative but, also, we can visualize which groups of books have similar topics (e.g., the cluster about Charles Darwin personal life with his autobiography and letters). If you are familiar with Darwin's bibliography, the results should not surprise you too much, which indicates the method gives good results. Otherwise, next time you read one of the author's book, you will know which other books to read next in order to learn more about the topics it addressed.</p>"
   ]
  },
  {
   "cell_type": "code",
   "execution_count": 44,
   "metadata": {
    "dc": {
     "key": "80"
    },
    "tags": [
     "sample_code"
    ]
   },
   "outputs": [
    {
     "data": {
      "image/png": "[encoded data removed]",
      "text/plain": [
       "<Figure size 432x288 with 1 Axes>"
      ]
     },
     "metadata": {
      "needs_background": "light"
     },
     "output_type": "display_data"
    }
   ],
   "source": [
    "# Import libraries\n",
    "from scipy.cluster import hierarchy\n",
    "\n",
    "# Compute the clusters from the similarity matrix,\n",
    "# using the Ward variance minimization algorithm\n",
    "Z = hierarchy.linkage(sim_df, method='ward')\n",
    "\n",
    "# Display this result as a horizontal dendrogram\n",
    "a = hierarchy.dendrogram(Z, leaf_font_size=8, labels=sim_df.index, orientation=\"left\")"
   ]
  },
  {
   "cell_type": "code",
   "execution_count": null,
   "metadata": {},
   "outputs": [],
   "source": []
  }
 ],
 "metadata": {
  "kernelspec": {
   "display_name": "Python 3",
   "language": "python",
   "name": "python3"
  },
  "language_info": {
   "codemirror_mode": {
    "name": "ipython",
    "version": 3
   },
   "file_extension": ".py",
   "mimetype": "text/x-python",
   "name": "python",
   "nbconvert_exporter": "python",
   "pygments_lexer": "ipython3",
   "version": "3.7.3"
  }
 },
 "nbformat": 4,
 "nbformat_minor": 2
}
